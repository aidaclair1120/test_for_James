{
  "nbformat": 4,
  "nbformat_minor": 0,
  "metadata": {
    "colab": {
      "provenance": [],
      "authorship_tag": "ABX9TyMNeHrcZnn167eZ0FiWRXuw",
      "include_colab_link": true
    },
    "kernelspec": {
      "name": "python3",
      "display_name": "Python 3"
    },
    "language_info": {
      "name": "python"
    }
  },
  "cells": [
    {
      "cell_type": "markdown",
      "metadata": {
        "id": "view-in-github",
        "colab_type": "text"
      },
      "source": [
        "<a href=\"https://colab.research.google.com/github/aidaclair1120/test_for_James/blob/main/Untitled0.ipynb\" target=\"_parent\"><img src=\"https://colab.research.google.com/assets/colab-badge.svg\" alt=\"Open In Colab\"/></a>"
      ]
    },
    {
      "cell_type": "code",
      "execution_count": null,
      "metadata": {
        "colab": {
          "base_uri": "https://localhost:8080/"
        },
        "id": "FvBkKTMYl1Mi",
        "outputId": "b962a9c5-ab5d-44c1-e0bb-4eafc35204b5"
      },
      "outputs": [
        {
          "output_type": "stream",
          "name": "stdout",
          "text": [
            "Enter your first name:Bob\n",
            "Enter your last name:Brown\n",
            "My name is Bob Brown\n"
          ]
        }
      ],
      "source": [
        "first_name = input(\"Enter your first name:\")\n",
        "last_name = input(\"Enter your last name:\")\n",
        "print(\"My name is \" + first_name + \" \" + last_name)"
      ]
    },
    {
      "cell_type": "code",
      "source": [
        "def start():\n",
        "  while True:\n",
        "    try:\n",
        "      choice = input(\"How would you like to input your data? (Import/Manually): \")\n",
        "      if choice.lower() == \"manually\" or choice.lower() == \"m\":\n",
        "        #call command \"m\"\n",
        "        break\n",
        "      elif choice.lower() == \"import\" or choice.lower() == \"i\":\n",
        "        #call command \"i\"\n",
        "        break\n",
        "      else:\n",
        "        raise ValueError(f\"Incorrect input, please try again {choice}\")\n",
        "    except ValueError as e:\n",
        "      print(e)\n",
        "  #call command \"d\"\n",
        "  finish(person, diet)\n",
        "\n",
        "\n",
        "def finish(person, diet):\n",
        "  while True:\n",
        "    try:\n",
        "      choice = input(\"Would you like to export, display, restart or quit?: \")\n",
        "      if choice.lower() == \"restart\" or choice.lower() == \"r\":\n",
        "        start()\n",
        "      elif choice.lower() == \"export\" or choice.lower() == \"e\":\n",
        "        #call command \"e\"\n",
        "      elif choice.lower() == \"display\" or choice.lower() == \"d\":\n",
        "        #call command \"d\"\n",
        "      elif choice.lower() == \"quit\" or choice.lower() == \"q\":\n",
        "        #call command \"q\"\n",
        "      else:\n",
        "        raise ValueError(\"Incorrect input, please try again\")\n",
        "    except ValueError as e:\n",
        "      print(e)"
      ],
      "metadata": {
        "id": "JEvY-62t1h_B"
      },
      "execution_count": null,
      "outputs": []
    },
    {
      "cell_type": "code",
      "source": [
        "\n",
        "def removeAllergies(allergies, tempList):\n",
        "  for i in range(len(Recommender.knownAllergies)):\n",
        "    if Recommender.knownAllergies[i][0] in allergies:\n",
        "      for allergy in Recommender.knownAllergies[i]:\n",
        "        #search tempVegetableList and remove any item with that keyword\n",
        "        for vegetable in tempList:\n",
        "          if allergy in vegetable:\n",
        "            tempList.remove(vegetable)\n",
        "  return tempList\n",
        "\n",
        "def addPreferences(preferences, tempList, newList):\n",
        "  for preference in preferences:\n",
        "      for vegetable in tempList:\n",
        "        if preference in vegetable:\n",
        "          newList.append(vegetable)\n",
        "          tempList.remove(vegetable)\n",
        "  return tempList, newList\n",
        "\n",
        "def adjustListLength(servings, tempList, newList):\n",
        "  try:\n",
        "    randomIndex = random.sample(range(len(tempList)), (servings-len(newList)))\n",
        "    for i in randomIndex:\n",
        "      newList.append(Food.vegetables[i])\n",
        "  except:\n",
        "    removeAmount = (len(newList)-servings)\n",
        "    for j in range(removeAmount):\n",
        "      newList.pop()\n",
        "  return newList"
      ],
      "metadata": {
        "id": "69KUPdSOVgNn"
      },
      "execution_count": null,
      "outputs": []
    },
    {
      "cell_type": "code",
      "source": [
        "\n",
        "allergies = []\n",
        "\n",
        "class Food:\n",
        "  def __init__(self):\n",
        "    pass\n",
        "\n",
        "def getServingSize(food, age, gender, pregnant = False, bfeeding = False):\n",
        "  print(food)\n",
        "  if age < 2 or age > 120:\n",
        "    return -1\n",
        "  elif gender == \"male\":\n",
        "    #0 = Male 2-3yrs old\n",
        "    if age < 4:\n",
        "      return food.servings_per_age[0]\n",
        "    #1 = Male 4-8yrs old\n",
        "    elif age < 9:\n",
        "      return food.servings_per_age[1]\n",
        "    #2 = Male 9-11yrs old\n",
        "    elif age < 12:\n",
        "      return food.servings_per_age[2]\n",
        "    #3 = Male 12-13yrs old\n",
        "    elif age < 14:\n",
        "      return food.servings_per_age[3]\n",
        "    #4 = Male 14-18yrs old\n",
        "    elif age < 19:\n",
        "      return food.servings_per_age[4]\n",
        "    #5 = Male 19-50yrs old\n",
        "    elif age < 51:\n",
        "      return food.servings_per_age[5]\n",
        "    #6 = Male 51-70yrs old\n",
        "    elif age < 71:\n",
        "      return food.servings_per_age[6]\n",
        "    #7 = Male 70-120yrs old\n",
        "    elif age < 121:\n",
        "      return food.servings_per_age[7]\n",
        "  elif gender == \"female\":\n",
        "    #16 = Pregnant Female 12-18yrs old\n",
        "    if pregnant == True and age < 19:\n",
        "      return food.servings_per_age[16]\n",
        "    #17 = Pregnant Female 19-55yrs old\n",
        "    elif pregnant == True and age > 18:\n",
        "      return food.servings_per_age[17]\n",
        "    #18 = Breastfeeding Female 12-18yrs old\n",
        "    elif bfeeding == True and age < 19:\n",
        "      return food.servings_per_age[18]\n",
        "    #19 = Breastfeeding Female 19-55yrs old\n",
        "    elif bfeeding == True and age > 18:\n",
        "      return food.servings_per_age[19]\n",
        "    #8 = Female 2-3yrs old\n",
        "    elif age < 4:\n",
        "      return food.servings_per_age[8]\n",
        "    #9 = Female 4-8yrs old\n",
        "    elif age < 9:\n",
        "      return food.servings_per_age[9]\n",
        "    #10 = Female 9-11yrs old\n",
        "    elif age < 12:\n",
        "      return food.servings_per_age[10]\n",
        "    #11 = Female 12-13yrs old\n",
        "    elif age < 14:\n",
        "      return food.servings_per_age[11]\n",
        "    #12 = Female 14-18yrs old\n",
        "    elif age < 19:\n",
        "      return food.servings_per_age[12]\n",
        "    #13 = Female 19-50yrs old\n",
        "    elif age < 51:\n",
        "      return food.servings_per_age[13]\n",
        "    #14 = Female 51-70yrs old\n",
        "    elif age < 71:\n",
        "      return food.servings_per_age[14]\n",
        "    #15 = Female 71-120yrs old\n",
        "    elif age < 19:\n",
        "      return food.servings_per_age[15]\n",
        "\n",
        "\n",
        "\n",
        "\n",
        "grainFoods = Food\n",
        "meat = Food\n",
        "dairy = Food\n",
        "\n",
        "class Vegetables(Food):\n",
        "  def __init__(self):\n",
        "    self.vegetables_per_age = [\n",
        "      #0 = Male 2-3yrs old\n",
        "      2.5,\n",
        "      #1 = Male 4-8yrs old\n",
        "      4.5,\n",
        "      #2 = Male 9-11yrs old\n",
        "      5,\n",
        "      #3 = Male 12-13yrs old\n",
        "      5.5,\n",
        "      #4 = Male 14-18yrs old\n",
        "      5.5,\n",
        "      #5 = Male 19-50yrs old\n",
        "      6,\n",
        "      #6 = Male 51-70yrs old\n",
        "      5.5,\n",
        "      #7 = Male 70-120yrs old\n",
        "      5,\n",
        "      #8 = Female 2-3yrs old\n",
        "      2.5,\n",
        "      #9 = Female 4-8yrs old\n",
        "      4.5,\n",
        "      #10 = Female 9-11yrs old\n",
        "      5,\n",
        "      #11 = Female 12-13yrs old\n",
        "      5,\n",
        "      #12 = Female 14-18yrs old\n",
        "      5,\n",
        "      #13 = Female 19-50yrs old\n",
        "      5,\n",
        "      #14 = Female 51-70yrs old\n",
        "      5,\n",
        "      #15 = Female 71-120yrs old\n",
        "      5,\n",
        "      #16 = Pregnant Female 12-18yrs old\n",
        "      5,\n",
        "      #17 = Pregnant Female 19-55yrs old\n",
        "      5,\n",
        "      #18 = Breastfeeding Female 12-18yrs old\n",
        "      5.5,\n",
        "      #19 = Breastfeeding Female 19-55yrs old\n",
        "      7.5\n",
        "    ]\n",
        "    self.vegetable_suggestions = [\n",
        "      \"0.5 cup of cooked green or orange vegetables (for example, broccoli, spinach, carrots or pumpkin)\",\n",
        "      \"0.5 cup of cooked dried or canned beans, peas or lentils (preferably with no added salt)\",\n",
        "      \"1 cup of green leafy or raw salad vegetables\",\n",
        "      \"0.5 cup of sweet corn\",\n",
        "      \"0.5 medium potato or other starchy vegetables (sweet potato, taro or cassava)\",\n",
        "      \"1 medium tomato\"\n",
        "    ]\n",
        "\n",
        "\n",
        "class Fruit(Food):\n",
        "  def __init__(self):\n",
        "    Fruit.servings_per_age = [\n",
        "      #0 = Male 2-3yrs old\n",
        "      1,\n",
        "      #1 = Male 4-8yrs old\n",
        "      1.5,\n",
        "      #2 = Male 9-11yrs old\n",
        "      2,\n",
        "      #3 = Male 12-13yrs old\n",
        "      2,\n",
        "      #4 = Male 14-18yrs old\n",
        "      2,\n",
        "      #5 = Male 19-50yrs old\n",
        "      2,\n",
        "      #6 = Male 51-70yrs old\n",
        "      2,\n",
        "      #7 = Male 70-120yrs old\n",
        "      2,\n",
        "      #8 = Female 2-3yrs old\n",
        "      1,\n",
        "      #9 = Female 4-8yrs old\n",
        "      1.5,\n",
        "      #10 = Female 9-11yrs old\n",
        "      2,\n",
        "      #11 = Female 12-13yrs old\n",
        "      2,\n",
        "      #12 = Female 14-18yrs old\n",
        "      2,\n",
        "      #13 = Female 19-50yrs old\n",
        "      2,\n",
        "      #14 = Female 51-70yrs old\n",
        "      2,\n",
        "      #15 = Female 71-120yrs old\n",
        "      2,\n",
        "      #16 = Pregnant Female 12-18yrs old\n",
        "      2,\n",
        "      #17 = Pregnant Female 19-55yrs old\n",
        "      2,\n",
        "      #18 = Breastfeeding Female 12-18yrs old\n",
        "      2,\n",
        "      #19 = Breastfeeding Female 19-55yrs old\n",
        "      2\n",
        "    ]\n",
        "    Fruit.serving_suggestions = [\n",
        "      \"1 medium apple, banana, orange or pear\",\n",
        "      \"2 small apricots, kiwi fruits or plums\",\n",
        "      \"1 cup of diced or canned fruit (no added sugar)\",\n",
        "      \"0.5 cup of fruit juice (no added sugar)\",\n",
        "      \"4 dried apricot halves\",\n",
        "      \"10.5 tablespoons of sultanas\"\n",
        "    ]\n",
        "\n",
        "\n",
        "\n",
        "grainFoods.servings_per_age = [\n",
        "  #0 = Male 2-3yrs old\n",
        "  4,\n",
        "  #1 = Male 4-8yrs old\n",
        "  4,\n",
        "  #2 = Male 9-11yrs old\n",
        "  5,\n",
        "  #3 = Male 12-13yrs old\n",
        "  6,\n",
        "  #4 = Male 14-18yrs old\n",
        "  7,\n",
        "  #5 = Male 19-50yrs old\n",
        "  6,\n",
        "  #6 = Male 51-70yrs old\n",
        "  6,\n",
        "  #7 = Male 70-120yrs old\n",
        "  4.5,\n",
        "  #8 = Female 2-3yrs old\n",
        "  4,\n",
        "  #9 = Female 4-8yrs old\n",
        "  4,\n",
        "  #10 = Female 9-11yrs old\n",
        "  4,\n",
        "  #11 = Female 12-13yrs old\n",
        "  5,\n",
        "  #12 = Female 14-18yrs old\n",
        "  7,\n",
        "  #13 = Female 19-50yrs old\n",
        "  6,\n",
        "  #14 = Female 51-70yrs old\n",
        "  4,\n",
        "  #15 = Female 71-120yrs old\n",
        "  3,\n",
        "  #16 = Pregnant Female 12-18yrs old\n",
        "  8,\n",
        "  #17 = Pregnant Female 19-55yrs old\n",
        "  8.5,\n",
        "  #18 = Breastfeeding Female 12-18yrs old\n",
        "  9,\n",
        "  #19 = Breastfeeding Female 19-55yrs old\n",
        "  9\n",
        "]\n",
        "\n",
        "meat.servings_per_age = [\n",
        "  #0 = Male 2-3yrs old\n",
        "  1,\n",
        "  #1 = Male 4-8yrs old\n",
        "  1.5,\n",
        "  #2 = Male 9-11yrs old\n",
        "  2.5,\n",
        "  #3 = Male 12-13yrs old\n",
        "  3.5,\n",
        "  #4 = Male 14-18yrs old\n",
        "  3.5,\n",
        "  #5 = Male 19-50yrs old\n",
        "  2.5,\n",
        "  #6 = Male 51-70yrs old\n",
        "  2.5,\n",
        "  #7 = Male 70-120yrs old\n",
        "  2.5,\n",
        "  #8 = Female 2-3yrs old\n",
        "  1,\n",
        "  #9 = Female 4-8yrs old\n",
        "  1.5,\n",
        "  #10 = Female 9-11yrs old\n",
        "  2.5,\n",
        "  #11 = Female 12-13yrs old\n",
        "  2.5,\n",
        "  #12 = Female 14-18yrs old\n",
        "  2.5,\n",
        "  #13 = Female 19-50yrs old\n",
        "  2.5,\n",
        "  #14 = Female 51-70yrs old\n",
        "  2,\n",
        "  #15 = Female 71-120yrs old\n",
        "  2,\n",
        "  #16 = Pregnant Female 12-18yrs old\n",
        "  3.5,\n",
        "  #17 = Pregnant Female 19-55yrs old\n",
        "  3.5,\n",
        "  #18 = Breastfeeding Female 12-18yrs old\n",
        "  2.5,\n",
        "  #19 = Breastfeeding Female 19-55yrs old\n",
        "  2.5\n",
        "]\n",
        "\n",
        "dairy.servings_per_age = [\n",
        "  #0 = Male 2-3yrs old\n",
        "  1.5,\n",
        "  #1 = Male 4-8yrs old\n",
        "  2,\n",
        "  #2 = Male 9-11yrs old\n",
        "  2.5,\n",
        "  #3 = Male 12-13yrs old\n",
        "  6,\n",
        "  #4 = Male 14-18yrs old\n",
        "  7,\n",
        "  #5 = Male 19-50yrs old\n",
        "  6,\n",
        "  #6 = Male 51-70yrs old\n",
        "  6,\n",
        "  #7 = Male 70-120yrs old\n",
        "  3.5,\n",
        "  #8 = Female 2-3yrs old\n",
        "  1.5,\n",
        "  #9 = Female 4-8yrs old\n",
        "  1.5,\n",
        "  #10 = Female 9-11yrs old\n",
        "  3,\n",
        "  #11 = Female 12-13yrs old\n",
        "  3.5,\n",
        "  #12 = Female 14-18yrs old\n",
        "  3.5,\n",
        "  #13 = Female 19-50yrs old\n",
        "  2.5,\n",
        "  #14 = Female 51-70yrs old\n",
        "  4,\n",
        "  #15 = Female 71-120yrs old\n",
        "  4,\n",
        "  #16 = Pregnant Female 12-18yrs old\n",
        "  3.5,\n",
        "  #17 = Pregnant Female 19-55yrs old\n",
        "  2.5,\n",
        "  #18 = Breastfeeding Female 12-18yrs old\n",
        "  4,\n",
        "  #19 = Breastfeeding Female 19-55yrs old\n",
        "  2.5\n",
        "]\n",
        "\n",
        "\n",
        "\n",
        "\n",
        "\n",
        "\n",
        "grainFoods.serving_suggestions = [\n",
        "  \"1 slice of bread\",\n",
        "  \"0.5 medium roll or flat bread\",\n",
        "  \"0.5 cup of cooked rice, pasta, noodles, barley, buckwheat, semolina, polenta, bulgur or quinoa\",\n",
        "  \"0.5 cup of cooked porridge\",\n",
        "  \"²/³ cup of wheat cereal flakes\",\n",
        "  \"¼ cup of muesli\",\n",
        "  \"3 crispbreads\",\n",
        "  \"1 crumpet\",\n",
        "  \"1 small (35g) English muffin or scone\"\n",
        "]\n",
        "\n",
        "meat.serving_suggestions = [\n",
        "  \"65g cooked lean red meats such as beef, lamb, veal, pork, goat or kangaroo (about 90-100g raw)\",\n",
        "  \"80g cooked lean poultry such as chicken or turkey (100g raw)\",\n",
        "  \"100g cooked fish fillet (about 115g raw) or one small can of fish\",\n",
        "  \"2 large (120g) eggs\",\n",
        "  \"1 cup (150g) cooked or canned legumes/beans such as lentils, chick peas or split peas (preferably with no added salt)\",\n",
        "  \"170g tofu\",\n",
        "  \"30g nuts, seeds, peanut or almond butter or tahini or other nut or seed paste\"\n",
        "]\n",
        "\n",
        "dairy.serving_suggestions = [\n",
        "  \"1 cup (250ml) fresh, UHT long life, reconstituted powdered milk or buttermilk\",\n",
        "  \"0.5 cup (120ml) evaporated milk\",\n",
        "  \"2 slices (40g) or 4 x 3 x 2cm cube (40g) of hard cheese, such as cheddar\",\n",
        "  \"0.5 cup (120g) ricotta cheese\",\n",
        "  \"¾ cup (200g) yoghurt\",\n",
        "  \"1 cup (250ml) soy, rice or other cereal drink with at least 100mg of added calcium per 100ml\"\n",
        "  \"100g almonds with skin\",\n",
        "  \"60g sardines, canned in water\",\n",
        "  \"0.5 cup (100g) canned pink salmon with bones\",\n",
        "  \"100g firm tofu (check the label as calcium levels vary)\"\n",
        "]\n",
        "\n",
        "\n",
        "\n",
        "\n",
        "\n",
        "def getAge():\n",
        "  while True:\n",
        "    age = input(\"Please enter your age: \")\n",
        "    if age == \"\":\n",
        "      print(\"Answer cannot be blank\")\n",
        "    if age.isdigit():\n",
        "      age = int(age)\n",
        "      if age > 1 and age < 121:\n",
        "        break\n",
        "      else:\n",
        "        print(\"age outside of range, please enter a number between 2 and 120\")\n",
        "    else:\n",
        "      print(\"Incorrect value, please enter a number between 2 and 120\")\n",
        "  return age\n",
        "\n",
        "def getGender():\n",
        "  while True:\n",
        "    gender = input(\"Please enter your gender (Male/Female): \")\n",
        "    if gender.lower() == \"male\" or gender.lower() == \"m\":\n",
        "      gender = \"male\"\n",
        "      break\n",
        "    elif gender.lower() == \"female\" or gender.lower() == \"f\":\n",
        "      gender = \"female\"\n",
        "      break\n",
        "    else:\n",
        "      print(\"Incorrect input, please try again\")\n",
        "  return gender\n",
        "\n",
        "\n",
        "\n",
        "def getPregnant():\n",
        "  isPregnant = False\n",
        "  while True:\n",
        "    pregnant_input = input(\"Are you currently pregnant (Yes/No): \")\n",
        "    if pregnant_input.lower() == \"yes\" or pregnant_input.lower() == \"y\" or pregnant_input.lower() == \"true\":\n",
        "      isPregnant = True\n",
        "      break\n",
        "    elif pregnant_input.lower() == \"no\" or pregnant_input.lower() == \"n\" or pregnant_input.lower() == \"false\":\n",
        "      isPregnant = False\n",
        "      break\n",
        "    else:\n",
        "      print(\"Incorrect input, please try again\")\n",
        "  return isPregnant\n",
        "\n",
        "\n",
        "\n",
        "def getBreastfeeding():\n",
        "  isBreastfeeding = False\n",
        "  while True:\n",
        "    bfeeding_input = input(\"Are you currently breastfeeding (Yes/No): \")\n",
        "    if bfeeding_input.lower() == \"yes\" or bfeeding_input.lower() == \"y\" or bfeeding_input.lower() == \"true\":\n",
        "      isBreastfeeding = True\n",
        "      break\n",
        "    elif bfeeding_input.lower() == \"no\" or bfeeding_input.lower() == \"n\" or bfeeding_input.lower() == \"false\":\n",
        "      isBreastfeeding = False\n",
        "      break\n",
        "    else:\n",
        "      print(\"Incorrect input, please try again\")\n",
        "  return isBreastfeeding\n",
        "\n",
        "def getPreference():\n",
        "  preference = []\n",
        "  while True:\n",
        "    prompt_preference = input(\"Do you have any dietry preferences? (Yes/No): \")\n",
        "    if prompt_preference.lower() == \"no\" or prompt_preference.lower() == \"n\" or prompt_preference.lower() == \"false\":\n",
        "      break\n",
        "    elif prompt_preference.lower() == \"yes\" or prompt_preference.lower() == \"y\" or prompt_preference.lower() == \"true\":\n",
        "      while True:\n",
        "        add_preference = input(\"Please enter your first preference (or type 'no' to skip): \")\n",
        "        if add_preference.lower() == \"no\":\n",
        "          break\n",
        "        #elif: check preference exists in serving examples\n",
        "          #if yes, append to preference and break\n",
        "        #else:\n",
        "          #print(\"sorry that preference does not exist in our database, please try another one\")\n",
        "\n",
        "      if preference == []:\n",
        "        break\n",
        "      while True:\n",
        "        add_preference = input(\"Please enter your next preference (or type 'no' to skip): \")\n",
        "        if add_preference.lower() == \"no\":\n",
        "          break\n",
        "        #elif: check preference exists in serving examples\n",
        "          #if yes, append to preference and break\n",
        "        #else:\n",
        "          #print(\"sorry that preference does not exist in our database, please try another one\")\n",
        "      break\n",
        "    else:\n",
        "      print(\"Incorrect input, please try again\")\n",
        "  return preference\n",
        "\n",
        "\n",
        "class Person:\n",
        "  def __init__(self, age, gender, isPregnant, isBreastfeeding, preference, allergies):\n",
        "    self.age = age\n",
        "    self.gender = gender\n",
        "    self.isPregnant = isPregnant\n",
        "    self.isBreastfeeding = isBreastfeeding\n",
        "    self.preference = preference\n",
        "    self.allergies = allergies\n",
        "\n",
        "  def __str__(self):\n",
        "    output = f'''\n",
        "    age is {self.age}\n",
        "    gender is {self.gender}\n",
        "    pregnant? = {self.isPregnant}\n",
        "    breastfeeding? = {self.isBreastfeeding}\n",
        "    preferences = {self.preference}\n",
        "\n",
        "    allergies = {self.allergies}\n",
        "    '''\n",
        "    return output\n",
        "\n",
        "\n",
        "\n",
        "def manualEntry():\n",
        "  isPregnant = False\n",
        "  isBreastfeeding = False\n",
        "  age = getAge()\n",
        "  gender = getGender()\n",
        "  if gender == \"female\" and age > 12 and age < 55:\n",
        "    isPregnant = getPregnant()\n",
        "    if isPregnant == False:\n",
        "      isBreastfeeding = getBreastfeeding()\n",
        "  preference = getPreference()\n",
        "  return Person(age, gender, isPregnant, isBreastfeeding, preference, allergies)\n",
        "\n",
        "#person = manualEntry()\n",
        "person = Person(21, \"male\", False, False, [], [])\n",
        "print(person)\n",
        "\n",
        "\n",
        "\n",
        "\n",
        "vegetables = Vegetables\n",
        "fruit = Fruit\n",
        "\n",
        "print(f\"fruit 2yr old boy is {fruit.servings_per_age[0]} (should be 1)\")\n",
        "print(f\"the recommended amount of vegies for this person is: {getServingSize(vegetables, person.age, person.gender, person.isPregnant, person.isBreastfeeding)}\")\n",
        "print(f\"the recommended amount of fruit for this person is: {getServingSize(fruit, person.age, person.gender, person.isPregnant, person.isBreastfeeding)}\")\n",
        "print(f\"the recommended amount of grainFoods for this person is: {getServingSize(grainFoods, person.age, person.gender, person.isPregnant, person.isBreastfeeding)}\")\n",
        "print(f\"the recommended amount of meat for this person is: {getServingSize(meat, person.age, person.gender, person.isPregnant, person.isBreastfeeding)}\")\n",
        "print(f\"the recommended amount of dairy for this person is: {getServingSize(dairy, person.age, person.gender, person.isPregnant, person.isBreastfeeding)}\")"
      ],
      "metadata": {
        "colab": {
          "base_uri": "https://localhost:8080/"
        },
        "id": "fI0J_LTYuhAM",
        "outputId": "0391e56d-0760-4a19-839b-589613bc9abf"
      },
      "execution_count": null,
      "outputs": [
        {
          "output_type": "stream",
          "name": "stdout",
          "text": [
            "\n",
            "    age is 21\n",
            "    gender is male\n",
            "    pregnant? = False\n",
            "    breastfeeding? = False\n",
            "    preferences = []\n",
            "\n",
            "    allergies = []\n",
            "    \n",
            "fruit 2yr old boy is 1.5 (should be 1)\n",
            "<class '__main__.Vegetables'>\n",
            "the recommended amount of vegies for this person is: 6\n",
            "<class '__main__.Fruit'>\n",
            "the recommended amount of fruit for this person is: 6\n",
            "<class '__main__.Food'>\n",
            "the recommended amount of grainFoods for this person is: 6\n",
            "<class '__main__.Food'>\n",
            "the recommended amount of meat for this person is: 6\n",
            "<class '__main__.Food'>\n",
            "the recommended amount of dairy for this person is: 6\n"
          ]
        }
      ]
    },
    {
      "cell_type": "code",
      "source": [
        "nua"
      ],
      "metadata": {
        "id": "Kbqs0ZA4gNHt"
      },
      "execution_count": null,
      "outputs": []
    },
    {
      "cell_type": "code",
      "source": [
        "n"
      ],
      "metadata": {
        "id": "CT-G1Jc8hcaT"
      },
      "execution_count": null,
      "outputs": []
    },
    {
      "cell_type": "code",
      "source": [
        "nuall"
      ],
      "metadata": {
        "id": "K7phwkmes83c"
      },
      "execution_count": null,
      "outputs": []
    },
    {
      "cell_type": "code",
      "source": [
        "import re\n",
        "import random\n",
        "\n",
        "class Food:\n",
        "  vegetables = [\n",
        "      \"0.5 cup of cooked broccoli\",\n",
        "      \"0.5 cup of cooked spinach\",\n",
        "      \"0.5 cup of cooked carrots\",\n",
        "      \"0.5 cup of cooked pumpkin\",\n",
        "      \"0.5 cup of cooked, dried or canned beans, peas or lentils (preferably with no added salt)\",\n",
        "      \"1 cup of green leafy or raw salad vegetables\",\n",
        "      \"0.5 cup of sweet corn\",\n",
        "      \"0.5 medium potato or other starchy vegetables (sweet potato, taro or cassava)\",\n",
        "      \"1 medium tomato\"\n",
        "    ]\n",
        "  fruit = [\n",
        "      \"1 medium apple\",\n",
        "      \"1 medium banana\",\n",
        "      \"1 medium orange\",\n",
        "      \"1 medium pear\",\n",
        "      \"2 small apricots\",\n",
        "      \"2 small kiwi fruits\",\n",
        "      \"2 small plums\",\n",
        "      \"1 cup of diced or canned fruit (no added sugar)\",\n",
        "      \"0.5 cup of fruit juice (no added sugar)\",\n",
        "      \"4 dried apricot halves\",\n",
        "      \"10.5 tablespoons of sultanas\"\n",
        "    ]\n",
        "  grainFoods = [\n",
        "      \"1 slice of bread\",\n",
        "      \"0.5 medium roll or flat bread\",\n",
        "      \"0.5 cup of cooked rice\",\n",
        "      \"0.5 cup of cooked pasta\",\n",
        "      \"0.5 cup of cooked noodles\",\n",
        "      \"0.5 cup of cooked barley\",\n",
        "      \"0.5 cup of cooked buckwheat\",\n",
        "      \"0.5 cup of cooked semolina\",\n",
        "      \"0.5 cup of cooked polenta\",\n",
        "      \"0.5 cup of cooked bulgur\",\n",
        "      \"0.5 cup of cooked quinoa\",\n",
        "      \"0.5 cup of cooked porridge\",\n",
        "      \"227g of wheat cereal flakes\",\n",
        "      \"57g of muesli\",\n",
        "      \"3 crispbreads\",\n",
        "      \"1 crumpet\",\n",
        "      \"1 small (35g) English muffin or scone\"\n",
        "    ]\n",
        "  meat = [\n",
        "      \"65g cooked lean red meats such as beef\",\n",
        "      \"65g cooked lean red meats such as lamb\",\n",
        "      \"65g cooked lean red meats such as veal\",\n",
        "      \"65g cooked lean red meats such as pork\",\n",
        "      \"65g cooked lean red meats such as goat\",\n",
        "      \"65g cooked lean red meats such as kangaroo (about 90-100g raw)\",\n",
        "      \"80g cooked lean poultry such as chicken or turkey (100g raw)\",\n",
        "      \"100g cooked fish fillet (about 115g raw) or one small can of fish\",\n",
        "      \"120g of eggs\",\n",
        "      \"150g cooked or canned legumes/beans such as lentils (preferably with no added salt)\",\n",
        "      \"150g cooked or canned legumes/beans such as chick peas (preferably with no added salt)\",\n",
        "      \"150g cooked or canned legumes/beans such as split peas (preferably with no added salt)\",\n",
        "      \"170g of tofu\",\n",
        "      \"30g nuts, seeds, peanut or almond butter or tahini or other nut or seed paste\"\n",
        "    ]\n",
        "  dairy = [\n",
        "      \"250ml fresh milk\",\n",
        "      \"250ml UHT long life milk\",\n",
        "      \"250ml reconstituted powdered milk\",\n",
        "      \"250ml buttermilk\",\n",
        "      \"120ml evaporated milk\",\n",
        "      \"40g of hard cheese, such as cheddar\",\n",
        "      \"120g ricotta cheese\",\n",
        "      \"200g yoghurt\",\n",
        "      \"100g almonds with skin\",\n",
        "      \"60g sardines, canned in water\",\n",
        "      \"100g canned pink salmon with bones\",\n",
        "      \"100g firm tofu (check the label as calcium levels vary)\"\n",
        "    ]\n",
        "\n",
        "class Person:\n",
        "  def __init__(self, age, gender, pregnant, bfeeding, preferences, allergies):\n",
        "    self.age = age\n",
        "    self.gender = gender\n",
        "    self.pregnant = pregnant\n",
        "    self.bfeeding = bfeeding\n",
        "    self.preferences = preferences\n",
        "    self.allergies = allergies\n",
        "\n",
        "  def getValues(self):\n",
        "    return [self.age, self.gender, self.pregnant, self.bfeeding, self.preferences, self.allergies]\n",
        "\n",
        "  def __str__(self):\n",
        "    response = \"[\" + str(self.age) + \", \" + str(self.gender) + \", \" + str(self.pregnant) + \", \" + str(self.bfeeding) + \", \" + str(self.preferences) + \", \" + str(self.allergies) + \"]\"\n",
        "    return response\n",
        "\n",
        "class DietryRequirements:\n",
        "  def getRequirements(age, gender, pregnant, bfeeding):\n",
        "    if age < 2 or age > 120:\n",
        "      return -1\n",
        "    elif gender == \"male\":\n",
        "      #0 = Male 2-3yrs old\n",
        "      if age < 4:\n",
        "        return [2.5, 1, 4, 1, 1.5]\n",
        "      #1 = Male 4-8yrs old\n",
        "      elif age < 9:\n",
        "        return [4.5, 1.5, 4, 1.5, 2]\n",
        "      #2 = Male 9-11yrs old\n",
        "      elif age < 12:\n",
        "        return [5, 2, 5, 2.5, 2.5]\n",
        "      #3 = Male 12-13yrs old\n",
        "      elif age < 14:\n",
        "        return [5.5, 2, 6, 2.5, 3.5]\n",
        "      #4 = Male 14-18yrs old\n",
        "      elif age < 19:\n",
        "        return [5.5, 2, 7, 2.5, 3.5]\n",
        "      #5 = Male 19-50yrs old\n",
        "      elif age < 51:\n",
        "        return [6, 2, 6, 3, 2.5]\n",
        "      #6 = Male 51-70yrs old\n",
        "      elif age < 71:\n",
        "        return [5.5, 2, 6, 2.5, 2.5]\n",
        "      #7 = Male 70-120yrs old\n",
        "      elif age < 121:\n",
        "        return [5, 2, 4.5, 2.5, 3.5]\n",
        "    elif gender == \"female\":\n",
        "      #16 = Pregnant Female 12-18yrs old\n",
        "      if pregnant == True and age < 19:\n",
        "        return [5, 2, 8, 3.5, 3.5]\n",
        "      #17 = Pregnant Female 19-55yrs old\n",
        "      elif pregnant == True and age > 18:\n",
        "        return [5, 2, 8.5, 3.5, 2.5]\n",
        "      #18 = Breastfeeding Female 12-18yrs old\n",
        "      elif bfeeding == True and age < 19:\n",
        "        return [5.5, 2, 9, 2.5, 4]\n",
        "      #19 = Breastfeeding Female 19-55yrs old\n",
        "      elif bfeeding == True and age > 18:\n",
        "        return [7.5, 2, 9, 2.5, 2.5]\n",
        "      #8 = Female 2-3yrs old\n",
        "      elif age < 4:\n",
        "        return [2.5, 1, 4, 1, 1.5]\n",
        "      #9 = Female 4-8yrs old\n",
        "      elif age < 9:\n",
        "        return [4.5, 1.5, 4, 1.5, 1.5]\n",
        "      #10 = Female 9-11yrs old\n",
        "      elif age < 12:\n",
        "        return [5, 2, 4, 2.5, 3]\n",
        "      #11 = Female 12-13yrs old\n",
        "      elif age < 14:\n",
        "        return [5, 2, 5, 2.5, 3.5]\n",
        "      #12 = Female 14-18yrs old\n",
        "      elif age < 19:\n",
        "        return [5, 2, 7, 2.5, 3.5]\n",
        "      #13 = Female 19-50yrs old\n",
        "      elif age < 51:\n",
        "        return [5, 2, 6, 2.5, 2.5]\n",
        "      #14 = Female 51-70yrs old\n",
        "      elif age < 71:\n",
        "        return [5, 2, 4, 2, 4]\n",
        "      #15 = Female 71-120yrs old\n",
        "      elif age < 19:\n",
        "        return [5, 2, 3, 2, 4]\n",
        "\n",
        "\n",
        "class Recommender:\n",
        "  knownAllergies = [\n",
        "      [\"vegan\", \"meat\", \"fish\", \"milk\", \"egg\", \"chicken\", \"turkey\", \"cheese\", \"yoghurt\", \"sardines\", \"salmon\"],\n",
        "      [\"nut\", \"almond\", \"peanut\"],\n",
        "      [\"vegetarian\", \"meat\", \"fish\", \"chicken\", \"turkey\", \"sardines\", \"salmon\"],\n",
        "      [\"tomato\"]\n",
        "  ]\n",
        "\n",
        "  def getVegetableRecommendations(servingAmounts, preferences, allergies):\n",
        "    #create empty list to returned later\n",
        "    vegetableList = []\n",
        "    #create a tempory copy of Food.vegetables that we can modify\n",
        "    tempVegetableList = Food.vegetables\n",
        "    #remove allergies as options from tempVegetableList\n",
        "    tempVegetableList = Recommender.removeAllergies(allergies, tempVegetableList)\n",
        "    #add preferences in before randomly filling rest of recommendations\n",
        "    tempVegetableList, vegetableList = Recommender.addPreferences(preferences, tempVegetableList, vegetableList)\n",
        "    #Modify the list to be the correct amount of servings\n",
        "    vegetableList = Recommender.adjustListLength(servingAmounts[0], tempVegetableList, vegetableList)\n",
        "    return vegetableList\n",
        "\n",
        "  def getFruitRecommendations(servingAmounts, preferences, allergies):\n",
        "    fruitList = []\n",
        "    tempFruitList = Food.fruit\n",
        "    tempFruitList = Recommender.removeAllergies(allergies, tempFruitList)\n",
        "    tempFruitList, fruitList = Recommender.addPreferences(preferences, tempFruitList, fruitList)\n",
        "    fruitList = Recommender.adjustListLength(servingAmounts[1], tempFruitList, fruitList)\n",
        "    return fruitList\n",
        "\n",
        "  #grainFoods\n",
        "  def getGrainRecommendations(servingAmounts, preferences, allergies):\n",
        "    grainList = []\n",
        "    tempGrainList = Food.grainFoods\n",
        "    tempGrainList = Recommender.removeAllergies(allergies, tempGrainList)\n",
        "    tempGrainList, grainList = Recommender.addPreferences(preferences, tempGrainList, grainList)\n",
        "    grainList = Recommender.adjustListLength(servingAmounts[2], tempGrainList, grainList)\n",
        "    return grainList\n",
        "\n",
        "  def getMeatRecommendations(servingAmounts, preferences, allergies):\n",
        "    meatList = []\n",
        "    tempMeatList = Food.meat\n",
        "    tempMeatList = Recommender.removeAllergies(allergies, tempMeatList)\n",
        "    tempMeatList, meatList = Recommender.addPreferences(preferences, tempMeatList, meatList)\n",
        "    meatList = Recommender.adjustListLength(servingAmounts[3], tempMeatList, meatList)\n",
        "    return meatList\n",
        "\n",
        "  def getDairyRecommendations(servingAmounts, preferences, allergies):\n",
        "    dairyList = []\n",
        "    tempDairyList = Food.dairy\n",
        "    tempDairyList = Recommender.removeAllergies(allergies, tempDairyList)\n",
        "    tempDairyList, dairyList = Recommender.addPreferences(preferences, tempDairyList, dairyList)\n",
        "    dairyList = Recommender.adjustListLength(servingAmounts[4], tempDairyList, dairyList)\n",
        "    return dairyList\n",
        "\n",
        "  def removeAllergies(allergies, tempList):\n",
        "    for i in range(len(Recommender.knownAllergies)):\n",
        "      if Recommender.knownAllergies[i][0] in allergies:\n",
        "        for allergy in Recommender.knownAllergies[i]:\n",
        "          #search tempVegetableList and remove any item with that keyword\n",
        "          for vegetable in tempList:\n",
        "            if allergy in vegetable:\n",
        "              tempList.remove(vegetable)\n",
        "    return tempList\n",
        "\n",
        "  def addPreferences(preferences, tempList, newList):\n",
        "    for preference in preferences:\n",
        "        for fooditem in tempList:\n",
        "          if preference in fooditem:\n",
        "            newList.append(fooditem)\n",
        "            tempList.remove(fooditem)\n",
        "    return tempList, newList\n",
        "\n",
        "  def adjustListLength(servings, tempList, newList):\n",
        "    wasFloat = False\n",
        "    if isinstance(servings, float):\n",
        "      tempservings = int(servings + 0.5)\n",
        "      wasFloat = True\n",
        "    else:\n",
        "      tempservings = servings\n",
        "    try:\n",
        "      randomIndex = random.sample(range(len(tempList)), (tempservings-len(newList)))\n",
        "      for i in randomIndex:\n",
        "        newList.append(tempList[i])\n",
        "    except:\n",
        "      removeAmount = (len(newList)-tempservings)\n",
        "      for j in range(removeAmount):\n",
        "        newList.pop()\n",
        "    if wasFloat == True:\n",
        "      #half the last line\n",
        "      newList[len(newList)-1] = Recommender.halveStartOfString(newList[len(newList)-1])\n",
        "    return newList\n",
        "\n",
        "  def halveStartOfString(foodString):\n",
        "    tempString = \"\"\n",
        "    counter = 0\n",
        "    for i in range(4):\n",
        "      if foodString[i].isdigit() or foodString == \".\":\n",
        "        tempString = tempString + foodString[i]\n",
        "        counter = counter + 1\n",
        "    for i in range(counter):\n",
        "      foodString = foodString[1:]\n",
        "    tempFloat = float(tempString)\n",
        "    tempFloat = tempFloat / 2\n",
        "    foodString = str(tempFloat) + foodString\n",
        "    return foodString\n",
        "\n",
        "\n",
        "\n",
        "class Diet:\n",
        "  def __init__(self, person_age, person_gender, person_pregnant, person_bfeeding, preferences, allergies):\n",
        "    self.servingAmounts = DietryRequirements.getRequirements(person_age, person_gender, person_pregnant, person_bfeeding)\n",
        "    self.vegetableRecommendations = Recommender.getVegetableRecommendations(self.servingAmounts, preferences, allergies)\n",
        "    self.fruitRecommendations = Recommender.getFruitRecommendations(self.servingAmounts, preferences, allergies)\n",
        "    self.grainRecommendations = Recommender.getGrainRecommendations(self.servingAmounts, preferences, allergies)\n",
        "    self.meatRecommendations = Recommender.getMeatRecommendations(self.servingAmounts, preferences, allergies)\n",
        "    self.dairyRecommendations = Recommender.getDairyRecommendations(self.servingAmounts, preferences, allergies)\n",
        "\n",
        "  def getDiet(self):\n",
        "    return self.vegetableRecommendations, self.fruitRecommendations, self.grainRecommendations, self.meatRecommendationsself.dairyRecommendations\n",
        "\n",
        "  def print(self):\n",
        "    print(f\"person should have {self.servingAmounts[0]} servings of Vegetables per day, this could include: \")\n",
        "    for i in diet.vegetableRecommendations:\n",
        "      print(i)\n",
        "    print()\n",
        "    print(f\"person should have {self.servingAmounts[1]} servings of Fruit per day, this could include: \")\n",
        "    for i in diet.fruitRecommendations:\n",
        "      print(i)\n",
        "    print()\n",
        "    print(f\"person should have {self.servingAmounts[2]} servings of Grain Foods per day, this could include: \")\n",
        "    for i in diet.grainRecommendations:\n",
        "      print(i)\n",
        "    print()\n",
        "    print(f\"person should have {self.servingAmounts[3]} servings of Meat per day, this could include: \")\n",
        "    for i in diet.meatRecommendations:\n",
        "      print(i)\n",
        "    print()\n",
        "    print(f\"person should have {self.servingAmounts[4]} servings of Dairy per day, this could include: \")\n",
        "    for i in diet.dairyRecommendations:\n",
        "      print(i)\n",
        "\n",
        "  def __str__(diet):\n",
        "    tempString = str(diet.servingAmounts[0]) + \" servings of Vegetables per day, this could include: \\n\"\n",
        "    for i in diet.vegetableRecommendations:\n",
        "      tempString = tempString + i + \"\\n\"\n",
        "    tempString = tempString + str(diet.servingAmounts[1]) + \" servings of Fruit per day, this could include: \\n\"\n",
        "    for i in diet.fruitRecommendations:\n",
        "      tempString = tempString + i + \"\\n\"\n",
        "    tempString = tempString + str(diet.servingAmounts[2]) + \" servings of Grain Foods per day, this could include: \"\n",
        "    for i in diet.grainRecommendations:\n",
        "      tempString = tempString + i + \"\\n\"\n",
        "    tempString = tempString + str(diet.servingAmounts[3]) + \" servings of Meat per day, this could include: \"\n",
        "    for i in diet.meatRecommendations:\n",
        "      tempString = tempString + i + \"\\n\"\n",
        "    tempString = tempString + str(diet.servingAmounts[4]) + \" servings of Dairy per day, this could include: \"\n",
        "    for i in diet.dairyRecommendations:\n",
        "      tempString = tempString + i + \"\\n\"\n",
        "    return tempString\n",
        "\n",
        "class UserInterface:\n",
        "  def start():\n",
        "    while True:\n",
        "      try:\n",
        "        choice = input(\"How would you like to input your data? (Import/Manually): \")\n",
        "        if choice.lower() == \"manually\" or choice.lower() == \"m\":\n",
        "          person = UserInterface.manualInput()\n",
        "          diet = Diet(*person.getValues())\n",
        "          break\n",
        "        elif choice.lower() == \"import\" or choice.lower() == \"i\":\n",
        "          person, diet = UserInterface.importPerson()\n",
        "          break\n",
        "        else:\n",
        "          raise ValueError(f\"Incorrect input, please try again {choice}\")\n",
        "      except ValueError as e:\n",
        "        print(e)\n",
        "    UserInterface.finish(person, diet)\n",
        "\n",
        "  def finish(person, diet):\n",
        "    while True:\n",
        "      try:\n",
        "        choice = input(\"Would you like to export, print, restart or quit?: \")\n",
        "        if choice.lower() == \"restart\" or choice.lower() == \"r\":\n",
        "          UserInterface.start()\n",
        "        elif choice.lower() == \"export\" or choice.lower() == \"e\":\n",
        "          UserInterface.export(diet, person)\n",
        "        elif choice.lower() == \"print\" or choice.lower() == \"p\":\n",
        "          print(person)\n",
        "          print(diet)\n",
        "        elif choice.lower() == \"quit\" or choice.lower() == \"q\":\n",
        "          raise SystemExit()\n",
        "        else:\n",
        "          raise ValueError(\"Incorrect input, please try again\")\n",
        "      except ValueError as e:\n",
        "        print(e)\n",
        "\n",
        "  def importPerson():\n",
        "    with open('diet.txt') as f:\n",
        "      try:\n",
        "        age = int(f.readline())\n",
        "        gender = str(f.readline())\n",
        "        pregnant = bool(f.readline())\n",
        "        bfeeding = bool(f.readline())\n",
        "        preferences = f.readline()\n",
        "        allergies = f.readline()\n",
        "        charactersToStrip = [\"'\", \"[\", \"]\", \"\\n\"]\n",
        "        for char in charactersToStrip:\n",
        "          preferences = preferences.replace(char, '')\n",
        "          allergies = allergies.replace(char, '')\n",
        "          gender = gender.replace(char, '')\n",
        "        preferences = preferences.split(', ')\n",
        "        allergies = allergies.split(', ')\n",
        "        diet = ' '.join(f.readlines())\n",
        "        print(\"successfully imported\")\n",
        "      except:\n",
        "        print(\"Import failed\")\n",
        "      person = Person(age, gender, pregnant, bfeeding, preferences, allergies)\n",
        "    return person, diet\n",
        "\n",
        "  def export(diet, person):\n",
        "    diet_text = str(diet)\n",
        "    person_list = person.getValues()\n",
        "    with open('diet.txt', 'w') as f:\n",
        "      f.write(str(person_list[0]))\n",
        "      f.write(\"\\n\")\n",
        "      f.write(str(person_list[1]))\n",
        "      f.write(\"\\n\")\n",
        "      f.write(str(person_list[2]))\n",
        "      f.write(\"\\n\")\n",
        "      f.write(str(person_list[3]))\n",
        "      f.write(\"\\n\")\n",
        "      f.write(str(person_list[4]))\n",
        "      f.write(\"\\n\")\n",
        "      f.write(str(person_list[5]))\n",
        "      f.write(\"\\n\")\n",
        "\n",
        "      f.write(diet_text)\n",
        "    print(\"Export successful\")\n",
        "\n",
        "  def manualInput():\n",
        "    isBreastfeeding = False\n",
        "    isPregnant = False\n",
        "    allergies = []\n",
        "    age = UserInterface.getAge()\n",
        "    gender = UserInterface.getGender()\n",
        "    if gender == \"female\" and age > 12 and age < 55:\n",
        "      isPregnant = UserInterface.getPregnant()\n",
        "      if isPregnant == False:\n",
        "        isBreastfeeding = UserInterface.getBreastfeeding()\n",
        "    preference = UserInterface.getPreference()\n",
        "    allergies = UserInterface.getAllergies()\n",
        "    return Person(age, gender, isPregnant, isBreastfeeding, preference, allergies)\n",
        "\n",
        "  def printDiet(diet):\n",
        "    print(f\"person should have {diet.servingAmounts[0]} servings of Vegetables per day, this could include: \")\n",
        "    for i in diet.vegetableRecommendations:\n",
        "      print(i)\n",
        "    print()\n",
        "    print(f\"person should have {diet.servingAmounts[1]} servings of Fruit per day, this could include: \")\n",
        "    for i in diet.fruitRecommendations:\n",
        "      print(i)\n",
        "    print()\n",
        "    print(f\"person should have {diet.servingAmounts[2]} servings of Grain Foods per day, this could include: \")\n",
        "    for i in diet.grainRecommendations:\n",
        "      print(i)\n",
        "    print()\n",
        "    print(f\"person should have {diet.servingAmounts[3]} servings of Meat per day, this could include: \")\n",
        "    for i in diet.meatRecommendations:\n",
        "      print(i)\n",
        "    print()\n",
        "    print(f\"person should have {diet.servingAmounts[4]} servings of Dairy per day, this could include: \")\n",
        "    for i in diet.dairyRecommendations:\n",
        "      print(i)\n",
        "\n",
        "  def getAge():\n",
        "    while True:\n",
        "      try:\n",
        "        age = input(\"Please enter your age: \")\n",
        "        if age == \"\":\n",
        "          raise ValueError(\"Answer cannot be blank\")\n",
        "        if age.isdigit():\n",
        "          age = int(age)\n",
        "          if age > 1 and age < 121:\n",
        "            break\n",
        "          else:\n",
        "            raise ValueError(\"age outside of range, please enter a number between 2 and 120\")\n",
        "        else:\n",
        "          raise TypeError(\"Incorrect value, please enter a number between 2 and 120\")\n",
        "      except ValueError as e:\n",
        "        print(e)\n",
        "      except TypeError as e:\n",
        "        print(e)\n",
        "    return age\n",
        "\n",
        "  def getGender():\n",
        "    while True:\n",
        "      try:\n",
        "        gender = input(\"Please enter your gender (Male/Female): \")\n",
        "        if gender.lower() == \"male\" or gender.lower() == \"m\":\n",
        "          gender = \"male\"\n",
        "          break\n",
        "        elif gender.lower() == \"female\" or gender.lower() == \"f\":\n",
        "          gender = \"female\"\n",
        "          break\n",
        "        else:\n",
        "          raise ValueError(\"Incorrect input, please try again\")\n",
        "      except ValueError as e:\n",
        "        print(e)\n",
        "    return gender\n",
        "\n",
        "  def getPregnant():\n",
        "    isPregnant = False\n",
        "    while True:\n",
        "      try:\n",
        "        pregnant_input = input(\"Are you currently pregnant (Yes/No): \")\n",
        "        if pregnant_input.lower() == \"yes\" or pregnant_input.lower() == \"y\" or pregnant_input.lower() == \"true\":\n",
        "          isPregnant = True\n",
        "          break\n",
        "        elif pregnant_input.lower() == \"no\" or pregnant_input.lower() == \"n\" or pregnant_input.lower() == \"false\":\n",
        "          isPregnant = False\n",
        "          break\n",
        "        else:\n",
        "          raise ValueError(\"Incorrect input, please try again\")\n",
        "      except ValueError as e:\n",
        "        print(e)\n",
        "    return isPregnant\n",
        "\n",
        "  def getBreastfeeding():\n",
        "    isBreastfeeding = False\n",
        "    while True:\n",
        "      try:\n",
        "        bfeeding_input = input(\"Are you currently breastfeeding (Yes/No): \")\n",
        "        if bfeeding_input.lower() == \"yes\" or bfeeding_input.lower() == \"y\" or bfeeding_input.lower() == \"true\":\n",
        "          isBreastfeeding = True\n",
        "          break\n",
        "        elif bfeeding_input.lower() == \"no\" or bfeeding_input.lower() == \"n\" or bfeeding_input.lower() == \"false\":\n",
        "          isBreastfeeding = False\n",
        "          break\n",
        "        else:\n",
        "          raise ValueError(\"Incorrect input, please try again\")\n",
        "      except ValueError as e:\n",
        "        print(e)\n",
        "    return isBreastfeeding\n",
        "\n",
        "  def getPreference():\n",
        "    preference = []\n",
        "    while True:\n",
        "      try:\n",
        "        prompt_preference = input(\"Do you have any dietry preferences? (Yes/No): \")\n",
        "        if prompt_preference.lower() == \"no\" or prompt_preference.lower() == \"n\" or prompt_preference.lower() == \"false\":\n",
        "          break\n",
        "        elif prompt_preference.lower() == \"yes\" or prompt_preference.lower() == \"y\" or prompt_preference.lower() == \"true\":\n",
        "          while True:\n",
        "            try:\n",
        "              add_preference = input(\"Please enter your first preference (or type 'no' to skip): \")\n",
        "              if add_preference.lower() == \"no\" or add_preference.lower() == \"n\":\n",
        "                break\n",
        "              elif add_preference.lower() == \"\":\n",
        "                raise ValueError(\"preference cannot be blank, please try gain\")\n",
        "              else:\n",
        "                preference.append(add_preference.lower())\n",
        "                break\n",
        "            except ValueError as e:\n",
        "              print(e)\n",
        "          if preference == []:\n",
        "            break\n",
        "          while True:\n",
        "            try:\n",
        "              add_preference = input(\"Please enter your next preference (or type 'no' to finish): \")\n",
        "              if add_preference.lower() == \"no\" or add_preference.lower() == \"n\":\n",
        "                break\n",
        "              elif add_preference.lower() == \"\":\n",
        "                raise ValueError(\"preference cannot be blank, please try gain\")\n",
        "              else:\n",
        "                preference.append(add_preference.lower())\n",
        "            except ValueError as e:\n",
        "              print(e)\n",
        "          break\n",
        "        else:\n",
        "          raise ValueError(\"Incorrect input, please try again\")\n",
        "      except ValueError as e:\n",
        "        print(e)\n",
        "    return preference\n",
        "\n",
        "  def getAllergies():\n",
        "    allergies = []\n",
        "    hasAllergy = False\n",
        "    knownAllergiesHeadings = \"\"\n",
        "    for i in range(len(Recommender.knownAllergies)):\n",
        "      knownAllergiesHeadings = knownAllergiesHeadings + \" \" + Recommender.knownAllergies[i][0]\n",
        "    while True:\n",
        "      try:\n",
        "        print(\"Do you have any of the following allergies (Yes/No)\")\n",
        "        prompt_allergy = input(f\"{knownAllergiesHeadings}: \").lower()\n",
        "        if prompt_allergy == \"no\" or prompt_allergy == \"n\":\n",
        "          break\n",
        "        elif prompt_allergy == \"yes\" or prompt_allergy == \"y\":\n",
        "          hasAllergy = True\n",
        "          break\n",
        "        else:\n",
        "          raise ValueError(\"Incorrect input, please try again\")\n",
        "      except ValueError as e:\n",
        "        print(e)\n",
        "    if hasAllergy == True:\n",
        "      while True:\n",
        "        try:\n",
        "          add_allergy = input(\"Please enter your allergy (one at a time) or type No to continue: \").lower()\n",
        "          if add_allergy  == \"no\" or add_allergy == \"n\":\n",
        "            break\n",
        "          elif add_allergy == \"\":\n",
        "            raise ValueError(\"allergy cannot be blank\")\n",
        "          elif add_allergy in knownAllergiesHeadings:\n",
        "            allergies.append(add_allergy)\n",
        "          else:\n",
        "            raise ValueError(\"That allergy cannot be found, please try again\")\n",
        "        except ValueError as e:\n",
        "          print(e)\n",
        "    return allergies\n",
        "\n",
        "\n",
        "#person = Person(21, \"female\", False, False, [\"cooked\", \"lean\"], [\"tomato\"])\n",
        "UserInterface.start()\n",
        "\n",
        "#test = UserInterface.getGender()\n",
        "\n"
      ],
      "metadata": {
        "colab": {
          "base_uri": "https://localhost:8080/",
          "height": 1000
        },
        "id": "4k50Xg8uvmvD",
        "outputId": "9ddee259-d355-4569-84c6-a611735bcbb4"
      },
      "execution_count": null,
      "outputs": [
        {
          "name": "stdout",
          "output_type": "stream",
          "text": [
            "How would you like to input your data? (Import/Manually): m\n",
            "Please enter your age: 23\n",
            "Please enter your gender (Male/Female): m\n",
            "Do you have any dietry preferences? (Yes/No): y\n",
            "Please enter your first preference (or type 'no' to skip): carrot\n",
            "Please enter your next preference (or type 'no' to finish): stew\n",
            "Please enter your next preference (or type 'no' to finish): dimity\n",
            "Please enter your next preference (or type 'no' to finish): n\n",
            "Do you have any of the following allergies (Yes/No)\n",
            " vegan nut vegetarian tomato: y\n",
            "Please enter your allergy (one at a time) or type No to continue: nut\n",
            "Please enter your allergy (one at a time) or type No to continue: vegan\n",
            "Please enter your allergy (one at a time) or type No to continue: n\n",
            "Would you like to export, print, restart or quit?: export\n",
            "Export successful\n",
            "Would you like to export, print, restart or quit?: print\n",
            "[23, male, False, False, ['carrot', 'stew', 'dimity'], ['nut', 'vegan']]\n",
            "6 servings of Vegetables per day, this could include: \n",
            "0.5 cup of cooked carrots\n",
            "0.5 cup of cooked spinach\n",
            "0.5 medium potato or other starchy vegetables (sweet potato, taro or cassava)\n",
            "1 medium tomato\n",
            "0.5 cup of cooked, dried or canned beans, peas or lentils (preferably with no added salt)\n",
            "1 cup of green leafy or raw salad vegetables\n",
            "2 servings of Fruit per day, this could include: \n",
            "2 small apricots\n",
            "1 medium orange\n",
            "6 servings of Grain Foods per day, this could include: 227g of wheat cereal flakes\n",
            "0.5 cup of cooked semolina\n",
            "0.5 cup of cooked pasta\n",
            "1 small (35g) English muffin or scone\n",
            "1 crumpet\n",
            "0.5 cup of cooked bulgur\n",
            "3 servings of Meat per day, this could include: 170g of tofu\n",
            "150g cooked or canned legumes/beans such as lentils (preferably with no added salt)\n",
            "150g cooked or canned legumes/beans such as chick peas (preferably with no added salt)\n",
            "2.5 servings of Dairy per day, this could include: 100g firm tofu (check the label as calcium levels vary)\n",
            "250ml UHT long life milk\n",
            "125.0ml buttermilk\n",
            "\n",
            "Would you like to export, print, restart or quit?: restart\n",
            "How would you like to input your data? (Import/Manually): import\n",
            "successfully imported\n",
            "Would you like to export, print, restart or quit?: print\n",
            "[23, male, True, True, ['carrot', 'stew', 'dimity'], ['nut', 'vegan']]\n",
            "6 servings of Vegetables per day, this could include: \n",
            " 0.5 cup of cooked carrots\n",
            " 0.5 cup of cooked spinach\n",
            " 0.5 medium potato or other starchy vegetables (sweet potato, taro or cassava)\n",
            " 1 medium tomato\n",
            " 0.5 cup of cooked, dried or canned beans, peas or lentils (preferably with no added salt)\n",
            " 1 cup of green leafy or raw salad vegetables\n",
            " 2 servings of Fruit per day, this could include: \n",
            " 2 small apricots\n",
            " 1 medium orange\n",
            " 6 servings of Grain Foods per day, this could include: 227g of wheat cereal flakes\n",
            " 0.5 cup of cooked semolina\n",
            " 0.5 cup of cooked pasta\n",
            " 1 small (35g) English muffin or scone\n",
            " 1 crumpet\n",
            " 0.5 cup of cooked bulgur\n",
            " 3 servings of Meat per day, this could include: 170g of tofu\n",
            " 150g cooked or canned legumes/beans such as lentils (preferably with no added salt)\n",
            " 150g cooked or canned legumes/beans such as chick peas (preferably with no added salt)\n",
            " 2.5 servings of Dairy per day, this could include: 100g firm tofu (check the label as calcium levels vary)\n",
            " 250ml UHT long life milk\n",
            " 125.0ml buttermilk\n",
            "\n",
            "Would you like to export, print, restart or quit?: restart\n",
            "How would you like to input your data? (Import/Manually): import\n",
            "successfully imported\n",
            "Would you like to export, print, restart or quit?: export\n",
            "Export successful\n",
            "Would you like to export, print, restart or quit?: restart\n",
            "How would you like to input your data? (Import/Manually): import\n",
            "successfully imported\n",
            "Would you like to export, print, restart or quit?: print\n",
            "[23, male, True, True, ['carrot', 'stew', 'dimity'], ['nut', 'vegan']]\n",
            "6 servings of Vegetables per day, this could include: \n",
            "  0.5 cup of cooked carrots\n",
            "  0.5 cup of cooked spinach\n",
            "  0.5 medium potato or other starchy vegetables (sweet potato, taro or cassava)\n",
            "  1 medium tomato\n",
            "  0.5 cup of cooked, dried or canned beans, peas or lentils (preferably with no added salt)\n",
            "  1 cup of green leafy or raw salad vegetables\n",
            "  2 servings of Fruit per day, this could include: \n",
            "  2 small apricots\n",
            "  1 medium orange\n",
            "  6 servings of Grain Foods per day, this could include: 227g of wheat cereal flakes\n",
            "  0.5 cup of cooked semolina\n",
            "  0.5 cup of cooked pasta\n",
            "  1 small (35g) English muffin or scone\n",
            "  1 crumpet\n",
            "  0.5 cup of cooked bulgur\n",
            "  3 servings of Meat per day, this could include: 170g of tofu\n",
            "  150g cooked or canned legumes/beans such as lentils (preferably with no added salt)\n",
            "  150g cooked or canned legumes/beans such as chick peas (preferably with no added salt)\n",
            "  2.5 servings of Dairy per day, this could include: 100g firm tofu (check the label as calcium levels vary)\n",
            "  250ml UHT long life milk\n",
            "  125.0ml buttermilk\n",
            "\n",
            "Would you like to export, print, restart or quit?: q\n"
          ]
        },
        {
          "output_type": "error",
          "ename": "SystemExit",
          "evalue": "ignored",
          "traceback": [
            "An exception has occurred, use %tb to see the full traceback.\n",
            "\u001b[0;31mSystemExit\u001b[0m\n"
          ]
        },
        {
          "output_type": "stream",
          "name": "stderr",
          "text": [
            "/usr/local/lib/python3.10/dist-packages/IPython/core/interactiveshell.py:3561: UserWarning: To exit: use 'exit', 'quit', or Ctrl-D.\n",
            "  warn(\"To exit: use 'exit', 'quit', or Ctrl-D.\", stacklevel=1)\n"
          ]
        }
      ]
    },
    {
      "cell_type": "code",
      "source": [
        "test = \"test\"\n",
        "message = \"this is a test message\"\n",
        "if test in message:\n",
        "  print(\"yes\")"
      ],
      "metadata": {
        "colab": {
          "base_uri": "https://localhost:8080/"
        },
        "id": "qFXq5NabWvKq",
        "outputId": "a3b1c843-8046-4d4a-a2b5-807adb3d1807"
      },
      "execution_count": null,
      "outputs": [
        {
          "output_type": "stream",
          "name": "stdout",
          "text": [
            "yes\n"
          ]
        }
      ]
    },
    {
      "cell_type": "code",
      "source": [
        "def show_args(arg1=\"One\", arg2=\"Two\", arg3=\"Three\"):\n",
        "  print(arg1, arg2, arg3)\n",
        "test_args = [[\"one\", \"two\", \"three\"], \"test\"]\n",
        "show_args(*test_args)"
      ],
      "metadata": {
        "colab": {
          "base_uri": "https://localhost:8080/"
        },
        "id": "kLdOJ8owBYNa",
        "outputId": "efb03dcf-73af-46a3-8b91-030501967df4"
      },
      "execution_count": null,
      "outputs": [
        {
          "output_type": "stream",
          "name": "stdout",
          "text": [
            "['one', 'two', 'three'] test Three\n"
          ]
        }
      ]
    },
    {
      "cell_type": "code",
      "source": [
        "rch\n"
      ],
      "metadata": {
        "id": "nmktmoM2WADf"
      },
      "execution_count": null,
      "outputs": []
    },
    {
      "cell_type": "code",
      "source": [
        "#Dairy\n",
        "dairytypes = [\n",
        "    [\"Milk\"],\n",
        "    [\"Cheese\"],\n",
        "    [\"Salted Butter\"],\n",
        "    [\"Dairy Blend Butter\"],\n",
        "    [\"Cream\"],\n",
        "    [\"Custard\"],\n",
        "    [\"Ice Cream\"],\n",
        "    [\"Natural Yoghurt\"],\n",
        "    [\"Flavoured Yoghurt\"],\n",
        "    [\"Fruit - Strawberry Yoghurt\"],\n",
        "    [\"Frozen Yoghurt\"]]\n",
        "\n",
        "dairyclasses = [\n",
        "    \"Milk\",\n",
        "    \"Cheese\",\n",
        "    \"Salted\",\n",
        "    \"DairyBlend\",\n",
        "    \"Cream\",\n",
        "    \"Custard\",\n",
        "    \"IceCream\",\n",
        "    \"Natural\",\n",
        "    \"Flavoured\",\n",
        "    \"Strawberry\",\n",
        "    \"Frozen\"]\n",
        "\n",
        "def record_dairytype(dairytype, name, obj_index):\n",
        "  i = 0\n",
        "  while i < len(dairytypes):\n",
        "    if dairytype == dairytypes[i][0]:\n",
        "      dict_entry = {name : obj_index}\n",
        "      dairytypes[i].append(dict_entry)\n",
        "      break\n",
        "    i = i + 1\n",
        "  return\n",
        "\n",
        "def dairy_exists(name):\n",
        "  i = 0\n",
        "  while i < len(dairytypes):\n",
        "    for j in range(len(dairytypes[i])):\n",
        "      if name in dairytypes[i][j]:\n",
        "        return True\n",
        "    i = i + 1\n",
        "  return False\n",
        "\n",
        "class Dairy():\n",
        "  obj_count = 0\n",
        "  obj_list = []\n",
        "\n",
        "  def __init__(self, dairytype, name, protein, fat, carbs, energy, calcium):\n",
        "    self.name = name\n",
        "    self.dairytype = dairytype\n",
        "    self.protein = protein\n",
        "    self.fat = fat\n",
        "    self.carbs = carbs\n",
        "    self.energy = energy\n",
        "    self.calcium = calcium\n",
        "    record_dairytype(dairytype, name, self.obj_count)\n",
        "\n",
        "  def print_nutrients(self):\n",
        "    print(self.name)\n",
        "    print(\"Protein (g): {}\".format(self.protein))\n",
        "    print(\"Fat (g): {}\".format(self.fat))\n",
        "    print(\"Carbohydrates (g): {}\".format(self.carbs))\n",
        "    print(\"Energy (Kj): {}\".format(self.energy))\n",
        "    print(\"Calcium (mg): {}\".format(self.calcium))\n",
        "\n",
        "class Milk(Dairy):\n",
        "  obj_list = []\n",
        "  def __init__(self, *args):\n",
        "    super().__init__(\"Milk\", *args)\n",
        "    Milk.obj_count = Milk.obj_count + 1\n",
        "\n",
        "  def add(name, protein, fat, carbs, energy, calcium):\n",
        "    Milk.obj_list.append(Milk(name, protein, fat, carbs, energy, calcium))\n",
        "\n",
        "class Cheese(Dairy):\n",
        "  obj_list = []\n",
        "  def __init__(self, *args):\n",
        "    super().__init__(\"Cheese\", *args)\n",
        "    Cheese.obj_count = Cheese.obj_count + 1\n",
        "\n",
        "  def add(name, protein, fat, carbs, energy, calcium):\n",
        "    Cheese.obj_list.append(Cheese(name, protein, fat, carbs, energy, calcium))\n",
        "\n",
        "class Butter(Dairy):\n",
        "  def __init__(self, *args):\n",
        "    super().__init__(*args)\n",
        "    #Butter.obj_count = Butter.obj_count + 1\n",
        "\n",
        "class Salted(Butter):\n",
        "  obj_list = []\n",
        "  def __init__(self, *args):\n",
        "    super().__init__(\"Salted Butter\", *args)\n",
        "    Salted.obj_count = Salted.obj_count + 1\n",
        "\n",
        "  def add(name, protein, fat, carbs, energy, calcium):\n",
        "    Salted.obj_list.append(Salted(name, protein, fat, carbs, energy, calcium))\n",
        "\n",
        "class DairyBlend(Butter):\n",
        "  obj_list = []\n",
        "  def __init__(self, *args):\n",
        "    super().__init__(\"Dairy Blend Butter\", *args)\n",
        "    DairyBlend.obj_count = DairyBlend.obj_count + 1\n",
        "\n",
        "  def add(name, protein, fat, carbs, energy, calcium):\n",
        "    DairyBlend.obj_list.append(DairyBlend(name, protein, fat, carbs, energy, calcium))\n",
        "\n",
        "class Cream(Dairy):\n",
        "  obj_list = []\n",
        "  def __init__(self, *args):\n",
        "    super().__init__(\"Cream\", *args)\n",
        "    Cream.obj_count = Cream.obj_count + 1\n",
        "\n",
        "  def add(name, protein, fat, carbs, energy, calcium):\n",
        "    Cream.obj_list.append(Cream(name, protein, fat, carbs, energy, calcium))\n",
        "\n",
        "class Custard(Dairy):\n",
        "  obj_list = []\n",
        "  def __init__(self, *args):\n",
        "    super().__init__(\"Custard\", *args)\n",
        "    Custard.obj_count = Custard.obj_count + 1\n",
        "\n",
        "  def add(name, protein, fat, carbs, energy, calcium):\n",
        "    Custard.obj_list.append(Custard(name, protein, fat, carbs, energy, calcium))\n",
        "\n",
        "class IceCream(Dairy):\n",
        "  obj_list = []\n",
        "  def __init__(self, *args):\n",
        "    super().__init__(\"Ice Cream\", *args)\n",
        "    IceCream.obj_count = IceCream.obj_count + 1\n",
        "\n",
        "  def add(name, protein, fat, carbs, energy, calcium):\n",
        "    IceCream.obj_list.append(IceCream(name, protein, fat, carbs, energy, calcium))\n",
        "\n",
        "class Yoghurt(Dairy):\n",
        "  def __init__(self, *args):\n",
        "    super().__init__(*args)\n",
        "    #Yoghurt.obj_count = Yoghurt.obj_count + 1\n",
        "\n",
        "class Natural(Yoghurt):\n",
        "  obj_list = []\n",
        "  def __init__(self, *args):\n",
        "    super().__init__(\"Natural Yoghurt\", *args)\n",
        "    Natural.obj_count = Natural.obj_count + 1\n",
        "\n",
        "  def add(name, protein, fat, carbs, energy, calcium):\n",
        "    Natural.obj_list.append(Natural(name, protein, fat, carbs, energy, calcium))\n",
        "\n",
        "class Flavoured(Yoghurt):\n",
        "  obj_list = []\n",
        "  def __init__(self, *args):\n",
        "    super().__init__(\"Flavoured Yoghurt\", *args)\n",
        "    Flavoured.obj_count = Flavoured.obj_count + 1\n",
        "\n",
        "  def add(name, protein, fat, carbs, energy, calcium):\n",
        "    Flavoured.obj_list.append(Flavoured(name, protein, fat, carbs, energy, calcium))\n",
        "\n",
        "class Strawberry(Yoghurt):\n",
        "  obj_list = []\n",
        "  def __init__(self, *args):\n",
        "    super().__init__(\"Fruit - Strawberry Yoghurt\", *args)\n",
        "    Strawberry.obj_count = Strawberry.obj_count + 1\n",
        "\n",
        "  def add(name, protein, fat, carbs, energy, calcium):\n",
        "    Strawberry.obj_list.append(Strawberry(name, protein, fat, carbs, energy, calcium))\n",
        "\n",
        "class Frozen(Yoghurt):\n",
        "  obj_list = []\n",
        "  def __init__(self, *args):\n",
        "    super().__init__(\"Frozen Yoghurt\", *args)\n",
        "    Frozen.obj_count = Frozen.obj_count + 1\n",
        "\n",
        "  def add(name, protein, fat, carbs, energy, calcium):\n",
        "    Frozen.obj_list.append(Frozen(name, protein, fat, carbs, energy, calcium))\n",
        "\n",
        "\n",
        "\n",
        "\n",
        "if __name__ == '__main__':\n",
        "  #Starting Milk objects\n",
        "  #\n",
        "  Milk.add(\"Regular/Full-Fat\", 3.5, 3.5, 6.3, 293, 107)\n",
        "  Milk.add(\"UHT/Long-Life\", 3.6, 3.8, 4.6, 277, 117)\n",
        "  Milk.add(\"Reduced-Fat (modified milk)\", 3.8, 1.2, 6.1, 212, 109)\n",
        "  Milk.add(\"Skim\", 3.7, 0.1, 5.0, 147, 121)\n",
        "\n",
        "  #Starting Cheese objects\n",
        "  Cheese.add(\"Blue Vein\", 20.3, 32.4, \"<0.1\", 1570, 510)\n",
        "  Cheese.add(\"White Mould (eg. Brie, Camembert)\", 18.6, 30.3, 0.1, 1465, 464)\n",
        "  Cheese.add(\"Cheddar\", 24.6, 32.8, 0.5, 1663, 763)\n",
        "  Cheese.add(\"Cream Cheese\", 3.7, 0.1, 5.0, 1384, 82)\n",
        "  Cheese.add(\"Mozzarella\", 26.9, 33.3, \"<0.1\", 1300, 817)\n",
        "  Cheese.add(\"Parmesan\", 40.6, 33.3, \"<0.1\", 1949, 1121)\n",
        "  Cheese.add(\"Ricotta (reduced fat)\", 10.1, 8.7, 2.0, 551, 230)\n",
        "\n",
        "  #Starting Butter objects\n",
        "  Salted.add(\"Salted Butter\", 1.1, 81.5, 0, 3036, 776)\n",
        "  Salted.add(\"Salted Butter: Reduced Salt\", 1.1, 81.5, 0, 3036, 350)\n",
        "  Salted.add(\"Salted Butter: Unsalted\", 1.1, 81.5, 0, 3036, 10)\n",
        "  DairyBlend.add(\"Dairy Blend Butter\", 0.5, 82.4, 0.6, 3068, 485)\n",
        "  DairyBlend.add(\"Dairy Blend Butter: Reduced Salt\", 0.6, 82.4, 0.6, 3068, 292)\n",
        "  DairyBlend.add(\"Dairy Blend Butter: Reduced fat and reduced salt\", 4.6, 44.3, 0.1, 1713, 365)\n",
        "\n",
        "  #Starting Cream objects\n",
        "  Cream.add(\"Pure\", 2.3, 35.9, 1.8, 1397, 61)\n",
        "  Cream.add(\"Reduced-fat\", 2.8, 26.6, 3.7, 1085, 91)\n",
        "  Cream.add(\"Thickened\", 2.3, 36.8, 3.1, 1461, 62)\n",
        "  Cream.add(\"UHT Thickened\", 2.3, 37.2, 3.4, 1470, 72)\n",
        "  Cream.add(\"Rich or Double\", 1.7, 49.4, 1.7, 1882, 60)\n",
        "  Cream.add(\"Whipped, Aerosol\", 0.9, 7.6, 1.3, 317, 28)\n",
        "  Cream.add(\"Sour Cream\", 2.4, 39.1, 2.5, 1534, 69)\n",
        "\n",
        "  #Starting Custard objects\n",
        "  Custard.add(\"Standard Vanilla\", 3.5, 3.1, 14.5, 407, 120)\n",
        "  Custard.add(\"Premium Vanilla\", 3.9, 9, 15.4, 359, 127)\n",
        "\n",
        "  #Starting IceCream objects\n",
        "  IceCream.add(\"Standard Vanilla\", 2.1, 5.9, 11.5, 447, 52)\n",
        "  IceCream.add(\"Reduced-Fat Vanilla\", 1.9, 1.5, 16.0, 351, 51)\n",
        "  IceCream.add(\"Gelato\", 2.2, 2.6, 26.9, 570, 36)\n",
        "\n",
        "  #Starting Yoghurt objects\n",
        "  Natural.add(\"Regular\", 6.0, 4.4, 5.0, 367, 193)\n",
        "  Natural.add(\"Low-Fat\", 6.8, 0.3, 6.2, 249, 244)\n",
        "  Flavoured.add(\"Vanilla Regular\", 5.1, 3.0, 10.2, 404, 177)\n",
        "  Flavoured.add(\"Vanilla Low-Fat\", 6.1, 0.5, 14.5, 382, 174)\n",
        "  Strawberry.add(\"Strawberry Regular\", 4.8, 3.2, 12.1, 417, 164)\n",
        "  Strawberry.add(\"Strawberry Low-Fat\", 5.4, 0.3, 13.5, 341, 168)\n",
        "  Frozen.add(\"Regular Frozen\", 6.3, 6.0, 33.9, 871, 214)\n",
        "\n",
        "\n",
        "  def is_x(sample):\n",
        "    #checks if variable is an x or X, if True then EXIT, else return\n",
        "    if sample.lower() == \"x\":\n",
        "      raise SystemExit()\n",
        "    else:\n",
        "      return\n",
        "\n",
        "  def get_obj_type():\n",
        "    #will prompt user for dairy type, then validate, if valide return dairy type, otherwise return False.\n",
        "    while True:\n",
        "      print(\"Please enter which dairy type this item is: \")\n",
        "      i = 0\n",
        "      while i < len(dairytypes):\n",
        "        print(dairytypes[i][0])\n",
        "        i = i + 1\n",
        "      obj_type = input()\n",
        "      is_x(obj_type)\n",
        "      i = 0\n",
        "      while i < len(dairytypes):\n",
        "        if obj_type.lower() == dairytypes[i][0].lower():\n",
        "          return dairytypes[i][0]\n",
        "        i = i + 1\n",
        "      print(\"Sorry, that item could not be found, please try again\")\n",
        "\n",
        "\n",
        "  def get_float(name, acronym):\n",
        "    while True:\n",
        "      answer = input(\"Please enter the amount {0} (in {1}'s) per 100g is found in this item: \".format(name, acronym))\n",
        "      try:\n",
        "        answer = float(answer)\n",
        "      except:\n",
        "        print(\"incorrect format\")\n",
        "      else:\n",
        "        return answer\n",
        "\n",
        "  def initialise_obj(dairytype, name, protein, fat, carbs, energy, calcium):\n",
        "    dairyclass = globals()[dairytype]\n",
        "    dairyclass.obj_list.append(dairyclass(name, protein, fat, carbs, energy, calcium))\n",
        "    print(\"Item successfully recorded\")\n",
        "\n",
        "  def add_obj():\n",
        "    new_obj = str(input(\"Please enter the name of the item you would like to add: \"))\n",
        "    is_x(new_obj)\n",
        "    if dairy_exists(new_obj):\n",
        "      print(\"Sorry that item already exists, please enter a new name (or x to quit): \")\n",
        "      add_obj()\n",
        "    else:\n",
        "      obj_type = get_obj_type()\n",
        "    #collect amount of protein, fat, carbs, energy, calcium\n",
        "    obj_protein = get_float(\"Protein\", \"g\")\n",
        "    obj_fat = get_float(\"Fat\", \"g\")\n",
        "    obj_carbs = get_float(\"Carbohydrate\", \"g\")\n",
        "    obj_energy = get_float(\"Energy\", \"Kj\")\n",
        "    obj_calcium = get_float(\"Calcium\", \"mg\")\n",
        "    initialise_obj(obj_type, new_obj, obj_protein, obj_fat, obj_carbs, obj_energy, obj_calcium)\n",
        "    #back to start\n",
        "    service_select()\n",
        "\n",
        "\n",
        "  def search_dairytype():\n",
        "    while True:\n",
        "      print(\"List of available Dairy types to search:\")\n",
        "      i = 0\n",
        "      while i < len(dairytypes):\n",
        "        print(dairytypes[i][0])\n",
        "        i = i + 1\n",
        "      answer = input(\"Please enter the Dairy type you which to search (or x to quit): \")\n",
        "      is_x(answer)\n",
        "      row = 0\n",
        "      while row < len(dairytypes):\n",
        "        if answer.lower() == dairytypes[row][0].lower():\n",
        "          search_obj(row)\n",
        "        row = row + 1\n",
        "      #print(answer.lower)\n",
        "      print(\"That Dairy type cannot be found, please try again\")\n",
        "\n",
        "  def search_obj(row):\n",
        "    while True:\n",
        "      print(\"List of currently stored {}'s:\".format(dairytypes[row][0]))\n",
        "      col = 1\n",
        "      while col < len(dairytypes[row]):\n",
        "        print(list(dairytypes[row][col])[0])\n",
        "        col = col + 1\n",
        "      obj = input(\"Please enter the item name you want to list nutrient information for: \")\n",
        "      is_x(obj)\n",
        "      check_item(row, obj)\n",
        "\n",
        "\n",
        "  def check_item(row, obj):\n",
        "      col = 1\n",
        "      #print(row)\n",
        "      #print(obj)\n",
        "      while col < len(dairytypes[row]):\n",
        "        if obj.lower() == list(dairytypes[row][col])[0].lower():\n",
        "          #the name of the object we want to call print_nutrients is list(dairytypes[row][col])[0]\n",
        "          obj_name = list(dairytypes[row][col])[0]\n",
        "          #print(\"obj_name = {}\".format(obj_name))\n",
        "          #now the object we want to call is actually a list item\n",
        "          #so the format we want is Class.obj_list[x].print_nutrients()\n",
        "          obj_class = globals()[dairyclasses[row]]\n",
        "          #print(obj_class)\n",
        "          #obj_class.obj_list[x].name = obj_name (we need to find x)\n",
        "          x = 0\n",
        "          while x < obj_class.obj_count:\n",
        "            if obj_class.obj_list[x].name.lower() == obj_name.lower():\n",
        "              obj_class.obj_list[x].print_nutrients()\n",
        "              #restart\n",
        "              service_select()\n",
        "            x = x + 1\n",
        "        col = col + 1\n",
        "      print(\"That item cannot be found, please try again\")\n",
        "\n",
        "  def service_select():\n",
        "    service = str(input(\"Please enter the service you want: (Record or Search, X to quit): \"))\n",
        "    is_x(service)\n",
        "    if service.lower() == \"record\":\n",
        "      add_obj()\n",
        "    elif service.lower() == \"search\":\n",
        "      search_dairytype()\n",
        "    else:\n",
        "      print(\"That service cannot be found, please try again\")\n",
        "      service_select()\n",
        "\n",
        "\n",
        "  service_select()\n"
      ],
      "metadata": {
        "colab": {
          "base_uri": "https://localhost:8080/",
          "height": 870
        },
        "id": "_XKjBytShHTT",
        "outputId": "043c46b2-e3b6-472f-b1a4-e665c3de945a"
      },
      "execution_count": null,
      "outputs": [
        {
          "name": "stdout",
          "output_type": "stream",
          "text": [
            "Please enter the service you want: (Record or Search, X to quit): search\n",
            "List of available Dairy types to search:\n",
            "Milk\n",
            "Cheese\n",
            "Salted Butter\n",
            "Dairy Blend Butter\n",
            "Cream\n",
            "Custard\n",
            "Ice Cream\n",
            "Natural Yoghurt\n",
            "Flavoured Yoghurt\n",
            "Fruit - Strawberry Yoghurt\n",
            "Frozen Yoghurt\n",
            "Please enter the Dairy type you which to search (or x to quit): Fruit - Strawberry Ypghurt\n",
            "That Dairy type cannot be found, please try again\n",
            "List of available Dairy types to search:\n",
            "Milk\n",
            "Cheese\n",
            "Salted Butter\n",
            "Dairy Blend Butter\n",
            "Cream\n",
            "Custard\n",
            "Ice Cream\n",
            "Natural Yoghurt\n",
            "Flavoured Yoghurt\n",
            "Fruit - Strawberry Yoghurt\n",
            "Frozen Yoghurt\n",
            "Please enter the Dairy type you which to search (or x to quit): Fruit - Strawberry Yoghurt\n",
            "List of currently stored Fruit - Strawberry Yoghurt's:\n",
            "Strawberry regular\n",
            "Strawberry low-fat\n",
            "Please enter the item name you want to list nutrient information for: Strawberry regular\n",
            "Strawberry regular\n",
            "Protein (g): 4.8\n",
            "Fat (g): 3.2\n",
            "Carbohydrates (g): 12.1\n",
            "Energy (Kj): 417\n",
            "Calcium (mg): 164\n",
            "Please enter the service you want: (Record or Search, X to quit): x\n"
          ]
        },
        {
          "output_type": "error",
          "ename": "SystemExit",
          "evalue": "ignored",
          "traceback": [
            "An exception has occurred, use %tb to see the full traceback.\n",
            "\u001b[0;31mSystemExit\u001b[0m\n"
          ]
        },
        {
          "output_type": "stream",
          "name": "stderr",
          "text": [
            "/usr/local/lib/python3.10/dist-packages/IPython/core/interactiveshell.py:3561: UserWarning: To exit: use 'exit', 'quit', or Ctrl-D.\n",
            "  warn(\"To exit: use 'exit', 'quit', or Ctrl-D.\", stacklevel=1)\n"
          ]
        }
      ]
    },
    {
      "cell_type": "code",
      "source": [],
      "metadata": {
        "id": "MyV0pW279clW"
      },
      "execution_count": null,
      "outputs": []
    },
    {
      "cell_type": "code",
      "source": [
        "class GoodMorning:\n",
        "    def greet(self, name):\n",
        "        print(\"Good Morning, {}\".format(name))\n",
        "\n",
        "\n",
        "greeter = GoodMorning()\n",
        "greeter.greet(\"students\")"
      ],
      "metadata": {
        "colab": {
          "base_uri": "https://localhost:8080/"
        },
        "id": "dOywLpoS2yzz",
        "outputId": "61e82a39-ca28-44d9-c061-4368a71f5f45"
      },
      "execution_count": null,
      "outputs": [
        {
          "output_type": "stream",
          "name": "stdout",
          "text": [
            "Good Morning, students\n"
          ]
        }
      ]
    },
    {
      "cell_type": "code",
      "source": [
        "class Flower:\n",
        "    color = 'red'\n",
        "\n",
        "    def __init__(self, c=None):\n",
        "        if c is None:\n",
        "            pass\n",
        "        else:\n",
        "            self.color = c\n",
        "\n",
        "    def setColor(self, new_color):\n",
        "        self.color = new_color\n",
        "\n",
        "    def getColor(self):\n",
        "        return self.color\n",
        "\n",
        "\n",
        "flower = Flower('blue')\n",
        "print(\"Updated Color:\", flower.getColor())"
      ],
      "metadata": {
        "colab": {
          "base_uri": "https://localhost:8080/"
        },
        "id": "N7MiaKSI5Jj4",
        "outputId": "c6cbb97f-ca13-4043-e7d9-7ce854fbbe51"
      },
      "execution_count": null,
      "outputs": [
        {
          "output_type": "stream",
          "name": "stdout",
          "text": [
            "Updated Color: blue\n"
          ]
        }
      ]
    },
    {
      "cell_type": "code",
      "source": [
        "import unittest\n",
        "\n",
        "class Calculations:\n",
        "    def __init__(self, a, b):\n",
        "        self.a=a\n",
        "        self.b=b\n",
        "\n",
        "    def get_sum(self):\n",
        "        return self.a+self.b\n",
        "\n",
        "    def get_difference(self):\n",
        "        return self.a-self.b\n",
        "\n",
        "class TestCalculations():\n",
        "    def test_sum(self):\n",
        "        self.assertEqual(self.calculations.get_sum(), 10)\n",
        "\n",
        "    def test_difference(self):\n",
        "        self.assertEqual(self.calculations.get_difference(), 6)\n",
        "\n",
        "unittest.main()"
      ],
      "metadata": {
        "colab": {
          "base_uri": "https://localhost:8080/",
          "height": 332
        },
        "id": "PH5dStiw58E1",
        "outputId": "411ef6bc-6e5a-4da0-9544-902c55892242"
      },
      "execution_count": null,
      "outputs": [
        {
          "output_type": "stream",
          "name": "stderr",
          "text": [
            "E\n",
            "======================================================================\n",
            "ERROR: /root/ (unittest.loader._FailedTest)\n",
            "----------------------------------------------------------------------\n",
            "AttributeError: module '__main__' has no attribute '/root/'\n",
            "\n",
            "----------------------------------------------------------------------\n",
            "Ran 1 test in 0.007s\n",
            "\n",
            "FAILED (errors=1)\n"
          ]
        },
        {
          "output_type": "error",
          "ename": "SystemExit",
          "evalue": "ignored",
          "traceback": [
            "An exception has occurred, use %tb to see the full traceback.\n",
            "\u001b[0;31mSystemExit\u001b[0m\u001b[0;31m:\u001b[0m True\n"
          ]
        },
        {
          "output_type": "stream",
          "name": "stderr",
          "text": [
            "/usr/local/lib/python3.10/dist-packages/IPython/core/interactiveshell.py:3561: UserWarning: To exit: use 'exit', 'quit', or Ctrl-D.\n",
            "  warn(\"To exit: use 'exit', 'quit', or Ctrl-D.\", stacklevel=1)\n"
          ]
        }
      ]
    },
    {
      "cell_type": "code",
      "source": [
        "class HelloSomeone:\n",
        "\n",
        "    def greet(self, name):\n",
        "        print(\"Hello {}\".format(name))\n",
        "\n",
        "\n",
        "hello = HelloSomeone()\n",
        "hello.greet(\"Bob\")"
      ],
      "metadata": {
        "colab": {
          "base_uri": "https://localhost:8080/"
        },
        "id": "bLCRmg19G0If",
        "outputId": "dd188a62-8906-4214-a041-03afbbaa6617"
      },
      "execution_count": null,
      "outputs": [
        {
          "output_type": "stream",
          "name": "stdout",
          "text": [
            "Hello Bob\n"
          ]
        }
      ]
    },
    {
      "cell_type": "code",
      "source": [
        "import math\n",
        "\n",
        "class Circle:\n",
        "    def __init__(self, x, y, radius):\n",
        "      self.x = x\n",
        "      self.y = y\n",
        "      self.radius = radius\n",
        "\n",
        "    def reset(self):\n",
        "      self.x = 1\n",
        "      self.y = 1\n",
        "      self.radius = 1\n",
        "\n",
        "    def setRadius(self, newRadius):\n",
        "      self.radius = newRadius\n",
        "\n",
        "    def getArea(self):\n",
        "      area = self.radius*self.radius*math.pi\n",
        "      return area\n",
        "\n",
        "\n",
        "circle = Circle(2, 3, 5)\n",
        "circle.setRadius(7)\n",
        "print(\"Current Circle Area:\", circle.getArea())"
      ],
      "metadata": {
        "colab": {
          "base_uri": "https://localhost:8080/"
        },
        "id": "7mOfKvk-IBdC",
        "outputId": "2073e92e-5be6-4211-f9d2-a1710b71ac23"
      },
      "execution_count": null,
      "outputs": [
        {
          "output_type": "stream",
          "name": "stdout",
          "text": [
            "Current Circle Area: 153.93804002589985\n"
          ]
        }
      ]
    },
    {
      "cell_type": "code",
      "source": [
        "import csv\n",
        "help(csv)"
      ],
      "metadata": {
        "colab": {
          "base_uri": "https://localhost:8080/"
        },
        "id": "iv5IiewN6rPH",
        "outputId": "58cdcf4a-9872-4b47-9303-cbbb2edb0a84"
      },
      "execution_count": null,
      "outputs": [
        {
          "output_type": "stream",
          "name": "stdout",
          "text": [
            "Help on module csv:\n",
            "\n",
            "NAME\n",
            "    csv - CSV parsing and writing.\n",
            "\n",
            "MODULE REFERENCE\n",
            "    https://docs.python.org/3.10/library/csv.html\n",
            "    \n",
            "    The following documentation is automatically generated from the Python\n",
            "    source files.  It may be incomplete, incorrect or include features that\n",
            "    are considered implementation detail and may vary between Python\n",
            "    implementations.  When in doubt, consult the module reference at the\n",
            "    location listed above.\n",
            "\n",
            "DESCRIPTION\n",
            "    This module provides classes that assist in the reading and writing\n",
            "    of Comma Separated Value (CSV) files, and implements the interface\n",
            "    described by PEP 305.  Although many CSV files are simple to parse,\n",
            "    the format is not formally defined by a stable specification and\n",
            "    is subtle enough that parsing lines of a CSV file with something\n",
            "    like line.split(\",\") is bound to fail.  The module supports three\n",
            "    basic APIs: reading, writing, and registration of dialects.\n",
            "    \n",
            "    \n",
            "    DIALECT REGISTRATION:\n",
            "    \n",
            "    Readers and writers support a dialect argument, which is a convenient\n",
            "    handle on a group of settings.  When the dialect argument is a string,\n",
            "    it identifies one of the dialects previously registered with the module.\n",
            "    If it is a class or instance, the attributes of the argument are used as\n",
            "    the settings for the reader or writer:\n",
            "    \n",
            "        class excel:\n",
            "            delimiter = ','\n",
            "            quotechar = '\"'\n",
            "            escapechar = None\n",
            "            doublequote = True\n",
            "            skipinitialspace = False\n",
            "            lineterminator = '\\r\\n'\n",
            "            quoting = QUOTE_MINIMAL\n",
            "    \n",
            "    SETTINGS:\n",
            "    \n",
            "        * quotechar - specifies a one-character string to use as the\n",
            "            quoting character.  It defaults to '\"'.\n",
            "        * delimiter - specifies a one-character string to use as the\n",
            "            field separator.  It defaults to ','.\n",
            "        * skipinitialspace - specifies how to interpret spaces which\n",
            "            immediately follow a delimiter.  It defaults to False, which\n",
            "            means that spaces immediately following a delimiter is part\n",
            "            of the following field.\n",
            "        * lineterminator -  specifies the character sequence which should\n",
            "            terminate rows.\n",
            "        * quoting - controls when quotes should be generated by the writer.\n",
            "            It can take on any of the following module constants:\n",
            "    \n",
            "            csv.QUOTE_MINIMAL means only when required, for example, when a\n",
            "                field contains either the quotechar or the delimiter\n",
            "            csv.QUOTE_ALL means that quotes are always placed around fields.\n",
            "            csv.QUOTE_NONNUMERIC means that quotes are always placed around\n",
            "                fields which do not parse as integers or floating point\n",
            "                numbers.\n",
            "            csv.QUOTE_NONE means that quotes are never placed around fields.\n",
            "        * escapechar - specifies a one-character string used to escape\n",
            "            the delimiter when quoting is set to QUOTE_NONE.\n",
            "        * doublequote - controls the handling of quotes inside fields.  When\n",
            "            True, two consecutive quotes are interpreted as one during read,\n",
            "            and when writing, each quote character embedded in the data is\n",
            "            written as two quotes\n",
            "\n",
            "CLASSES\n",
            "    builtins.Exception(builtins.BaseException)\n",
            "        _csv.Error\n",
            "    builtins.object\n",
            "        Dialect\n",
            "            excel\n",
            "                excel_tab\n",
            "            unix_dialect\n",
            "        DictReader\n",
            "        DictWriter\n",
            "        Sniffer\n",
            "    \n",
            "    class Dialect(builtins.object)\n",
            "     |  Describe a CSV dialect.\n",
            "     |  \n",
            "     |  This must be subclassed (see csv.excel).  Valid attributes are:\n",
            "     |  delimiter, quotechar, escapechar, doublequote, skipinitialspace,\n",
            "     |  lineterminator, quoting.\n",
            "     |  \n",
            "     |  Methods defined here:\n",
            "     |  \n",
            "     |  __init__(self)\n",
            "     |      Initialize self.  See help(type(self)) for accurate signature.\n",
            "     |  \n",
            "     |  ----------------------------------------------------------------------\n",
            "     |  Data descriptors defined here:\n",
            "     |  \n",
            "     |  __dict__\n",
            "     |      dictionary for instance variables (if defined)\n",
            "     |  \n",
            "     |  __weakref__\n",
            "     |      list of weak references to the object (if defined)\n",
            "     |  \n",
            "     |  ----------------------------------------------------------------------\n",
            "     |  Data and other attributes defined here:\n",
            "     |  \n",
            "     |  delimiter = None\n",
            "     |  \n",
            "     |  doublequote = None\n",
            "     |  \n",
            "     |  escapechar = None\n",
            "     |  \n",
            "     |  lineterminator = None\n",
            "     |  \n",
            "     |  quotechar = None\n",
            "     |  \n",
            "     |  quoting = None\n",
            "     |  \n",
            "     |  skipinitialspace = None\n",
            "    \n",
            "    class DictReader(builtins.object)\n",
            "     |  DictReader(f, fieldnames=None, restkey=None, restval=None, dialect='excel', *args, **kwds)\n",
            "     |  \n",
            "     |  Methods defined here:\n",
            "     |  \n",
            "     |  __init__(self, f, fieldnames=None, restkey=None, restval=None, dialect='excel', *args, **kwds)\n",
            "     |      Initialize self.  See help(type(self)) for accurate signature.\n",
            "     |  \n",
            "     |  __iter__(self)\n",
            "     |  \n",
            "     |  __next__(self)\n",
            "     |  \n",
            "     |  ----------------------------------------------------------------------\n",
            "     |  Data descriptors defined here:\n",
            "     |  \n",
            "     |  __dict__\n",
            "     |      dictionary for instance variables (if defined)\n",
            "     |  \n",
            "     |  __weakref__\n",
            "     |      list of weak references to the object (if defined)\n",
            "     |  \n",
            "     |  fieldnames\n",
            "    \n",
            "    class DictWriter(builtins.object)\n",
            "     |  DictWriter(f, fieldnames, restval='', extrasaction='raise', dialect='excel', *args, **kwds)\n",
            "     |  \n",
            "     |  Methods defined here:\n",
            "     |  \n",
            "     |  __init__(self, f, fieldnames, restval='', extrasaction='raise', dialect='excel', *args, **kwds)\n",
            "     |      Initialize self.  See help(type(self)) for accurate signature.\n",
            "     |  \n",
            "     |  writeheader(self)\n",
            "     |  \n",
            "     |  writerow(self, rowdict)\n",
            "     |  \n",
            "     |  writerows(self, rowdicts)\n",
            "     |  \n",
            "     |  ----------------------------------------------------------------------\n",
            "     |  Data descriptors defined here:\n",
            "     |  \n",
            "     |  __dict__\n",
            "     |      dictionary for instance variables (if defined)\n",
            "     |  \n",
            "     |  __weakref__\n",
            "     |      list of weak references to the object (if defined)\n",
            "    \n",
            "    class Error(builtins.Exception)\n",
            "     |  Method resolution order:\n",
            "     |      Error\n",
            "     |      builtins.Exception\n",
            "     |      builtins.BaseException\n",
            "     |      builtins.object\n",
            "     |  \n",
            "     |  Methods inherited from builtins.Exception:\n",
            "     |  \n",
            "     |  __init__(self, /, *args, **kwargs)\n",
            "     |      Initialize self.  See help(type(self)) for accurate signature.\n",
            "     |  \n",
            "     |  ----------------------------------------------------------------------\n",
            "     |  Static methods inherited from builtins.Exception:\n",
            "     |  \n",
            "     |  __new__(*args, **kwargs) from builtins.type\n",
            "     |      Create and return a new object.  See help(type) for accurate signature.\n",
            "     |  \n",
            "     |  ----------------------------------------------------------------------\n",
            "     |  Methods inherited from builtins.BaseException:\n",
            "     |  \n",
            "     |  __delattr__(self, name, /)\n",
            "     |      Implement delattr(self, name).\n",
            "     |  \n",
            "     |  __getattribute__(self, name, /)\n",
            "     |      Return getattr(self, name).\n",
            "     |  \n",
            "     |  __reduce__(...)\n",
            "     |      Helper for pickle.\n",
            "     |  \n",
            "     |  __repr__(self, /)\n",
            "     |      Return repr(self).\n",
            "     |  \n",
            "     |  __setattr__(self, name, value, /)\n",
            "     |      Implement setattr(self, name, value).\n",
            "     |  \n",
            "     |  __setstate__(...)\n",
            "     |  \n",
            "     |  __str__(self, /)\n",
            "     |      Return str(self).\n",
            "     |  \n",
            "     |  with_traceback(...)\n",
            "     |      Exception.with_traceback(tb) --\n",
            "     |      set self.__traceback__ to tb and return self.\n",
            "     |  \n",
            "     |  ----------------------------------------------------------------------\n",
            "     |  Data descriptors inherited from builtins.BaseException:\n",
            "     |  \n",
            "     |  __cause__\n",
            "     |      exception cause\n",
            "     |  \n",
            "     |  __context__\n",
            "     |      exception context\n",
            "     |  \n",
            "     |  __dict__\n",
            "     |  \n",
            "     |  __suppress_context__\n",
            "     |  \n",
            "     |  __traceback__\n",
            "     |  \n",
            "     |  args\n",
            "    \n",
            "    class Sniffer(builtins.object)\n",
            "     |  \"Sniffs\" the format of a CSV file (i.e. delimiter, quotechar)\n",
            "     |  Returns a Dialect object.\n",
            "     |  \n",
            "     |  Methods defined here:\n",
            "     |  \n",
            "     |  __init__(self)\n",
            "     |      Initialize self.  See help(type(self)) for accurate signature.\n",
            "     |  \n",
            "     |  has_header(self, sample)\n",
            "     |  \n",
            "     |  sniff(self, sample, delimiters=None)\n",
            "     |      Returns a dialect (or None) corresponding to the sample\n",
            "     |  \n",
            "     |  ----------------------------------------------------------------------\n",
            "     |  Data descriptors defined here:\n",
            "     |  \n",
            "     |  __dict__\n",
            "     |      dictionary for instance variables (if defined)\n",
            "     |  \n",
            "     |  __weakref__\n",
            "     |      list of weak references to the object (if defined)\n",
            "    \n",
            "    class excel(Dialect)\n",
            "     |  Describe the usual properties of Excel-generated CSV files.\n",
            "     |  \n",
            "     |  Method resolution order:\n",
            "     |      excel\n",
            "     |      Dialect\n",
            "     |      builtins.object\n",
            "     |  \n",
            "     |  Data and other attributes defined here:\n",
            "     |  \n",
            "     |  delimiter = ','\n",
            "     |  \n",
            "     |  doublequote = True\n",
            "     |  \n",
            "     |  lineterminator = '\\r\\n'\n",
            "     |  \n",
            "     |  quotechar = '\"'\n",
            "     |  \n",
            "     |  quoting = 0\n",
            "     |  \n",
            "     |  skipinitialspace = False\n",
            "     |  \n",
            "     |  ----------------------------------------------------------------------\n",
            "     |  Methods inherited from Dialect:\n",
            "     |  \n",
            "     |  __init__(self)\n",
            "     |      Initialize self.  See help(type(self)) for accurate signature.\n",
            "     |  \n",
            "     |  ----------------------------------------------------------------------\n",
            "     |  Data descriptors inherited from Dialect:\n",
            "     |  \n",
            "     |  __dict__\n",
            "     |      dictionary for instance variables (if defined)\n",
            "     |  \n",
            "     |  __weakref__\n",
            "     |      list of weak references to the object (if defined)\n",
            "     |  \n",
            "     |  ----------------------------------------------------------------------\n",
            "     |  Data and other attributes inherited from Dialect:\n",
            "     |  \n",
            "     |  escapechar = None\n",
            "    \n",
            "    class excel_tab(excel)\n",
            "     |  Describe the usual properties of Excel-generated TAB-delimited files.\n",
            "     |  \n",
            "     |  Method resolution order:\n",
            "     |      excel_tab\n",
            "     |      excel\n",
            "     |      Dialect\n",
            "     |      builtins.object\n",
            "     |  \n",
            "     |  Data and other attributes defined here:\n",
            "     |  \n",
            "     |  delimiter = '\\t'\n",
            "     |  \n",
            "     |  ----------------------------------------------------------------------\n",
            "     |  Data and other attributes inherited from excel:\n",
            "     |  \n",
            "     |  doublequote = True\n",
            "     |  \n",
            "     |  lineterminator = '\\r\\n'\n",
            "     |  \n",
            "     |  quotechar = '\"'\n",
            "     |  \n",
            "     |  quoting = 0\n",
            "     |  \n",
            "     |  skipinitialspace = False\n",
            "     |  \n",
            "     |  ----------------------------------------------------------------------\n",
            "     |  Methods inherited from Dialect:\n",
            "     |  \n",
            "     |  __init__(self)\n",
            "     |      Initialize self.  See help(type(self)) for accurate signature.\n",
            "     |  \n",
            "     |  ----------------------------------------------------------------------\n",
            "     |  Data descriptors inherited from Dialect:\n",
            "     |  \n",
            "     |  __dict__\n",
            "     |      dictionary for instance variables (if defined)\n",
            "     |  \n",
            "     |  __weakref__\n",
            "     |      list of weak references to the object (if defined)\n",
            "     |  \n",
            "     |  ----------------------------------------------------------------------\n",
            "     |  Data and other attributes inherited from Dialect:\n",
            "     |  \n",
            "     |  escapechar = None\n",
            "    \n",
            "    class unix_dialect(Dialect)\n",
            "     |  Describe the usual properties of Unix-generated CSV files.\n",
            "     |  \n",
            "     |  Method resolution order:\n",
            "     |      unix_dialect\n",
            "     |      Dialect\n",
            "     |      builtins.object\n",
            "     |  \n",
            "     |  Data and other attributes defined here:\n",
            "     |  \n",
            "     |  delimiter = ','\n",
            "     |  \n",
            "     |  doublequote = True\n",
            "     |  \n",
            "     |  lineterminator = '\\n'\n",
            "     |  \n",
            "     |  quotechar = '\"'\n",
            "     |  \n",
            "     |  quoting = 1\n",
            "     |  \n",
            "     |  skipinitialspace = False\n",
            "     |  \n",
            "     |  ----------------------------------------------------------------------\n",
            "     |  Methods inherited from Dialect:\n",
            "     |  \n",
            "     |  __init__(self)\n",
            "     |      Initialize self.  See help(type(self)) for accurate signature.\n",
            "     |  \n",
            "     |  ----------------------------------------------------------------------\n",
            "     |  Data descriptors inherited from Dialect:\n",
            "     |  \n",
            "     |  __dict__\n",
            "     |      dictionary for instance variables (if defined)\n",
            "     |  \n",
            "     |  __weakref__\n",
            "     |      list of weak references to the object (if defined)\n",
            "     |  \n",
            "     |  ----------------------------------------------------------------------\n",
            "     |  Data and other attributes inherited from Dialect:\n",
            "     |  \n",
            "     |  escapechar = None\n",
            "\n",
            "FUNCTIONS\n",
            "    field_size_limit(...)\n",
            "        Sets an upper limit on parsed fields.\n",
            "            csv.field_size_limit([limit])\n",
            "        \n",
            "        Returns old limit. If limit is not given, no new limit is set and\n",
            "        the old limit is returned\n",
            "    \n",
            "    get_dialect(...)\n",
            "        Return the dialect instance associated with name.\n",
            "        dialect = csv.get_dialect(name)\n",
            "    \n",
            "    list_dialects(...)\n",
            "        Return a list of all know dialect names.\n",
            "        names = csv.list_dialects()\n",
            "    \n",
            "    reader(...)\n",
            "        csv_reader = reader(iterable [, dialect='excel']\n",
            "                                [optional keyword args])\n",
            "            for row in csv_reader:\n",
            "                process(row)\n",
            "        \n",
            "        The \"iterable\" argument can be any object that returns a line\n",
            "        of input for each iteration, such as a file object or a list.  The\n",
            "        optional \"dialect\" parameter is discussed below.  The function\n",
            "        also accepts optional keyword arguments which override settings\n",
            "        provided by the dialect.\n",
            "        \n",
            "        The returned object is an iterator.  Each iteration returns a row\n",
            "        of the CSV file (which can span multiple input lines).\n",
            "    \n",
            "    register_dialect(...)\n",
            "        Create a mapping from a string name to a dialect class.\n",
            "        dialect = csv.register_dialect(name[, dialect[, **fmtparams]])\n",
            "    \n",
            "    unregister_dialect(...)\n",
            "        Delete the name/dialect mapping associated with a string name.\n",
            "        csv.unregister_dialect(name)\n",
            "    \n",
            "    writer(...)\n",
            "        csv_writer = csv.writer(fileobj [, dialect='excel']\n",
            "                                    [optional keyword args])\n",
            "            for row in sequence:\n",
            "                csv_writer.writerow(row)\n",
            "        \n",
            "            [or]\n",
            "        \n",
            "            csv_writer = csv.writer(fileobj [, dialect='excel']\n",
            "                                    [optional keyword args])\n",
            "            csv_writer.writerows(rows)\n",
            "        \n",
            "        The \"fileobj\" argument can be any object that supports the file API.\n",
            "\n",
            "DATA\n",
            "    QUOTE_ALL = 1\n",
            "    QUOTE_MINIMAL = 0\n",
            "    QUOTE_NONE = 3\n",
            "    QUOTE_NONNUMERIC = 2\n",
            "    __all__ = ['QUOTE_MINIMAL', 'QUOTE_ALL', 'QUOTE_NONNUMERIC', 'QUOTE_NO...\n",
            "\n",
            "VERSION\n",
            "    1.0\n",
            "\n",
            "FILE\n",
            "    /usr/lib/python3.10/csv.py\n",
            "\n",
            "\n"
          ]
        }
      ]
    },
    {
      "cell_type": "code",
      "source": [
        "silly_file_path = \"silly.txt\"\n",
        "\n",
        "with open(silly_file_path, \"w\") as silly_file:\n",
        "  silly_file.write(\"Hi! \")\n",
        "  silly_file.write(\"I am Sam\\n\")\n",
        "  silly_file.write(\"Sam I am\\n\")\n",
        "  silly_file.write(\"       \\n\")\n",
        "  silly_file.write(\"green eggs with ham\")"
      ],
      "metadata": {
        "id": "S4NeD9n67VeQ"
      },
      "execution_count": null,
      "outputs": []
    },
    {
      "cell_type": "code",
      "source": [
        "silly_file_path = \"silly.txt\"\n",
        "\n",
        "with open(silly_file_path, \"w\") as silly_file:\n",
        "  silly_file.write(\"6354625\\n\")\n",
        "  silly_file.write(\"John\\n\")\n",
        "  silly_file.write(\"Smith\\n\")\n",
        "  silly_file.write(\"0657373\\n\")\n",
        "  silly_file.write(\"Mary\\n\")\n",
        "  silly_file.write(\"Wilson\")"
      ],
      "metadata": {
        "id": "W_BNI2iHJJYa"
      },
      "execution_count": null,
      "outputs": []
    },
    {
      "cell_type": "code",
      "source": [
        "silly_file_path = \"sillyfile2.txt\"\n",
        "\n",
        "with open(silly_file_path, \"r\") as silly_file:\n",
        "  while True:\n",
        "    text = silly_file.readline()\n",
        "    if text == \"\":\n",
        "      break\n",
        "    text = text.strip()\n",
        "    print(text)\n"
      ],
      "metadata": {
        "colab": {
          "base_uri": "https://localhost:8080/"
        },
        "id": "fWGXCZcEGaYF",
        "outputId": "fc4b7c05-9dd5-4032-d736-4b78163bbf46"
      },
      "execution_count": null,
      "outputs": [
        {
          "output_type": "stream",
          "name": "stdout",
          "text": [
            "5 x 1 = 5\n",
            "5 x 2 = 10\n",
            "5 x 3 = 15\n",
            "5 x 4 = 20\n",
            "5 x 5 = 25\n",
            "5 x 6 = 30\n",
            "5 x 7 = 35\n",
            "5 x 8 = 40\n",
            "5 x 9 = 45\n"
          ]
        }
      ]
    },
    {
      "cell_type": "code",
      "source": [
        "import csv\n",
        "student_file_path = \"student.csv\"\n",
        "with open(student_file_path, \"w\") as student_file:\n",
        "  field_name_list = [\"Code\", \"Name\", \"CP\"]\n",
        "\n",
        "  writer = csv.DictWriter(student_file, fieldnames=field_name_list)\n",
        "\n",
        "  writer.writeheader()\n",
        "\n",
        "  student_dict = {\"Code\": \"MATH111\", \"Name\": \"John\", \"CP\": \"4\"}\n",
        "  writer.writerow(student_dict)\n",
        "\n",
        "  student_dict = {\"Code\": \"CSCI222\", \"Name\": \"Hunter\", \"CP\": \"5\"}\n",
        "  writer.writerow(student_dict)\n",
        "\n",
        "  student_dict = {\"Code\": \"MATH333\", \"Name\": \"Winston\", \"CP\": \"6\"}\n",
        "  writer.writerow(student_dict)\n",
        "\n",
        "  student_dict = {\"Code\": \"IT444\", \"Name\": \"Arthur\", \"CP\": \"7\"}\n",
        "  writer.writerow(student_dict)\n",
        "\n"
      ],
      "metadata": {
        "id": "ISjdc3ZkU9qC"
      },
      "execution_count": null,
      "outputs": []
    },
    {
      "cell_type": "code",
      "source": [
        "import csv\n",
        "student_file_path = \"student.csv\"\n",
        "with open(student_file_path, \"r\") as student_file:\n",
        "  reader = csv.DictReader(student_file)\n",
        "  for row in reader:\n",
        "    student_number = row.get(\"stn\")\n",
        "    student_first = row.get(\"first_name\")\n",
        "    student_last = row.get(\"last_name\")\n",
        "    print(\"{0:<10}{1:<30}{2:<10}\".format(student_number, student_first, student_last))\n"
      ],
      "metadata": {
        "colab": {
          "base_uri": "https://localhost:8080/"
        },
        "id": "A8U_j41yYh8a",
        "outputId": "c9ca254b-fe87-4ac8-b7a4-f7f97b4b94ff"
      },
      "execution_count": null,
      "outputs": [
        {
          "output_type": "stream",
          "name": "stdout",
          "text": [
            "1111      John                          Smith     \n",
            "2222      Hunter                        Smith     \n",
            "3333      Winston                       Smith     \n",
            "4444      Arthur                        Smith     \n"
          ]
        }
      ]
    },
    {
      "cell_type": "code",
      "source": [
        "user_input = input(\"Please enter a number: \")\n",
        "number = int(user_input)\n",
        "file_name = input(\"Please enter filename: \")\n",
        "with open(file_name, \"w\") as timetable_file:\n",
        "  for i in range(1, 10):\n",
        "    answer = number*i\n",
        "    timetable_file.write(\"{0} x {1} = {2}\\n\".format(number, i, answer))\n"
      ],
      "metadata": {
        "colab": {
          "base_uri": "https://localhost:8080/"
        },
        "id": "wVcl8BDPMwDH",
        "outputId": "81b9b512-ff20-48a9-e25d-13f585422bff"
      },
      "execution_count": null,
      "outputs": [
        {
          "name": "stdout",
          "output_type": "stream",
          "text": [
            "Please enter a number: 5\n",
            "Please enter filename: sillyfile2.txt\n"
          ]
        }
      ]
    },
    {
      "cell_type": "code",
      "source": [
        "file_path = input(\"Enter student file name: \")\n",
        "first_col = input(\"Enter 1st column length: \")\n",
        "second_col = input(\"Enter 2nd column length: \")\n",
        "third_col = input(\"Enter 3rd column length: \")\n",
        "print(\"{0:>{x}}{1:>{y}}{2:>{z}}\".format(\"Student Number\", \"First Name\", \"Last Name\", x=first_col, y=second_col, z=third_col))\n",
        "counter = 1\n",
        "s_num = \"\"\n",
        "f_name = \"\"\n",
        "with open(file_path, \"r\") as student_file:\n",
        "  while True:\n",
        "    text = student_file.readline()\n",
        "    if text == \"\":\n",
        "      break\n",
        "    text = text.strip()\n",
        "    if counter == 1:\n",
        "      s_num = text\n",
        "      counter = 2\n",
        "    elif counter == 2:\n",
        "      f_name = text\n",
        "      counter = 3\n",
        "    else:\n",
        "      print(\"{0:>{x}}{1:>{y}}{2:>{z}}\".format(s_num, f_name, text, x=first_col, y=second_col, z=third_col))\n",
        "      counter = 1\n"
      ],
      "metadata": {
        "colab": {
          "base_uri": "https://localhost:8080/"
        },
        "id": "WbGtj6a_hp8Q",
        "outputId": "8c99bc65-d44a-483b-fe17-9be027ef9d83"
      },
      "execution_count": null,
      "outputs": [
        {
          "output_type": "stream",
          "name": "stdout",
          "text": [
            "Enter student file name: sample.txt\n",
            "Enter 1st column length: 20\n",
            "Enter 2nd column length: 21\n",
            "Enter 3rd column length: 22\n",
            "      Student Number           First Name             Last Name\n",
            "             6354625                 John                 Smith\n",
            "             0657373                 Mary                Wilson\n",
            "             0042627                  Lee                 Davis\n"
          ]
        }
      ]
    },
    {
      "cell_type": "code",
      "source": [
        "import csv\n",
        "file_path = input(\"Enter subject file name: \")\n",
        "first_col = int(input(\"Enter 1st column length: \"))\n",
        "second_col = int(input(\"Enter 2nd column length: \"))\n",
        "third_col = int(input(\"Enter 3rd column length: \"))\n",
        "print(\"{0:<{x}}{1:^{y}}{2:>{z}}\".format(\"Code\", \"Name\", \"CP\", x=first_col, y=second_col, z=third_col))\n",
        "with open(file_path, \"r\") as student_file:\n",
        "  reader = csv.DictReader(student_file)\n",
        "  for row in reader:\n",
        "    student_code = str(row.get(\"code\"))\n",
        "    student_name = str(row.get(\"name\"))\n",
        "    student_cp = str(row.get(\"cp\"))\n",
        "    print(\"{0:<{x}}{1:^{y}}{2:>{z}}\".format(student_code, student_name, student_cp, x=first_col, y=second_col, z=third_col))"
      ],
      "metadata": {
        "colab": {
          "base_uri": "https://localhost:8080/"
        },
        "id": "fmMirP9unbaz",
        "outputId": "6f6b1157-1b9b-4c7f-eb69-f711ea12ed62"
      },
      "execution_count": null,
      "outputs": [
        {
          "output_type": "stream",
          "name": "stdout",
          "text": [
            "Enter student file name: student.csv\n",
            "Enter 1st column length: 10\n",
            "Enter 2nd column length: 20\n",
            "Enter 3rd column length: 5\n",
            "Code              Name           CP\n",
            "MATH111           John            4\n",
            "CSCI222          Hunter           5\n",
            "MATH333         Winston           6\n",
            "IT444            Arthur           7\n"
          ]
        }
      ]
    },
    {
      "cell_type": "code",
      "source": [
        "def get_assessment_mark(assessment_name, mark_min, mark_max):\n",
        "#{\n",
        "    # write your code here\n",
        "    user_input = input(\"Enter {0} mark ({1}-{2}): \".format(assessment_name, mark_min, mark_max))\n",
        "    try:\n",
        "      number = int(user_input)\n",
        "    except:\n",
        "      raise ValueError(\"{0} mark is invalid\".format(assessment_name))\n",
        "    if number < mark_min:\n",
        "       raise ValueError(\"{0} mark must be between {1} and {2}\".format(assessment_name, mark_min, mark_max))\n",
        "    elif number > mark_max:\n",
        "       raise ValueError(\"{0} mark must be between {1} and {2}\".format(assessment_name, mark_min, mark_max))\n",
        "    else:\n",
        "      return number\n",
        "#}\n",
        "\n",
        "try:\n",
        "  answer = get_assessment_mark(\"assessment1\", -7, 50)\n",
        "except ValueError as error:\n",
        "  print(error)\n"
      ],
      "metadata": {
        "colab": {
          "base_uri": "https://localhost:8080/"
        },
        "id": "zdoEN0TR521t",
        "outputId": "0d3c3f8a-0ebc-44ca-fd64-db1fde75186e"
      },
      "execution_count": null,
      "outputs": [
        {
          "name": "stdout",
          "output_type": "stream",
          "text": [
            "Enter assessment1 mark (-7-50): 30\n"
          ]
        }
      ]
    },
    {
      "cell_type": "code",
      "source": [
        "subject = input(\"Please input the subject name: \")\n",
        "user = input(\"Please input the users name: \")\n",
        "\n",
        "\n",
        "def assignment():\n",
        "  score = input(\"please enter the users score: \")\n",
        "  try:\n",
        "    number = int(score)\n",
        "  except:\n",
        "    raise Exception(\"the score is invalid\")\n",
        "  else:\n",
        "    return number\n",
        "  finally:\n",
        "    print(\"Hello World\")\n",
        "\n",
        "try:\n",
        "  answer = assignment()\n",
        "except Exception as error:\n",
        "  print(error)\n"
      ],
      "metadata": {
        "colab": {
          "base_uri": "https://localhost:8080/"
        },
        "id": "ROC9YqxpA8zF",
        "outputId": "25ca8b9d-f8ed-4898-d01a-c9f2f57c8950"
      },
      "execution_count": null,
      "outputs": [
        {
          "output_type": "stream",
          "name": "stdout",
          "text": [
            "Please input the subject name: ict123\n",
            "Please input the users name: bob\n",
            "please enter the users score: 123a\n",
            "Hello World\n",
            "the score is invalid\n"
          ]
        }
      ]
    },
    {
      "cell_type": "code",
      "source": [
        "try:\n",
        "    x = 1\n",
        "    assert x >= 0, \"Only positive values are allowed.\"\n",
        "except AssertionError as e:\n",
        "    print(\"An error occurred:\", str(e))"
      ],
      "metadata": {
        "id": "uuLeurHSFXJx"
      },
      "execution_count": null,
      "outputs": []
    },
    {
      "cell_type": "code",
      "source": [
        "file_path = input(\"Enter student file name: \")\n",
        "first_col = input(\"Enter 1st column length: \")\n",
        "second_col = input(\"Enter 2nd column length: \")\n",
        "third_col = input(\"Enter 3rd column length: \")\n",
        "print(\"{0:>{x}}{1:>{y}}{2:>{z}}\".format(\"Student Number\", \"First Name\", \"Last Name\", x=first_col, y=second_col, z=third_col))\n",
        "counter = 1\n",
        "s_num = \"\"\n",
        "f_name = \"\"\n",
        "with open(file_path, \"r\") as student_file:\n",
        "  while True:\n",
        "    text = student_file.readline()\n",
        "    if text == \"\":\n",
        "      break\n",
        "    text = text.strip()\n",
        "    if counter == 1:\n",
        "      s_num = text\n",
        "      counter = 2\n",
        "    elif counter == 2:\n",
        "      f_name = text\n",
        "      counter = 3\n",
        "    else:\n",
        "      print(\"{0:>{first_col}}{1:>{second_col}}{2:>{third_col}}\".format(s_num, f_name, text))\n",
        "      counter = 1\n"
      ],
      "metadata": {
        "colab": {
          "base_uri": "https://localhost:8080/",
          "height": 322
        },
        "id": "KvWdi1QmGx2k",
        "outputId": "46ad233c-fb2f-4e37-b561-a73ebd9a03d1"
      },
      "execution_count": null,
      "outputs": [
        {
          "output_type": "stream",
          "name": "stdout",
          "text": [
            "Enter student file name: silly.txt\n",
            "Enter 1st column length: 21\n",
            "Enter 2nd column length: 22\n",
            "Enter 3rd column length: 23\n",
            "       Student Number            First Name              Last Name\n"
          ]
        },
        {
          "output_type": "error",
          "ename": "KeyError",
          "evalue": "ignored",
          "traceback": [
            "\u001b[0;31m---------------------------------------------------------------------------\u001b[0m",
            "\u001b[0;31mKeyError\u001b[0m                                  Traceback (most recent call last)",
            "\u001b[0;32m<ipython-input-14-4724b1c22cf3>\u001b[0m in \u001b[0;36m<cell line: 9>\u001b[0;34m()\u001b[0m\n\u001b[1;32m     20\u001b[0m       \u001b[0mcounter\u001b[0m \u001b[0;34m=\u001b[0m \u001b[0;36m3\u001b[0m\u001b[0;34m\u001b[0m\u001b[0;34m\u001b[0m\u001b[0m\n\u001b[1;32m     21\u001b[0m     \u001b[0;32melse\u001b[0m\u001b[0;34m:\u001b[0m\u001b[0;34m\u001b[0m\u001b[0;34m\u001b[0m\u001b[0m\n\u001b[0;32m---> 22\u001b[0;31m       \u001b[0mprint\u001b[0m\u001b[0;34m(\u001b[0m\u001b[0;34m\"{0:>{first_col}}{1:>{second_col}}{2:>{third_col}}\"\u001b[0m\u001b[0;34m.\u001b[0m\u001b[0mformat\u001b[0m\u001b[0;34m(\u001b[0m\u001b[0ms_num\u001b[0m\u001b[0;34m,\u001b[0m \u001b[0mf_name\u001b[0m\u001b[0;34m,\u001b[0m \u001b[0mtext\u001b[0m\u001b[0;34m)\u001b[0m\u001b[0;34m)\u001b[0m\u001b[0;34m\u001b[0m\u001b[0;34m\u001b[0m\u001b[0m\n\u001b[0m\u001b[1;32m     23\u001b[0m       \u001b[0mcounter\u001b[0m \u001b[0;34m=\u001b[0m \u001b[0;36m1\u001b[0m\u001b[0;34m\u001b[0m\u001b[0;34m\u001b[0m\u001b[0m\n\u001b[1;32m     24\u001b[0m \u001b[0;34m\u001b[0m\u001b[0m\n",
            "\u001b[0;31mKeyError\u001b[0m: 'first_col'"
          ]
        }
      ]
    },
    {
      "cell_type": "code",
      "source": [
        "filepath = input(\"Enter file path: \")\n",
        "print(\"{0:>21}{1:>22}{2:>23}\".format(\"Student Number\", \"First Name\", \"Last Name\"))\n",
        "counter = 1\n",
        "s_num = \"\"\n",
        "f_name = \"\"\n",
        "with open(filepath, \"r\") as student_file:\n",
        "  while True:\n",
        "    text = student_file.readline()\n",
        "    if text == \"\":\n",
        "      break\n",
        "    text = text.strip()\n",
        "    if counter == 1:\n",
        "      s_num = text\n",
        "      counter = 2\n",
        "    elif counter == 2:\n",
        "      f_name = text\n",
        "      counter = 3\n",
        "    elif counter == 3:\n",
        "      print(\"{0:>21}{1:>22}{2:>23}\".format(s_num, f_name, text))\n",
        "      counter = 1\n"
      ],
      "metadata": {
        "colab": {
          "base_uri": "https://localhost:8080/"
        },
        "id": "hMqLYX47MJ3T",
        "outputId": "c0ac3966-807f-4443-e2b1-8ba1af7f05c7"
      },
      "execution_count": null,
      "outputs": [
        {
          "output_type": "stream",
          "name": "stdout",
          "text": [
            "Enter file path: silly.txt\n",
            "       Student Number            First Name              Last Name\n",
            "              6354625                  John                  Smith\n",
            "              0657373                  Mary                 Wilson\n"
          ]
        }
      ]
    },
    {
      "cell_type": "code",
      "source": [
        "numberList = [0, 1, 2, 3, 4, 5, 6, 7, 8, 9]\n",
        "print(numberList[3])\n",
        "numberList[3] = 23\n",
        "print(numberList[3])\n",
        "numberList.insert(3, 32)\n",
        "print(numberList)"
      ],
      "metadata": {
        "colab": {
          "base_uri": "https://localhost:8080/"
        },
        "id": "hdzajBsyV2cQ",
        "outputId": "35babec0-9cc8-47bc-87d7-d79326817811"
      },
      "execution_count": null,
      "outputs": [
        {
          "output_type": "stream",
          "name": "stdout",
          "text": [
            "3\n",
            "23\n",
            "[0, 1, 2, 32, 23, 4, 5, 6, 7, 8, 9]\n"
          ]
        }
      ]
    },
    {
      "cell_type": "code",
      "source": [
        "def get_assessment_mark(assessment_name, mark_min, mark_max):\n",
        "#{\n",
        "  \"\"\"\n",
        "  Ask user to enter assessment mark and return the mark.\n",
        "  Raise ValueError if one of the following occurs:\n",
        "  - mark is not an integer\n",
        "  - mark is out of range\n",
        "  \"\"\"\n",
        "\n",
        "  # ask user to enter mark\n",
        "  user_input = input(\"Enter {0} mark ({1}-{2}): \"\n",
        "    .format(assessment_name, mark_min, mark_max))\n",
        "\n",
        "  # check if mark is integer\n",
        "  try:\n",
        "    mark = int(user_input)\n",
        "  except ValueError as e:\n",
        "    raise ValueError(\"{0} mark is invalid\".format(assessment_name))\n",
        "\n",
        "  # check mark between max and min\n",
        "  if (mark > mark_max):\n",
        "    raise ValueError(\"{0} mark must be between {1} and {2}\"\n",
        "      .format(assessment_name, mark_min, mark_max))\n",
        "\n",
        "  if (mark < mark_min):\n",
        "    raise ValueError(\"{0} mark must be between {1} and {2}\"\n",
        "      .format(assessment_name, mark_min, mark_max))\n",
        "\n",
        "  return mark\n",
        "#}\n",
        "\n",
        "# write your code here\n",
        "try:\n",
        "  user_assignment = get_assessment_mark(\"assignment\", 0, 20)\n",
        "  user_project = get_assessment_mark(\"project\", 0, 30)\n",
        "  user_final = get_assessment_mark(\"final exam\", 0, 50)\n",
        "  total_mark = int(user_assignment) + int(user_project) + int(user_final)\n",
        "  print(\"Total mark: {0}\".format(total_mark))\n",
        "except ValueError as error:\n",
        "  print(\"Error: {0}\".format(error))\n",
        "\n",
        "\n"
      ],
      "metadata": {
        "colab": {
          "base_uri": "https://localhost:8080/"
        },
        "id": "7EbetPuD8dxJ",
        "outputId": "693d0f18-8897-4353-8977-3b150dd54698"
      },
      "execution_count": null,
      "outputs": [
        {
          "output_type": "stream",
          "name": "stdout",
          "text": [
            "Enter assignment mark (0-20): frog\n",
            "Error: assignment mark is invalid\n"
          ]
        }
      ]
    },
    {
      "cell_type": "code",
      "source": [
        "state_abb = {\n",
        "  \"NSW\": \"New South Wales\",\n",
        "  \"ACT\": \"Australian Capital Territory\",\n",
        "  \"NT\": \"Northern Territory\",\n",
        "  \"QLD\": \"Queensland\",\n",
        "  \"SA\": \"South Australia\",\n",
        "  \"TAS\": \"Tasmania\",\n",
        "  \"VIC\": \"Victoria\",\n",
        "  \"WA\": \"Western Australia\"\n",
        "}\n",
        "\n",
        "# write code to print out Queensland and Victoria.\n",
        "print(state_abb.get(\"QLD\"))\n",
        "print(state_abb.get(\"VIC\"))"
      ],
      "metadata": {
        "colab": {
          "base_uri": "https://localhost:8080/"
        },
        "id": "63vTl4eAKZEO",
        "outputId": "9a55c99e-9062-406d-a571-815e280a98b8"
      },
      "execution_count": null,
      "outputs": [
        {
          "output_type": "stream",
          "name": "stdout",
          "text": [
            "Queensland\n",
            "Victoria\n"
          ]
        }
      ]
    },
    {
      "cell_type": "code",
      "source": [
        "# mapping from state abb to state full name\n",
        "state_map = {\n",
        "  \"NSW\": \"New South Wales\",\n",
        "  \"ACT\": \"Australian Capital Territory\",\n",
        "  \"NT\": \"Northern Territory\",\n",
        "  \"QLD\": \"Queensland\",\n",
        "  \"SA\": \"South Australia\",\n",
        "  \"TAS\": \"Tasmania\",\n",
        "  \"VIC\": \"Victoria\",\n",
        "  \"WA\": \"Western Australia\"\n",
        "}\n",
        "\n",
        "# write your code here\n",
        "#Enter state NSW/ACT/NT/QLD/SA/TAS/VIC/WA:\n",
        "#The state you entered is\n",
        "\n",
        "\n",
        "state_code = input(\"Enter state NSW/ACT/NT/QLD/SA/TAS/VIC/WA: \")\n",
        "print(\"The state you entered is {0}\".format(state_map.get(state_code)))"
      ],
      "metadata": {
        "colab": {
          "base_uri": "https://localhost:8080/"
        },
        "id": "ijqA_8l4LZiP",
        "outputId": "c898b3df-453c-4132-e640-8c2aababa148"
      },
      "execution_count": null,
      "outputs": [
        {
          "output_type": "stream",
          "name": "stdout",
          "text": [
            "Enter state NSW/ACT/NT/QLD/SA/TAS/VIC/WA: NT\n",
            "The state you entered is Northern Territory\n"
          ]
        }
      ]
    },
    {
      "cell_type": "code",
      "source": [
        "print(\"An even integer between 0 and 10 is called a green number\")\n",
        "print(\"An odd integer between 10 and 100 is called a red number\")\n",
        "print(\"The rest are called blue numbers\")\n",
        "\n",
        "while True:\n",
        "  var_colour = \"blue\"\n",
        "  var_input = input(\"Enter an integer (X to quit): \")\n",
        "  if var_input == \"X\" or var_input == \"x\":\n",
        "    break\n",
        "  if var_input.isdigit():\n",
        "    var_int = int(var_input)\n",
        "    if var_int >= 0 and var_int <= 10 and (var_int % 2 == 0):\n",
        "      var_colour = \"green\"\n",
        "    elif var_int > 10 and var_int < 100 and (var_int % 2 != 0):\n",
        "      var_colour = \"red\"\n",
        "    else:\n",
        "      var_colour = \"blue\"\n",
        "  print(\"{0} is {1}\".format(var_input, var_colour))\n",
        "\n"
      ],
      "metadata": {
        "colab": {
          "base_uri": "https://localhost:8080/"
        },
        "id": "97KipDSInsKO",
        "outputId": "3fedf4b3-c339-4b13-84f0-a561b9fba7e1"
      },
      "execution_count": null,
      "outputs": [
        {
          "name": "stdout",
          "output_type": "stream",
          "text": [
            "An even integer between 0 and 10 is called a green number\n",
            "An odd integer between 10 and 100 is called a red number\n",
            "The rest are called blue numbers\n",
            "Enter an integer (X to quit): 11\n",
            "11 is red\n",
            "Enter an integer (X to quit): -6\n",
            "-6 is blue\n",
            "Enter an integer (X to quit): 10\n",
            "10 is green\n",
            "Enter an integer (X to quit): frog\n",
            "frog is blue\n",
            "Enter an integer (X to quit): 2.7\n",
            "2.7 is blue\n",
            "Enter an integer (X to quit): x\n"
          ]
        }
      ]
    },
    {
      "cell_type": "code",
      "source": [
        "\n",
        "def solution(s):\n",
        "    # Your code here\n",
        "    answer = 1\n",
        "    if (len(s) % 2 == 0):\n",
        "      length_odd = True\n",
        "    else:\n",
        "      length_odd = False\n",
        "    for i in range(len(s)):\n",
        "      print(i)\n",
        "\n",
        "#I want to find the smallest pattern that can iterate the whole string without any remainders.\n",
        "not_found = True\n",
        "while (not_found):\n",
        "  #try spilt string into groups of 1 into split_string[]\n",
        "    #does each item in split_string match next item in split_string?\n",
        "      #if yes, not_found = False\n",
        "\n",
        "def split_str(s, chunk):\n",
        "    lst = []\n",
        "    if chunk <= len(s):\n",
        "        lst.extend([s[:chunk]])\n",
        "        lst.extend(split_str(s[chunk:], chunk))\n",
        "    else:\n",
        "      return True\n",
        "\n",
        "\n",
        "\n",
        "solution(\"abcd\")"
      ],
      "metadata": {
        "colab": {
          "base_uri": "https://localhost:8080/"
        },
        "id": "5is2UXcAW01G",
        "outputId": "244eb400-fc7a-4622-c4d9-38547122bd67"
      },
      "execution_count": 8,
      "outputs": [
        {
          "output_type": "stream",
          "name": "stdout",
          "text": [
            "0\n",
            "1\n",
            "2\n",
            "3\n"
          ]
        }
      ]
    },
    {
      "cell_type": "code",
      "source": [
        "def testRepeat(length, s):\n",
        "  i = 0\n",
        "  if length < 1:\n",
        "    return False\n",
        "  if length > len(s):\n",
        "    return False\n",
        "  while i < (len(s)-length):\n",
        "    if s[i:(i+length)] == s[(i+length):(i+length+length)]:\n",
        "      i = i + length\n",
        "    else:\n",
        "      return False\n",
        "  return True\n",
        "\n",
        "\n",
        "def findRepeat(s):\n",
        "  i = 0\n",
        "  if len(s) <= 0:\n",
        "    return 0\n",
        "  while i < len(s):\n",
        "    if (testRepeat(i, s)):\n",
        "      return i\n",
        "    else:\n",
        "      i = i + 1\n",
        "  return 0\n",
        "\n",
        "def numberRepeat(s):\n",
        "  n = findRepeat(s)\n",
        "  if n == 0:\n",
        "    return 0\n",
        "  else:\n",
        "    return int(len(s)/n)\n",
        "\n",
        "\n",
        "testString = \"abc123\"\n",
        "print(numberRepeat(testString))"
      ],
      "metadata": {
        "colab": {
          "base_uri": "https://localhost:8080/"
        },
        "id": "ascX7rFfCpqw",
        "outputId": "7b11525a-cc52-4bd5-a588-a55a7773f9e6"
      },
      "execution_count": 81,
      "outputs": [
        {
          "output_type": "stream",
          "name": "stdout",
          "text": [
            "0\n"
          ]
        }
      ]
    },
    {
      "cell_type": "code",
      "source": [
        "def solution(s):\n",
        "    # Your code here\n",
        "    n = findRepeat(s)\n",
        "    if n < 1:\n",
        "        return 0\n",
        "    else:\n",
        "        return int(len(s)/n)\n",
        "\n",
        "def findRepeat(s):\n",
        "    i = 0\n",
        "    if len(s) <= 0:\n",
        "        return 0\n",
        "    elif len(s) == 1:\n",
        "        return 1\n",
        "    while i < len(s):\n",
        "        if (testRepeat(i, s)):\n",
        "            return i\n",
        "        else:\n",
        "            i = i + 1\n",
        "    return 0\n",
        "\n",
        "\n",
        "def testRepeat(length, s):\n",
        "    i = 0\n",
        "    if length < 1:\n",
        "        return False\n",
        "    if length > len(s):\n",
        "        return False\n",
        "    while i < (len(s)-length):\n",
        "        if s[i:(i+length)] == s[(i+length):(i+length+length)]:\n",
        "            i = i + length\n",
        "        else:\n",
        "            return False\n",
        "    return True\n",
        "\n",
        "\n",
        "solution(\"abcabcabcabc\")"
      ],
      "metadata": {
        "colab": {
          "base_uri": "https://localhost:8080/"
        },
        "id": "8B1BHVy3Vykt",
        "outputId": "4501e952-ec98-4b5f-8e3e-477986aea84e"
      },
      "execution_count": 79,
      "outputs": [
        {
          "output_type": "execute_result",
          "data": {
            "text/plain": [
              "4"
            ]
          },
          "metadata": {},
          "execution_count": 79
        }
      ]
    },
    {
      "cell_type": "code",
      "source": [
        "def solution(s):\n",
        "  n = len(s)\n",
        "  #if out of band return 0\n",
        "  if n < 1 or n > 199:\n",
        "    return 0\n",
        "  i = 1\n",
        "  answer = 0\n",
        "\n",
        "  while i < n:\n",
        "    #check if string can be divided evenly by i\n",
        "    if (n / i % 2) == 0:\n",
        "      #check how many times (if at all) s[0:i] is repeated\n",
        "      repeated = s.count(s[:i])\n",
        "      print(f\"at i = {i} repeated = {repeated}\")\n",
        "      if repeated > answer:\n",
        "        answer = repeated\n",
        "        #print(i)\n",
        "    i = i + 1\n",
        "  return answer\n",
        "\n",
        "print(solution(\"abcabcabcabc\"))\n",
        "print(solution(\"abccbaabccba\"))\n",
        "#print(solution(\"abcabcabcabc\"))\n",
        "#print(solution(\"abccbaabccba\"))"
      ],
      "metadata": {
        "colab": {
          "base_uri": "https://localhost:8080/"
        },
        "id": "znA8IWCSYmg-",
        "outputId": "76c62cbf-65f9-4d73-dd5d-f4c123a6ac7d"
      },
      "execution_count": 97,
      "outputs": [
        {
          "output_type": "stream",
          "name": "stdout",
          "text": [
            "at i = 1 repeated = 4\n",
            "at i = 2 repeated = 4\n",
            "at i = 3 repeated = 4\n",
            "at i = 6 repeated = 2\n",
            "4\n",
            "at i = 1 repeated = 4\n",
            "at i = 2 repeated = 2\n",
            "at i = 3 repeated = 2\n",
            "at i = 6 repeated = 2\n",
            "4\n"
          ]
        }
      ]
    },
    {
      "cell_type": "code",
      "source": [
        "def solution(l):\n",
        "  #given list of version numbers, sort the list\n",
        "  #if missing the subversion number, it should go before those with subversion numbers\n",
        "\n",
        "  new_list = []\n",
        "  for i in l:\n",
        "    a = i.split(\".\")\n",
        "    new_list.append(a)\n",
        "  print(new_list)\n",
        "  new_list = sorted(new_list, key=lambda x: x[0])\n",
        "  print(new_list)\n",
        "\n",
        "\n",
        "def sort_list(index, l):\n",
        "  if type(l) is not list:\n",
        "    return l\n",
        "  else:\n",
        "    list_len = len(l)\n",
        "    for i in range(list_len):\n",
        "      temp_list = sort_list((index+1), l[i])\n",
        "\n",
        "\n",
        "\n",
        "def longest(l):\n",
        "  if type(l) is list:\n",
        "    max = len(l)\n",
        "    for i in l:\n",
        "        max_i = longest(i)\n",
        "        if max_i > max:\n",
        "            max = max_i\n",
        "    return max\n",
        "  else:\n",
        "    return 0\n",
        "\n",
        "solution([\"1.11\", \"2.0.0\", \"1.2\", \"2\", \"0.1\", \"1.2.1\", \"1.1.1\", \"2.0\"])\n",
        "#print(solution({\"1.11\", \"2.0.0\", \"1.2\", \"2\", \"0.1\", \"1.2.1\", \"1.1.1\", \"2.0\"}))\n",
        "#print(solution({\"1.1.2\", \"1.0\", \"1.3.3\", \"1.0.12\", \"1.0.2\"}))"
      ],
      "metadata": {
        "colab": {
          "base_uri": "https://localhost:8080/",
          "height": 141
        },
        "id": "jNJOdeHkkRp1",
        "outputId": "8efb15d7-7022-4b5a-b66e-0b31e82dfce5"
      },
      "execution_count": 119,
      "outputs": [
        {
          "output_type": "error",
          "ename": "SyntaxError",
          "evalue": "ignored",
          "traceback": [
            "\u001b[0;36m  File \u001b[0;32m\"<ipython-input-119-1d1059ff51e6>\"\u001b[0;36m, line \u001b[0;32m13\u001b[0m\n\u001b[0;31m    list1 = [][][][][][][][][][]\u001b[0m\n\u001b[0m               ^\u001b[0m\n\u001b[0;31mSyntaxError\u001b[0m\u001b[0;31m:\u001b[0m invalid syntax\n"
          ]
        }
      ]
    },
    {
      "cell_type": "code",
      "source": [
        "def compare_strings(string1, string2):\n",
        "  list1 = string1.split(\".\")\n",
        "  list2 = string2.split(\".\")\n",
        "  if len(list1) >= len(list2):\n",
        "    longest = list1\n",
        "    shortest = list2\n",
        "  else:\n",
        "    longest = list2\n",
        "    shortest = list1\n",
        "  length = len(shortest)\n",
        "\n",
        "\n",
        "\n",
        "def compare_lists(list1, list2, length):\n",
        "  for i in range(length):\n",
        "\n",
        "\n",
        "\n",
        "\n",
        "def compare_items(item1, item2):\n",
        "  #if they are the same, then return \"same\"\n",
        "  if item1 == item2:\n",
        "    return \"same\"\n",
        "  #if item1 is greater, return 1\n",
        "  elif item1 > item2:\n",
        "    return 1\n",
        "  #else item2 should be greater, return 2\n",
        "  else:\n",
        "    return 2\n"
      ],
      "metadata": {
        "id": "qxeCMWgsEcSn"
      },
      "execution_count": null,
      "outputs": []
    },
    {
      "cell_type": "code",
      "source": [
        "def mergeSort(arr):\n",
        "    if len(arr) > 1:\n",
        "        middle = len(arr)//2\n",
        "        L = arr[:middle]\n",
        "        R = arr[middle:]\n",
        "\n",
        "        mergeSort(L)\n",
        "        mergeSort(R)\n",
        "\n",
        "        i = j = k = 0\n",
        "\n",
        "        # Copy data to temp arrays L[] and R[]\n",
        "        while i < len(L) and j < len(R):\n",
        "            if L[i] <= R[j]:\n",
        "                arr[k] = L[i]\n",
        "                i += 1\n",
        "            else:\n",
        "                arr[k] = R[j]\n",
        "                j += 1\n",
        "            k += 1\n",
        "\n",
        "        # Checking if any element was left\n",
        "        while i < len(L):\n",
        "            arr[k] = L[i]\n",
        "            i += 1\n",
        "            k += 1\n",
        "\n",
        "        while j < len(R):\n",
        "            arr[k] = R[j]\n",
        "            j += 1\n",
        "            k += 1\n",
        "\n",
        "\n",
        "# Code to print the list\n",
        "def printList(arr):\n",
        "    for i in range(len(arr)):\n",
        "        print(arr[i], end=\" \")\n",
        "    print()\n",
        "\n",
        "\n",
        "# Driver Code\n",
        "if __name__ == '__main__':\n",
        "    arr = [12, 11, 13, 5, 6, 7, 19, 2, 17, 4]\n",
        "    print(\"Given array is\")\n",
        "    printList(arr)\n",
        "    mergeSort(arr)\n",
        "    print(\"\\nSorted array is \")\n",
        "    printList(arr)"
      ],
      "metadata": {
        "colab": {
          "base_uri": "https://localhost:8080/"
        },
        "id": "YvctGXl7Nxwc",
        "outputId": "eb5bd60a-ec88-4992-f427-c151f69cdd0b"
      },
      "execution_count": 121,
      "outputs": [
        {
          "output_type": "stream",
          "name": "stdout",
          "text": [
            "Given array is\n",
            "12 11 13 5 6 7 19 2 17 4 \n",
            "\n",
            "Sorted array is \n",
            "2 4 5 6 7 11 12 13 17 19 \n"
          ]
        }
      ]
    },
    {
      "cell_type": "code",
      "source": [
        "def solution(array):\n",
        "  length = len(array)\n",
        "  if length <= 1:\n",
        "    return array\n",
        "\n",
        "  middle = length // 2\n",
        "\n",
        "  leftArray = array[:middle]\n",
        "  rightArray = array[middle:]\n",
        "\n",
        "  leftArray = mergeSort(leftArray)\n",
        "  rightArray = mergeSort(rightArray)\n",
        "  array = merge(leftArray, rightArray, array)\n",
        "\n",
        "  return \",\".join(array)\n",
        "\n",
        "def merge(left, right, array):\n",
        "  leftSize = len(array) // 2\n",
        "  rightSize = len(array) - leftSize\n",
        "\n",
        "  i = 0 #index for array\n",
        "  l = 0 #index for left\n",
        "  r = 0 #index for right\n",
        "\n",
        "  while l < leftSize and r < rightSize:\n",
        "    if (compare(left[l], right[r])):\n",
        "      array[i] = right[r]\n",
        "      r = r + 1\n",
        "    else:\n",
        "      array[i] = left[l]\n",
        "      l = l + 1\n",
        "    i = i + 1\n",
        "\n",
        "  while l < leftSize:\n",
        "    array[i] = left[l]\n",
        "    i = i + 1\n",
        "    l = l + 1\n",
        "\n",
        "  while r < rightSize:\n",
        "    array[i] = right[r]\n",
        "    i = i + 1\n",
        "    r = r + 1\n",
        "\n",
        "  return array\n",
        "\n",
        "def compare(left, right):\n",
        "  #function will return True if left is greater than right, or False if right is greater than left\n",
        "  leftArray = list(map(split_dot, left))\n",
        "  rightArray = list(map(split_dot, right))\n",
        "\n",
        "  i = 0\n",
        "  while i < len(leftArray) and i < len(rightArray):\n",
        "    if leftArray[i] > rightArray[i]:\n",
        "      return True\n",
        "    elif leftArray[i] < rightArray[i]:\n",
        "      return False\n",
        "    else:\n",
        "      i = i + 1\n",
        "  if len(leftArray) >= len(rightArray):\n",
        "    return True\n",
        "  else:\n",
        "    return False\n",
        "\n",
        "\n",
        "def split_dot(string1):\n",
        "  temp_array = []\n",
        "  new_string = string1.split(\".\")\n",
        "  for i in new_string:\n",
        "    if i.isdigit():\n",
        "      temp_array.append(int(i))\n",
        "  return temp_array\n",
        "\n",
        "list1 = [\"1.4\", \"2.4.1\", \"3.0.1\", \"3.0.11\", \"3\", \"1.0.8\"]\n",
        "\n",
        "mergeSort(list1)"
      ],
      "metadata": {
        "colab": {
          "base_uri": "https://localhost:8080/"
        },
        "id": "ggpfIMZpR1L6",
        "outputId": "d5853a44-874b-497e-d5b9-c79c01079176"
      },
      "execution_count": 178,
      "outputs": [
        {
          "output_type": "execute_result",
          "data": {
            "text/plain": [
              "['1.0.8', '1.4', '2.4.1', '3', '3.0.1', '3.0.11']"
            ]
          },
          "metadata": {},
          "execution_count": 178
        }
      ]
    },
    {
      "cell_type": "code",
      "source": [
        "def split_dot(string1):\n",
        "  temp_array = []\n",
        "  new_string = string1.split(\".\")\n",
        "  for i in new_string:\n",
        "    if i.isdigit():\n",
        "      temp_array.append(int(i))\n",
        "  return temp_array\n",
        "\n",
        "print(split_dot(\"1.3.4\"))"
      ],
      "metadata": {
        "colab": {
          "base_uri": "https://localhost:8080/"
        },
        "id": "N-YlETJOwisT",
        "outputId": "26396dbd-b08c-4416-de0c-e63c06bf9353"
      },
      "execution_count": 153,
      "outputs": [
        {
          "output_type": "stream",
          "name": "stdout",
          "text": [
            "[1, 3, 4]\n"
          ]
        }
      ]
    },
    {
      "cell_type": "code",
      "source": [
        "def compare(left, right):\n",
        "  #function will return True if left is greater than right, or False if right is greater than left\n",
        "  leftArray = left.split(\".\")\n",
        "  rightArray = right.split(\".\")\n",
        "\n",
        "  i = 0\n",
        "  while i < len(leftArray) and i < len(rightArray):\n",
        "    if leftArray[i] > rightArray[i]:\n",
        "      return True\n",
        "    elif leftArray[i] < rightArray[i]:\n",
        "      return False\n",
        "    else:\n",
        "      i = i + 1\n",
        "  if len(leftArray) <= len(rightArray):\n",
        "    return True\n",
        "  else:\n",
        "    return False\n",
        "\n",
        "\n",
        "print(compare(\"1.2.0\", \"1.2\"))\n",
        "print(compare(\"1.2.0\", \"1.22\"))\n",
        "print(compare(\"1.2.0\", \"1.1\"))"
      ],
      "metadata": {
        "colab": {
          "base_uri": "https://localhost:8080/"
        },
        "id": "xpYbgLKDfJSY",
        "outputId": "10ad6365-d0de-4adb-e164-ae427b1e5fc7"
      },
      "execution_count": 129,
      "outputs": [
        {
          "output_type": "stream",
          "name": "stdout",
          "text": [
            "False\n",
            "False\n",
            "True\n"
          ]
        }
      ]
    },
    {
      "cell_type": "code",
      "source": [
        "#an integer less than 100 is called a purple number\n",
        "#An integer between 100 and 500 is called a pink number\n",
        "#An integer larger than 500 is called an orange number\n",
        "\n",
        "def getColorList(intList=[]):\n",
        "  new_list = []\n",
        "  for i in range(0, len(intList)):\n",
        "    if intList[i] < 100:\n",
        "      new_list.append(\"purple\")\n",
        "    elif intList[i] >= 100 and intList[i] <= 500:\n",
        "      new_list.append(\"pink\")\n",
        "    elif intList[i] > 500:\n",
        "      new_list.append(\"orange\")\n",
        "  return new_list\n",
        "\n",
        "\n",
        "result = getColorList(intList=[10, 100, 601, 500, 502])\n",
        "print(result)"
      ],
      "metadata": {
        "colab": {
          "base_uri": "https://localhost:8080/"
        },
        "id": "9a5h8G43soNX",
        "outputId": "f50737e1-cc15-48ef-924e-6bb416523bae"
      },
      "execution_count": null,
      "outputs": [
        {
          "output_type": "stream",
          "name": "stdout",
          "text": [
            "['purple', 'pink', 'orange', 'pink', 'orange']\n"
          ]
        }
      ]
    },
    {
      "cell_type": "code",
      "source": [
        "#for i=0:len(numberList) print \"Index {0}: equation {1} x 10 = {2}\".format(index, numberList[Index], numberList[Index]*10)\n",
        "\n",
        "def displayEquation(numberList=[]):\n",
        "  for i in range(0, len(numberList)):\n",
        "    answer = numberList[i] * 10\n",
        "    print(\"Index {0}: equation {1} x 10 = {2}\".format(i, numberList[i], answer))\n",
        "\n",
        "\n",
        "displayEquation(numberList=[7, 33, 6, -5])\n",
        "displayEquation(numberList=[15, 28, 4, 0, 1])"
      ],
      "metadata": {
        "colab": {
          "base_uri": "https://localhost:8080/"
        },
        "id": "aYKyv94_x4kS",
        "outputId": "c3d77093-6846-45c4-f435-b898106038d1"
      },
      "execution_count": null,
      "outputs": [
        {
          "output_type": "stream",
          "name": "stdout",
          "text": [
            "Index 0: equation 7 x 10 = 70\n",
            "Index 1: equation 33 x 10 = 330\n",
            "Index 2: equation 6 x 10 = 60\n",
            "Index 3: equation -5 x 10 = -50\n",
            "Index 0: equation 15 x 10 = 150\n",
            "Index 1: equation 28 x 10 = 280\n",
            "Index 2: equation 4 x 10 = 40\n",
            "Index 3: equation 0 x 10 = 0\n",
            "Index 4: equation 1 x 10 = 10\n"
          ]
        }
      ]
    },
    {
      "cell_type": "code",
      "source": [
        "\n",
        "def add2Number(numberList=[]):\n",
        "  print(\"Equation here:\")\n",
        "  for i in range(0, len(numberList)):\n",
        "    #print numberList[i] + numberList[i+1] = answer\n",
        "    j = i + 1\n",
        "    if len(numberList) - i > 1:\n",
        "      answer = numberList[i] + numberList[j]\n",
        "      print(\"{0} + {1} = {2}\".format(numberList[i], numberList[j], answer))\n",
        "\n",
        "add2Number(numberList=[7, 33, 6, 3, 10])\n",
        "print()\n",
        "add2Number(numberList=[1, 5])\n",
        "print()\n",
        "add2Number(numberList=[7])\n",
        "print()\n",
        "add2Number(numberList=[])\n",
        "print()"
      ],
      "metadata": {
        "colab": {
          "base_uri": "https://localhost:8080/"
        },
        "id": "LP8Q-5E0zoa4",
        "outputId": "0b2ea5c6-811f-42a9-d7f8-f6c1b15e8144"
      },
      "execution_count": null,
      "outputs": [
        {
          "output_type": "stream",
          "name": "stdout",
          "text": [
            "Equation here:\n",
            "7 + 33 = 40\n",
            "33 + 6 = 39\n",
            "6 + 3 = 9\n",
            "3 + 10 = 13\n",
            "\n",
            "Equation here:\n",
            "1 + 5 = 6\n",
            "\n",
            "Equation here:\n",
            "\n",
            "Equation here:\n",
            "\n"
          ]
        }
      ]
    },
    {
      "cell_type": "code",
      "source": [
        "user_input = input(\"Enter a sentence: \")\n",
        "new_list = []\n",
        "for i in range(0, len(user_input)):\n",
        "  temp = str(i) + user_input[i] + str(i)\n",
        "  new_list.append(temp)\n",
        "print(\"String list: {0}\".format(new_list))"
      ],
      "metadata": {
        "colab": {
          "base_uri": "https://localhost:8080/"
        },
        "id": "cVQvYQIrbSHR",
        "outputId": "07c965e0-90d4-4343-cdf0-06df1a660c9f"
      },
      "execution_count": null,
      "outputs": [
        {
          "output_type": "stream",
          "name": "stdout",
          "text": [
            "Enter a sentence: Hi! I am Sam\n",
            "String list: ['0H0', '1i1', '2!2', '3 3', '4I4', '5 5', '6a6', '7m7', '8 8', '9S9', '10a10', '11m11']\n"
          ]
        }
      ]
    },
    {
      "cell_type": "code",
      "source": [
        "doctor = input(\"Enter doctor name: \")\n",
        "provider = input(\"Enter provider number: \")\n",
        "email_ = input(\"Enter email: \")\n",
        "phone_ = input(\"Enter phone: \")\n",
        "doctor_dictionary = {\n",
        "    \"doctor_name\": doctor,\n",
        "    \"provider_number\": provider,\n",
        "    \"email\": email_,\n",
        "    \"phone\": phone_\n",
        "}\n",
        "print(\"Display doctor info dictionary:\")\n",
        "print(doctor_dictionary)"
      ],
      "metadata": {
        "colab": {
          "base_uri": "https://localhost:8080/"
        },
        "id": "eZfljzIC2D3R",
        "outputId": "3d3d8941-159a-41bf-ae15-668935fabc6c"
      },
      "execution_count": null,
      "outputs": [
        {
          "output_type": "stream",
          "name": "stdout",
          "text": [
            "Enter doctor name: Bob\n",
            "Enter provider number: 123456\n",
            "Enter email: bob@gmail.com\n",
            "Enter phone: 0412345678\n",
            "Display doctor info dictionary:\n",
            "{'doctor_name': 'Bob', 'provider_number': '123456', 'email': 'bob@gmail.com', 'phone': '0412345678'}\n"
          ]
        }
      ]
    },
    {
      "cell_type": "code",
      "source": [
        "dictionary = {}\n",
        "while True:\n",
        "  subject = input(\"Enter subject code (Q to quit): \")\n",
        "  if subject == \"Q\" or subject == \"q\":\n",
        "    break\n",
        "  credit = input(\"Enter credit point: \")\n",
        "  dictionary[subject] = credit + \" cp\"\n",
        "print(\"Subject you have entered: \")\n",
        "\n",
        "for key, value in dictionary.items():\n",
        "    print(\"{0}{1}{2}\".format(key, ': ', value))"
      ],
      "metadata": {
        "colab": {
          "base_uri": "https://localhost:8080/"
        },
        "id": "ZjyCQkTH4D73",
        "outputId": "83bcb0d8-72ec-49d3-f9b7-ac377b109e5c"
      },
      "execution_count": null,
      "outputs": [
        {
          "output_type": "stream",
          "name": "stdout",
          "text": [
            "Enter subject code (Q to quit): MATH111\n",
            "Enter credit point: 5\n",
            "Enter subject code (Q to quit): CS102\n",
            "Enter credit point: 4\n",
            "Enter subject code (Q to quit): BUS304\n",
            "Enter credit point: 7\n",
            "Enter subject code (Q to quit): q\n",
            "Subject you have entered: \n",
            "MATH111: 5 cp\n",
            "CS102: 4 cp\n",
            "BUS304: 7 cp\n"
          ]
        }
      ]
    },
    {
      "cell_type": "code",
      "source": [
        "abbreviations = {\n",
        "    \"ICYMI\": \"in case you missed it\",\n",
        "    \"TMI\": \"Too much information\",\n",
        "    \"AFAIK\": \"As far as I know\",\n",
        "    \"LMK\": \"Let me know\",\n",
        "    \"NVM\": \"Nevermind\"\n",
        "}\n",
        "userCode = input(\"Enter text abbreviation ICYMI/TMI/AFAIK/LMK/NVM: \")\n",
        "if abbreviations.get(userCode) == None:\n",
        "  print(\"This text abbreviation is not supported\")\n",
        "else:\n",
        "  print(\"Text meaning: {0}\".format(abbreviations.get(userCode)))"
      ],
      "metadata": {
        "colab": {
          "base_uri": "https://localhost:8080/",
          "height": 398
        },
        "id": "OfhzVYkJ56QA",
        "outputId": "044138d9-7f82-454f-84a2-410b5e22ce2d"
      },
      "execution_count": null,
      "outputs": [
        {
          "output_type": "error",
          "ename": "KeyboardInterrupt",
          "evalue": "ignored",
          "traceback": [
            "\u001b[0;31m---------------------------------------------------------------------------\u001b[0m",
            "\u001b[0;31mKeyboardInterrupt\u001b[0m                         Traceback (most recent call last)",
            "\u001b[0;32m<ipython-input-49-b8ac1df06aec>\u001b[0m in \u001b[0;36m<cell line: 8>\u001b[0;34m()\u001b[0m\n\u001b[1;32m      6\u001b[0m     \u001b[0;34m\"NVM\"\u001b[0m\u001b[0;34m:\u001b[0m \u001b[0;34m\"Nevermind\"\u001b[0m\u001b[0;34m\u001b[0m\u001b[0;34m\u001b[0m\u001b[0m\n\u001b[1;32m      7\u001b[0m }\n\u001b[0;32m----> 8\u001b[0;31m \u001b[0muserCode\u001b[0m \u001b[0;34m=\u001b[0m \u001b[0minput\u001b[0m\u001b[0;34m(\u001b[0m\u001b[0;34m\"Enter text abbreviation ICYMI/TMI/AFAIK/LMK/NVM: \"\u001b[0m\u001b[0;34m)\u001b[0m\u001b[0;34m\u001b[0m\u001b[0;34m\u001b[0m\u001b[0m\n\u001b[0m\u001b[1;32m      9\u001b[0m \u001b[0;32mif\u001b[0m \u001b[0mabbreviations\u001b[0m\u001b[0;34m.\u001b[0m\u001b[0mget\u001b[0m\u001b[0;34m(\u001b[0m\u001b[0muserCode\u001b[0m\u001b[0;34m)\u001b[0m \u001b[0;34m==\u001b[0m \u001b[0;32mNone\u001b[0m\u001b[0;34m:\u001b[0m\u001b[0;34m\u001b[0m\u001b[0;34m\u001b[0m\u001b[0m\n\u001b[1;32m     10\u001b[0m   \u001b[0mprint\u001b[0m\u001b[0;34m(\u001b[0m\u001b[0;34m\"This text abbreviation is not supported\"\u001b[0m\u001b[0;34m)\u001b[0m\u001b[0;34m\u001b[0m\u001b[0;34m\u001b[0m\u001b[0m\n",
            "\u001b[0;32m/usr/local/lib/python3.10/dist-packages/ipykernel/kernelbase.py\u001b[0m in \u001b[0;36mraw_input\u001b[0;34m(self, prompt)\u001b[0m\n\u001b[1;32m    849\u001b[0m                 \u001b[0;34m\"raw_input was called, but this frontend does not support input requests.\"\u001b[0m\u001b[0;34m\u001b[0m\u001b[0;34m\u001b[0m\u001b[0m\n\u001b[1;32m    850\u001b[0m             )\n\u001b[0;32m--> 851\u001b[0;31m         return self._input_request(str(prompt),\n\u001b[0m\u001b[1;32m    852\u001b[0m             \u001b[0mself\u001b[0m\u001b[0;34m.\u001b[0m\u001b[0m_parent_ident\u001b[0m\u001b[0;34m,\u001b[0m\u001b[0;34m\u001b[0m\u001b[0;34m\u001b[0m\u001b[0m\n\u001b[1;32m    853\u001b[0m             \u001b[0mself\u001b[0m\u001b[0;34m.\u001b[0m\u001b[0m_parent_header\u001b[0m\u001b[0;34m,\u001b[0m\u001b[0;34m\u001b[0m\u001b[0;34m\u001b[0m\u001b[0m\n",
            "\u001b[0;32m/usr/local/lib/python3.10/dist-packages/ipykernel/kernelbase.py\u001b[0m in \u001b[0;36m_input_request\u001b[0;34m(self, prompt, ident, parent, password)\u001b[0m\n\u001b[1;32m    893\u001b[0m             \u001b[0;32mexcept\u001b[0m \u001b[0mKeyboardInterrupt\u001b[0m\u001b[0;34m:\u001b[0m\u001b[0;34m\u001b[0m\u001b[0;34m\u001b[0m\u001b[0m\n\u001b[1;32m    894\u001b[0m                 \u001b[0;31m# re-raise KeyboardInterrupt, to truncate traceback\u001b[0m\u001b[0;34m\u001b[0m\u001b[0;34m\u001b[0m\u001b[0m\n\u001b[0;32m--> 895\u001b[0;31m                 \u001b[0;32mraise\u001b[0m \u001b[0mKeyboardInterrupt\u001b[0m\u001b[0;34m(\u001b[0m\u001b[0;34m\"Interrupted by user\"\u001b[0m\u001b[0;34m)\u001b[0m \u001b[0;32mfrom\u001b[0m \u001b[0;32mNone\u001b[0m\u001b[0;34m\u001b[0m\u001b[0;34m\u001b[0m\u001b[0m\n\u001b[0m\u001b[1;32m    896\u001b[0m             \u001b[0;32mexcept\u001b[0m \u001b[0mException\u001b[0m \u001b[0;32mas\u001b[0m \u001b[0me\u001b[0m\u001b[0;34m:\u001b[0m\u001b[0;34m\u001b[0m\u001b[0;34m\u001b[0m\u001b[0m\n\u001b[1;32m    897\u001b[0m                 \u001b[0mself\u001b[0m\u001b[0;34m.\u001b[0m\u001b[0mlog\u001b[0m\u001b[0;34m.\u001b[0m\u001b[0mwarning\u001b[0m\u001b[0;34m(\u001b[0m\u001b[0;34m\"Invalid Message:\"\u001b[0m\u001b[0;34m,\u001b[0m \u001b[0mexc_info\u001b[0m\u001b[0;34m=\u001b[0m\u001b[0;32mTrue\u001b[0m\u001b[0;34m)\u001b[0m\u001b[0;34m\u001b[0m\u001b[0;34m\u001b[0m\u001b[0m\n",
            "\u001b[0;31mKeyboardInterrupt\u001b[0m: Interrupted by user"
          ]
        }
      ]
    },
    {
      "cell_type": "code",
      "source": [
        "import re\n",
        "def isvalidEmail(email):\n",
        "    pattern = \"^\\S+@\\S+\\.\\S+$\"\n",
        "    objs = re.search(pattern, email)\n",
        "    try:\n",
        "        if objs.string == email:\n",
        "            return True\n",
        "    except:\n",
        "        return False\n",
        "\n",
        "\n",
        "VorNotV = isvalidEmail(\"haxrataligmail.com\")\n",
        "print(VorNotV)"
      ],
      "metadata": {
        "colab": {
          "base_uri": "https://localhost:8080/"
        },
        "id": "GE75fvWpqFxi",
        "outputId": "890f8d3a-555f-47cb-bc96-a652a4cca096"
      },
      "execution_count": null,
      "outputs": [
        {
          "output_type": "stream",
          "name": "stdout",
          "text": [
            "False\n"
          ]
        }
      ]
    },
    {
      "cell_type": "code",
      "source": [
        "subject = {\n",
        "  \"code\": \"MATH101\",\n",
        "  \"title\": \"Algebra\",\n",
        "  \"cp\": 6,\n",
        "  \"department\": \"Mathematics\"\n",
        "}\n",
        "\n",
        "print(subject)"
      ],
      "metadata": {
        "colab": {
          "base_uri": "https://localhost:8080/"
        },
        "id": "UpZKQKOKhBVp",
        "outputId": "e4cec57d-2147-48c3-e028-9b2ab3cd36d8"
      },
      "execution_count": null,
      "outputs": [
        {
          "output_type": "stream",
          "name": "stdout",
          "text": [
            "{'code': 'MATH101', 'title': 'Algebra', 'cp': 6, 'department': 'Mathematics'}\n"
          ]
        }
      ]
    },
    {
      "cell_type": "code",
      "source": [
        "capital_city = {\n",
        "  \"Australia\": \"Canberra\",\n",
        "  \"Denmark\": \"Copenhagen\",\n",
        "  \"Ireland\": \"Dublin\",\n",
        "  \"New Zealand\": \"Wellington\",\n",
        "  \"Nepal\": \"Kathmandu\"\n",
        "}\n",
        "\n",
        "# Write your code here\n",
        "country = input(\"Enter country: \")\n",
        "if country in capital_city:\n",
        "  print(\"Capital city of {0} is {1}\".format(country, capital_city.get(country)))\n",
        "else:\n",
        "  print(\"Sorry I do not know the capital city of {0}\".format(country))"
      ],
      "metadata": {
        "colab": {
          "base_uri": "https://localhost:8080/"
        },
        "id": "iHCu_lbNi4nW",
        "outputId": "b2eabbdc-04fc-4ce8-e25e-d4603a126b8d"
      },
      "execution_count": null,
      "outputs": [
        {
          "output_type": "stream",
          "name": "stdout",
          "text": [
            "Enter country: Nepal\n",
            "Capital city of Nepal is Kathmandu\n"
          ]
        }
      ]
    },
    {
      "cell_type": "code",
      "source": [
        "# mapping from digit to english word\n",
        "DIGIT_MAP = {\n",
        "  \"0\": \"zero\",\n",
        "  \"1\": \"one\",\n",
        "  \"2\": \"two\",\n",
        "  \"3\": \"three\",\n",
        "  \"4\": \"four\",\n",
        "  \"5\": \"five\",\n",
        "  \"6\": \"six\",\n",
        "  \"7\": \"seven\",\n",
        "  \"8\": \"eight\",\n",
        "  \"9\": \"nine\"\n",
        "}\n",
        "\n",
        "# write your code here\n",
        "secret_code = input(\"Please enter a numerical code: \")\n",
        "#You have entered: zero-one-seven-six-eight-nine\n",
        "if len(secret_code) > 0:\n",
        "  i = 1\n",
        "  secret_string = DIGIT_MAP[secret_code[0]]\n",
        "  while i < len(secret_code):\n",
        "    number = secret_code[i]\n",
        "    secret_string = secret_string + \"-\" + DIGIT_MAP[number]\n",
        "    i = i + 1\n",
        "print(\"You have entered: \" + secret_string)\n"
      ],
      "metadata": {
        "colab": {
          "base_uri": "https://localhost:8080/"
        },
        "id": "1ug5e2k_kRHC",
        "outputId": "dcf796b6-16ef-4086-c070-55a5ca19ca93"
      },
      "execution_count": null,
      "outputs": [
        {
          "output_type": "stream",
          "name": "stdout",
          "text": [
            "Please enter a numerical code: \n",
            "You have entered: zero\n"
          ]
        }
      ]
    },
    {
      "cell_type": "code",
      "source": [
        "animal_list = [\"dog\", \"cat\", \"frog\"]\n",
        "\n",
        "# write your code here\n",
        "for animal in animal_list:\n",
        "  print(animal)"
      ],
      "metadata": {
        "colab": {
          "base_uri": "https://localhost:8080/"
        },
        "id": "tLu_Y8DUoEdC",
        "outputId": "d4f550a5-bf11-4573-cfd4-e16b1211c182"
      },
      "execution_count": null,
      "outputs": [
        {
          "output_type": "stream",
          "name": "stdout",
          "text": [
            "dog\n",
            "cat\n",
            "frog\n"
          ]
        }
      ]
    },
    {
      "cell_type": "code",
      "source": [
        "fibo_numbers = [0, 1, 1, 2, 3, 5, 8, 13]\n",
        "\n",
        "# write code here to add the following numbers\n",
        "# 21, 34 and 55 to the end of the list\n",
        "fibo_numbers.append(21)\n",
        "fibo_numbers.append(34)\n",
        "fibo_numbers.append(55)\n",
        "print(fibo_numbers)"
      ],
      "metadata": {
        "colab": {
          "base_uri": "https://localhost:8080/"
        },
        "id": "UqdzDh3uoP32",
        "outputId": "759d56a0-afe3-4d2e-aef7-a4659247ee5a"
      },
      "execution_count": null,
      "outputs": [
        {
          "output_type": "stream",
          "name": "stdout",
          "text": [
            "[0, 1, 1, 2, 3, 5, 8, 13, 21, 34, 55]\n"
          ]
        }
      ]
    },
    {
      "cell_type": "code",
      "source": [
        "random_numbers = [1, 4, 4, 10, -1]\n",
        "\n",
        "# write code using for-loop to\n",
        "# increase each number in the list by 20\n",
        "for i in range(0, len(random_numbers)):\n",
        "  random_numbers[i] = random_numbers[i] + 20\n",
        "\n",
        "print(random_numbers)"
      ],
      "metadata": {
        "colab": {
          "base_uri": "https://localhost:8080/"
        },
        "id": "spQWsX9gpVvH",
        "outputId": "de0f3a92-d4c2-4de0-a1e5-e14800dfd2db"
      },
      "execution_count": null,
      "outputs": [
        {
          "output_type": "stream",
          "name": "stdout",
          "text": [
            "[21, 24, 24, 30, 19]\n"
          ]
        }
      ]
    },
    {
      "cell_type": "code",
      "source": [
        "#Create a list called square_list and use a for-loop to put the 10 square numbers 1, 4, 9, ..., 100 into the list.\n",
        "square_list = []\n",
        "for i in range(1, 11):\n",
        "  squared = i * i\n",
        "  square_list.append(squared)\n",
        "\n",
        "print(square_list)"
      ],
      "metadata": {
        "colab": {
          "base_uri": "https://localhost:8080/"
        },
        "id": "UhOb2gJppvcE",
        "outputId": "3c7bb68c-6475-42c6-d640-274d77cf10ea"
      },
      "execution_count": null,
      "outputs": [
        {
          "output_type": "stream",
          "name": "stdout",
          "text": [
            "[1, 4, 9, 16, 25, 36, 49, 64, 81, 100]\n"
          ]
        }
      ]
    },
    {
      "cell_type": "code",
      "source": [
        "length = int(input(\"How many square numbers to generate? \"))\n",
        "\n",
        "square_list = []\n",
        "for i in range(0, length):\n",
        "  squared = i * i\n",
        "  square_list.append(squared)\n",
        "\n",
        "print(\"Here is a list of generated squares: {0}\".format(square_list))"
      ],
      "metadata": {
        "colab": {
          "base_uri": "https://localhost:8080/"
        },
        "id": "a3GuHn2k-Dwp",
        "outputId": "497b59bd-71c6-4e92-b08c-710eb4e537a9"
      },
      "execution_count": null,
      "outputs": [
        {
          "output_type": "stream",
          "name": "stdout",
          "text": [
            "How many square numbers to generate? 6\n",
            "Here is a list of generated squares: [0, 1, 4, 9, 16, 25]\n"
          ]
        }
      ]
    },
    {
      "cell_type": "code",
      "source": [
        "length = int(input(\"How many Fibonacci numbers to generate? \"))\n",
        "fib = []\n",
        "if length > 0:\n",
        "  fib.append(0)\n",
        "if length > 1:\n",
        "  fib.append(1)\n",
        "for i in range(2, length):\n",
        "  fib_number = fib[i-1] + fib[i-2]\n",
        "  fib.append(fib_number)\n",
        "\n",
        "print(\"Here is a list of generated Fibonacci numbers: {0}\".format(fib))"
      ],
      "metadata": {
        "colab": {
          "base_uri": "https://localhost:8080/"
        },
        "id": "P8WaGzTEBg55",
        "outputId": "e46bbcd7-ed36-4b53-d23e-77d85b16fc3c"
      },
      "execution_count": null,
      "outputs": [
        {
          "output_type": "stream",
          "name": "stdout",
          "text": [
            "How many Fibonacci numbers to generate? 2\n",
            "Here is a list of generated Fibonacci numbers: [0, 1]\n"
          ]
        }
      ]
    },
    {
      "cell_type": "code",
      "source": [
        "#Write a program using for-loop to display number from 2 to 8, one on each line.\n",
        "for i in range(2, 9):\n",
        "  print(i)"
      ],
      "metadata": {
        "colab": {
          "base_uri": "https://localhost:8080/"
        },
        "id": "X2wubU1CDWfy",
        "outputId": "6e69d294-b43b-4add-83a2-655b4398a4cc"
      },
      "execution_count": null,
      "outputs": [
        {
          "output_type": "stream",
          "name": "stdout",
          "text": [
            "2\n",
            "3\n",
            "4\n",
            "5\n",
            "6\n",
            "7\n",
            "8\n"
          ]
        }
      ]
    },
    {
      "cell_type": "code",
      "source": [
        "multiply = input(\"Enter a number: \")\n",
        "for i in range(1, 10):\n",
        "  answer = int(multiply) * i\n",
        "  print(\"{0} x {1} = {2}\".format(multiply, i, answer))"
      ],
      "metadata": {
        "colab": {
          "base_uri": "https://localhost:8080/"
        },
        "id": "wF-GrQL9Ds6_",
        "outputId": "160ee7a6-4d53-4dd1-bf23-94fef28ce59f"
      },
      "execution_count": null,
      "outputs": [
        {
          "output_type": "stream",
          "name": "stdout",
          "text": [
            "Enter a number: 3\n",
            "3 x 1 = 3\n",
            "3 x 2 = 6\n",
            "3 x 3 = 9\n",
            "3 x 4 = 12\n",
            "3 x 5 = 15\n",
            "3 x 6 = 18\n",
            "3 x 7 = 21\n",
            "3 x 8 = 24\n",
            "3 x 9 = 27\n"
          ]
        }
      ]
    },
    {
      "cell_type": "code",
      "source": [
        "for i in range(0, 11):\n",
        "  answer = 10 - i\n",
        "  print(\"{0} + {1} = 10\".format(i, answer))\n"
      ],
      "metadata": {
        "colab": {
          "base_uri": "https://localhost:8080/"
        },
        "id": "RjTBne8cE0oc",
        "outputId": "6e2e1fe0-9596-47fc-d805-120c778ce557"
      },
      "execution_count": null,
      "outputs": [
        {
          "output_type": "stream",
          "name": "stdout",
          "text": [
            "0 + 10 = 10\n",
            "1 + 9 = 10\n",
            "2 + 8 = 10\n",
            "3 + 7 = 10\n",
            "4 + 6 = 10\n",
            "5 + 5 = 10\n",
            "6 + 4 = 10\n",
            "7 + 3 = 10\n",
            "8 + 2 = 10\n",
            "9 + 1 = 10\n",
            "10 + 0 = 10\n"
          ]
        }
      ]
    },
    {
      "cell_type": "code",
      "source": [
        "for i in range(0, 10):\n",
        "  print(\"{0}, \".format(i), end=\"\")\n",
        "print(\"10.\")"
      ],
      "metadata": {
        "colab": {
          "base_uri": "https://localhost:8080/"
        },
        "id": "E6cOnEgdFkSM",
        "outputId": "63b78ecf-a8b0-4aa9-e862-0de2e19d26a0"
      },
      "execution_count": null,
      "outputs": [
        {
          "output_type": "stream",
          "name": "stdout",
          "text": [
            "0, 1, 2, 3, 4, 5, 6, 7, 8, 9, 10.\n"
          ]
        }
      ]
    },
    {
      "cell_type": "code",
      "source": [
        "#The sum of 2 to 20 is\n",
        "answer = 0\n",
        "for i in range(2, 21):\n",
        "  answer = answer + i\n",
        "print(\"The sum of 2 to 20 is {0}\".format(answer))"
      ],
      "metadata": {
        "colab": {
          "base_uri": "https://localhost:8080/"
        },
        "id": "TLJIXNavGnVo",
        "outputId": "c080de47-52fe-4645-83d5-b868a87e473b"
      },
      "execution_count": null,
      "outputs": [
        {
          "output_type": "stream",
          "name": "stdout",
          "text": [
            "The sum of 2 to 20 is 209\n"
          ]
        }
      ]
    },
    {
      "cell_type": "code",
      "source": [
        "#i to 1, r to 7, s to 5, and z to 2\n",
        "password = \"\"\n",
        "username = input(\"Enter username: \")\n",
        "for i in range(0, len(username)):\n",
        "  if username[i] == \"i\" or username[i] == \"I\":\n",
        "    password = password + \"1\"\n",
        "  elif username[i] == \"r\" or username[i] == \"R\":\n",
        "    password = password + \"7\"\n",
        "  elif username[i] == \"s\" or username[i] == \"S\":\n",
        "    password = password + \"5\"\n",
        "  elif username[i] == \"z\" or username[i] == \"Z\":\n",
        "    password = password + \"2\"\n",
        "  else:\n",
        "    password = password + username[i]\n",
        "print(\"Password is {0}\".format(password))"
      ],
      "metadata": {
        "colab": {
          "base_uri": "https://localhost:8080/"
        },
        "id": "fK5fRlGEHokx",
        "outputId": "f842f54d-0a13-4cb4-f092-0d30f58e6372"
      },
      "execution_count": null,
      "outputs": [
        {
          "output_type": "stream",
          "name": "stdout",
          "text": [
            "Enter username: Risky\n",
            "Password is 715ky\n"
          ]
        }
      ]
    },
    {
      "cell_type": "code",
      "source": [
        "counter = 1\n",
        "while True:\n",
        "  answer = input(\"Would you like green eggs and ham? (Y/N): \")\n",
        "  if answer == \"Y\":\n",
        "    break\n",
        "  if counter >= 10:\n",
        "    break\n",
        "  counter = counter + 1"
      ],
      "metadata": {
        "colab": {
          "base_uri": "https://localhost:8080/"
        },
        "id": "07YP2vrsLOFr",
        "outputId": "837e9c5c-a990-42a0-f345-230053d3ad5e"
      },
      "execution_count": null,
      "outputs": [
        {
          "name": "stdout",
          "output_type": "stream",
          "text": [
            "Would you like green eggs and ham? (Y/N): Y\n"
          ]
        }
      ]
    },
    {
      "cell_type": "code",
      "source": [
        "\n",
        "var_sentence = input(\"Enter a sentence: \")\n",
        "for i in range(0, len(var_sentence)):\n",
        "  print(var_sentence[i])"
      ],
      "metadata": {
        "colab": {
          "base_uri": "https://localhost:8080/"
        },
        "id": "QTzjmQ2PHNIt",
        "outputId": "9107af99-bc39-408c-9f29-797e6f15c993"
      },
      "execution_count": null,
      "outputs": [
        {
          "output_type": "stream",
          "name": "stdout",
          "text": [
            "Enter a sentence: testst\n",
            "t\n",
            "e\n",
            "s\n",
            "t\n",
            "s\n",
            "t\n"
          ]
        }
      ]
    },
    {
      "cell_type": "code",
      "source": [
        "new_string = \"\"\n",
        "is_first = True\n",
        "while True:\n",
        "  var_integer = input(\"Enter an integer (enter QUIT to quit): \")\n",
        "  if var_integer == \"QUIT\":\n",
        "    break\n",
        "  if is_first:\n",
        "    new_string = var_integer\n",
        "    is_first = False\n",
        "  else:\n",
        "    new_string = new_string + \", \" + var_integer\n",
        "\n",
        "if is_first == False:\n",
        "  new_string = new_string + \".\"\n",
        "  print(\"You have entered: \" + new_string)"
      ],
      "metadata": {
        "colab": {
          "base_uri": "https://localhost:8080/"
        },
        "id": "4BxaRGoM_Boe",
        "outputId": "ffe9692d-469f-4286-e582-94710d159278"
      },
      "execution_count": null,
      "outputs": [
        {
          "output_type": "stream",
          "name": "stdout",
          "text": [
            "Enter an integer (enter QUIT to quit): 2\n",
            "Enter an integer (enter QUIT to quit): 4\n",
            "Enter an integer (enter QUIT to quit): 6\n",
            "Enter an integer (enter QUIT to quit): QUIT\n",
            "You have entered: 2, 4, 6.\n"
          ]
        }
      ]
    },
    {
      "cell_type": "code",
      "source": [
        "def doubling(list):\n",
        "  # write your code here\n",
        "  new_list = []\n",
        "  for i in range(0, len(list)):\n",
        "    entry = list[i]\n",
        "    new_list.append(entry)\n",
        "    new_list.append(entry)\n",
        "  return new_list\n",
        "\n",
        "some_list = [2, 3, 4, 5]\n",
        "print(doubling(some_list))"
      ],
      "metadata": {
        "colab": {
          "base_uri": "https://localhost:8080/"
        },
        "id": "cPs28qYyqmTD",
        "outputId": "ae2689d1-c8d2-4301-f094-5e742e946673"
      },
      "execution_count": null,
      "outputs": [
        {
          "output_type": "stream",
          "name": "stdout",
          "text": [
            "[2, 2, 3, 3, 4, 4, 5, 5]\n"
          ]
        }
      ]
    },
    {
      "cell_type": "code",
      "source": [
        "def list_multiply(list1, list2):\n",
        "  # write your code here\n",
        "  new_list = []\n",
        "  for i in range(0, len(list1)):\n",
        "    entry = list1[i] * list2[i]\n",
        "    new_list.append(entry)\n",
        "  return new_list\n",
        "\n",
        "some_list = [2, 3, 4, 5]\n",
        "other_list = [2, 2, 2, 2]\n",
        "print(list_multiply(some_list, other_list))"
      ],
      "metadata": {
        "colab": {
          "base_uri": "https://localhost:8080/"
        },
        "id": "B25GquzssJJ_",
        "outputId": "ebeb0efb-7f36-45f8-88f2-cfc1d0e21e32"
      },
      "execution_count": null,
      "outputs": [
        {
          "output_type": "stream",
          "name": "stdout",
          "text": [
            "[4, 6, 8, 10]\n"
          ]
        }
      ]
    },
    {
      "cell_type": "code",
      "source": [
        "def find_duck_cow(leg, orderBy):\n",
        "  if leg % 2:\n",
        "    print(\"Not found\")\n",
        "    return\n",
        "  if leg == 0:\n",
        "    print(\"Duck: {0}, Cow: {1}\".format(\"0\", \"0\"))\n",
        "    return\n",
        "  maxCows = leg // 4\n",
        "  varCows = maxCows\n",
        "  if orderBy == \"duck\":\n",
        "    i = 0\n",
        "    while varCows > 0:\n",
        "      varCows = maxCows - i\n",
        "      varDucks = (leg - (varCows * 4)) // 2\n",
        "      print(\"Duck: {0}, Cow: {1}\".format(varDucks, varCows))\n",
        "      i = i + 1\n",
        "  elif orderBy == \"cow\":\n",
        "    i = maxCows\n",
        "    while i >= 0:\n",
        "      varCows = maxCows - i\n",
        "      varDucks = (leg - (varCows * 4)) // 2\n",
        "      print(\"Cow: {0}, Duck: {1}\".format(varCows, varDucks))\n",
        "      i = i - 1\n",
        "  return\n",
        "\n",
        "find_duck_cow(leg=5, orderBy=\"duck\")"
      ],
      "metadata": {
        "colab": {
          "base_uri": "https://localhost:8080/"
        },
        "id": "VTnQZYTb-W2b",
        "outputId": "18ec261c-d800-4f8b-d730-6b50324ee96f"
      },
      "execution_count": null,
      "outputs": [
        {
          "output_type": "stream",
          "name": "stdout",
          "text": [
            "Not found\n"
          ]
        }
      ]
    },
    {
      "cell_type": "code",
      "source": [
        "class Address:\n",
        "    def __init__(self, street_number, street_name, city, state, post_code):\n",
        "        self.street_number = street_number\n",
        "        self.street_name = street_name\n",
        "        self.city = city\n",
        "        self.state = state\n",
        "        self.post_code = post_code\n",
        "\n",
        "    def printAddress(self):\n",
        "      print(\"{0} {1}, {2}, {3} {4}\".format(self.street_number, self.street_name, self.city, self.state, self.post_code))\n",
        "\n",
        "addressObj1 = Address(\"5\", \"Frog St\", \"Pondy\", \"ABC\", \"1111\")\n",
        "addressObj2 = Address(\"3/7\", \"Emu Ave\", \"Blah\", \"XYZ\", \"2222\")\n",
        "addressObj1.printAddress()\n",
        "addressObj2.printAddress()"
      ],
      "metadata": {
        "colab": {
          "base_uri": "https://localhost:8080/"
        },
        "id": "JvXyUpujB2RG",
        "outputId": "23eff958-d081-4f1c-ab00-565319390a18"
      },
      "execution_count": null,
      "outputs": [
        {
          "output_type": "stream",
          "name": "stdout",
          "text": [
            "5 Frog St, Pondy, ABC 1111\n",
            "3/7 Emu Ave, Blah, XYZ 2222\n"
          ]
        }
      ]
    },
    {
      "cell_type": "code",
      "source": [
        "class Address:\n",
        "    def __init__(self, street_number, street_name, city, state, post_code):\n",
        "      self.street_number = street_number\n",
        "      self.street_name = street_name\n",
        "      self.city = city\n",
        "      self.state = state\n",
        "      self.post_code = post_code\n",
        "\n",
        "    def __str__(self):\n",
        "      answer = 'Address[number=\"' + self.street_number + '\", street=\"' + self.street_name + '\", suburb=\"' + self.city + '\", state=\"' + self.state + '\", code=\"' + self.post_code + '\"]'\n",
        "      return answer\n",
        "\n",
        "\n",
        "\n",
        "addressObj1 = Address(\"5\", \"Frog St\", \"Pondy\", \"ABC\", \"1111\")\n",
        "addressObj2 = Address(\"3/7\", \"Emu Ave\", \"Blah\", \"XYZ\", \"2222\")\n",
        "print(addressObj1)\n",
        "print(addressObj2)"
      ],
      "metadata": {
        "colab": {
          "base_uri": "https://localhost:8080/"
        },
        "id": "1Jlplw5HCwMd",
        "outputId": "935764d7-fa8c-4c6e-a10b-ce106808754a"
      },
      "execution_count": null,
      "outputs": [
        {
          "output_type": "stream",
          "name": "stdout",
          "text": [
            "Address[number=\"5\", street=\"Frog St\", suburb=\"Pondy\", state=\"ABC\", code=\"1111\"]\n",
            "Address[number=\"3/7\", street=\"Emu Ave\", suburb=\"Blah\", state=\"XYZ\", code=\"2222\"]\n"
          ]
        }
      ]
    },
    {
      "cell_type": "code",
      "source": [
        "def even_number_string(startNumber, endNumber, separator):\n",
        "  i = startNumber\n",
        "  answer = \"\"\n",
        "  if i % 2:\n",
        "    i = i + 1\n",
        "    answer = answer + str(i)\n",
        "  else:\n",
        "    answer = answer + str(i)\n",
        "  i = i + 2\n",
        "  while i <= endNumber:\n",
        "    answer = answer + separator + str(i)\n",
        "    i = i + 2\n",
        "  return answer\n",
        "\n",
        "result = even_number_string(startNumber=99, endNumber=101, separator=\",\")\n",
        "print(result)"
      ],
      "metadata": {
        "colab": {
          "base_uri": "https://localhost:8080/"
        },
        "id": "nXVDT-ak2m73",
        "outputId": "f9eb6526-f31c-4654-9e15-a08282d8d514"
      },
      "execution_count": null,
      "outputs": [
        {
          "output_type": "stream",
          "name": "stdout",
          "text": [
            "100\n"
          ]
        }
      ]
    },
    {
      "cell_type": "code",
      "source": [
        "def display_pattern(word):\n",
        "  i = 0\n",
        "  while i < len(word):\n",
        "    j = i + 1\n",
        "    k = j + 1\n",
        "    l = k + 1\n",
        "    var_char = word[i]\n",
        "    print(\"index {0}: {1} {2} {3} {4} {5} {6}\".format(i, var_char, j, var_char, k, var_char, l))\n",
        "    i = i + 1\n",
        "\n",
        "display_pattern(word=\"hi\")"
      ],
      "metadata": {
        "colab": {
          "base_uri": "https://localhost:8080/"
        },
        "id": "PHAw2SvxzbOY",
        "outputId": "5e2ab265-413b-4e1d-83c8-98e58f8d8c9f"
      },
      "execution_count": null,
      "outputs": [
        {
          "output_type": "stream",
          "name": "stdout",
          "text": [
            "index 0: h 1 h 2 h 3\n",
            "index 1: i 2 i 3 i 4\n"
          ]
        }
      ]
    },
    {
      "cell_type": "code",
      "source": [
        "def display_backward(number, count):\n",
        "  i = 1\n",
        "  while i <= count:\n",
        "    working_var = number - i + 1\n",
        "    print(\"number {0} is: {1}\".format(i, working_var))\n",
        "    i = i + 1\n",
        "\n",
        "display_backward(number=12, count=4)"
      ],
      "metadata": {
        "colab": {
          "base_uri": "https://localhost:8080/"
        },
        "id": "Pia7jKkV1oAu",
        "outputId": "01cc7c98-db76-4930-80c0-8f27d5778fd1"
      },
      "execution_count": null,
      "outputs": [
        {
          "output_type": "stream",
          "name": "stdout",
          "text": [
            "number 1 is: 12\n",
            "number 2 is: 11\n",
            "number 3 is: 10\n",
            "number 4 is: 9\n"
          ]
        }
      ]
    },
    {
      "cell_type": "code",
      "source": [
        "def duck_cow_leg_count(duck, cow):\n",
        "  answer = (duck * 2) + (cow * 4)\n",
        "  return answer\n",
        "\n",
        "\n",
        "\n",
        "result = duck_cow_leg_count(duck=0, cow=2)\n",
        "print(result)"
      ],
      "metadata": {
        "colab": {
          "base_uri": "https://localhost:8080/"
        },
        "id": "fugYGTWLws5T",
        "outputId": "23090267-0607-4759-a338-6836158a30a9"
      },
      "execution_count": null,
      "outputs": [
        {
          "output_type": "stream",
          "name": "stdout",
          "text": [
            "8\n"
          ]
        }
      ]
    },
    {
      "cell_type": "code",
      "source": [
        "def print_equation(startNumber, endNumber):\n",
        "  i = startNumber\n",
        "  while i <= endNumber:\n",
        "    j = i + 1\n",
        "    answer  = i + j + (i * j)\n",
        "    print(\"{0} + {1} + {2} x {3} = {4}\".format(i, j, i, j, answer))\n",
        "    i = i + 1\n",
        "  return\n",
        "\n",
        "print_equation(startNumber=7, endNumber=7)"
      ],
      "metadata": {
        "colab": {
          "base_uri": "https://localhost:8080/"
        },
        "id": "lvWSI_9IxlGG",
        "outputId": "37ae3fee-fedd-4710-d2d5-9ba721d04a66"
      },
      "execution_count": null,
      "outputs": [
        {
          "output_type": "stream",
          "name": "stdout",
          "text": [
            "7 + 8 + 7 x 8 = 71\n"
          ]
        }
      ]
    },
    {
      "cell_type": "code",
      "source": [
        "def multiply_3_numbers(number1, number2, number3):\n",
        "  answer = number1 * number2 * number3\n",
        "  return answer\n",
        "\n",
        "multiply_3_numbers(8, 2, 3)"
      ],
      "metadata": {
        "colab": {
          "base_uri": "https://localhost:8080/"
        },
        "id": "R8LjMIlPU2gj",
        "outputId": "3052f13d-39cd-4a09-96da-b9d279aa0579"
      },
      "execution_count": null,
      "outputs": [
        {
          "output_type": "execute_result",
          "data": {
            "text/plain": [
              "48"
            ]
          },
          "metadata": {},
          "execution_count": 2
        }
      ]
    },
    {
      "cell_type": "code",
      "source": [
        "def calculate_grade(mark):\n",
        "  # A: 100-80, B: 79-60, C: 59-40, D: 39-0\n",
        "  answer = \"\"\n",
        "  if mark >= 80:\n",
        "    answer = \"A\"\n",
        "  elif mark >= 60:\n",
        "    answer = \"B\"\n",
        "  elif mark >= 40:\n",
        "    answer = \"C\"\n",
        "  else:\n",
        "    answer = \"D\"\n",
        "  return answer\n",
        "\n",
        "calculate_grade(80)"
      ],
      "metadata": {
        "colab": {
          "base_uri": "https://localhost:8080/",
          "height": 35
        },
        "id": "5DIDUOmPVjTy",
        "outputId": "6a63a836-d0d6-4628-e0e6-43507e85611a"
      },
      "execution_count": null,
      "outputs": [
        {
          "output_type": "execute_result",
          "data": {
            "text/plain": [
              "'A'"
            ],
            "application/vnd.google.colaboratory.intrinsic+json": {
              "type": "string"
            }
          },
          "metadata": {},
          "execution_count": 5
        }
      ]
    },
    {
      "cell_type": "code",
      "source": [
        "mark_str = input(\"Please enter mark: \")\n",
        "mark = int(mark_str)\n",
        "answer = \"\"\n",
        "if mark >= 80:\n",
        "    answer = \"A\"\n",
        "elif mark >= 60:\n",
        "    answer = \"B\"\n",
        "elif mark >= 40:\n",
        "    answer = \"C\"\n",
        "else:\n",
        "    answer = \"D\"\n",
        "\n",
        "print(\"Mark \" + mark_str + \", Grade \" + answer)\n"
      ],
      "metadata": {
        "colab": {
          "base_uri": "https://localhost:8080/"
        },
        "id": "3mssxa8bkuQ8",
        "outputId": "d551324e-56cb-497b-8bee-ef79680622b4"
      },
      "execution_count": null,
      "outputs": [
        {
          "output_type": "stream",
          "name": "stdout",
          "text": [
            "Please enter mark: 77\n",
            "Mark 77, Grade B\n"
          ]
        }
      ]
    },
    {
      "cell_type": "code",
      "source": [
        "first = input(\"Enter the 1st integer: \")\n",
        "second = input(\"Enter the 2nd integer: \")\n",
        "third = input(\"Enter the 3rd integer: \")\n",
        "\n",
        "if int(first) >= int(second) and int(first) >= int(third):\n",
        "  max = first\n",
        "elif int(second) >= int(first) and int(second) >= int(third):\n",
        "  max = second\n",
        "else:\n",
        "  max = third\n",
        "\n",
        "#Max of 100, 3, 10 is 100\n",
        "print(\"Max of \" + first + \", \" + second + \", \" + third + \" is \" + max)"
      ],
      "metadata": {
        "colab": {
          "base_uri": "https://localhost:8080/"
        },
        "id": "tIrKB_oomBUL",
        "outputId": "5c1b2841-d6d4-4463-b095-07202939d4a5"
      },
      "execution_count": null,
      "outputs": [
        {
          "output_type": "stream",
          "name": "stdout",
          "text": [
            "Enter the 1st integer: 6\n",
            "Enter the 2nd integer: 3\n",
            "Enter the 3rd integer: 6\n",
            "Max of 6, 3, 6 is 6\n"
          ]
        }
      ]
    },
    {
      "cell_type": "code",
      "source": [
        "#Write code to create a class called Employee and the method __init__ to initialise the following instance attributes in this order:\n",
        "#-employee_id\n",
        "#-first_name\n",
        "#-last_name\n",
        "#-position\n",
        "#-phone\n",
        "\n",
        "class Employee():\n",
        "    def __init__(self, employee_id, first_name, last_name, position, phone):\n",
        "      self.employee_id = employee_id\n",
        "      self.first_name = first_name\n",
        "      self.last_name = last_name\n",
        "      self.position = position\n",
        "      self.phone = phone\n"
      ],
      "metadata": {
        "id": "8V8EK2jwPXPU"
      },
      "execution_count": null,
      "outputs": []
    },
    {
      "cell_type": "code",
      "source": [
        "class Employee:\n",
        "\n",
        "  def __init__(self, employee_id, first_name, last_name, position, phone):\n",
        "\n",
        "    self.employee_id = employee_id\n",
        "    self.first_name = first_name\n",
        "    self.last_name = last_name\n",
        "    self.position = position\n",
        "    self.phone = phone\n",
        "\n",
        "\n",
        "employeeObj1 = Employee(100001, \"John\", \"Lee\", \"Accountant\", 1)\n",
        "employeeObj2 = Employee(100002, \"Mary\", \"Zheng\", \"Programmer\", 2)\n",
        "employeeObj3 = Employee(100003, \"Cindy\", \"Wilson\", \"DBA\", 1)"
      ],
      "metadata": {
        "id": "YgXPvAEoQIf3"
      },
      "execution_count": null,
      "outputs": []
    },
    {
      "cell_type": "code",
      "source": [
        "class Staff:\n",
        "  def __init__(self, staff_number, first_name, last_name, email):\n",
        "    self.staff_number = staff_number\n",
        "    self.first_name = first_name\n",
        "    self.last_name = last_name\n",
        "    self.email = email\n"
      ],
      "metadata": {
        "id": "qFrD0bem0VB7"
      },
      "execution_count": null,
      "outputs": []
    },
    {
      "cell_type": "code",
      "source": [
        "class Staff:\n",
        "#{\n",
        "  def __init__(self, staff_number, first_name, last_name, email):\n",
        "  #{\n",
        "    self.staff_number = staff_number\n",
        "    self.first_name = first_name\n",
        "    self.last_name = last_name\n",
        "    self.email = email\n",
        "  #}\n",
        "#}\n",
        "\n",
        "# write your code to create objects:\n",
        "\n",
        "staffObj1 = Staff(100001, \"John\", \"Lee\", \"jl123@gmail.com\")\n",
        "staffObj2 = Staff(100002, \"Mary\", \"Zheng\", \"maryz@gmail.com\")\n",
        "staffObj3 = Staff(100003, \"Cindy\", \"Wilson\", \"cw456@hotmail.com\")"
      ],
      "metadata": {
        "id": "H8mgpmyB1EcV"
      },
      "execution_count": null,
      "outputs": []
    },
    {
      "cell_type": "code",
      "source": [
        "class Staff:\n",
        "#{\n",
        "  def __init__(self, staff_number, first_name, last_name, email):\n",
        "  #{\n",
        "    self.staff_number = staff_number\n",
        "    self.first_name = first_name\n",
        "    self.last_name = last_name\n",
        "    self.email = email\n",
        "  #}\n",
        "\n",
        "  def print_details(self, width):\n",
        "  #{\n",
        "    # write your code here\n",
        "    i = 0\n",
        "    while i < width:\n",
        "      print(\"-\", end=\"\")\n",
        "      i += 1\n",
        "    print()\n",
        "    i = 0\n",
        "    space1 = \"\"\n",
        "    while i < (width - (17 + len(self.staff_number))):\n",
        "      space1 = space1 + \" \"\n",
        "      i += 1\n",
        "    space2 = \"\"\n",
        "    i = 0\n",
        "    while i < (width - (4 + len(self.first_name) + len(self.last_name))):\n",
        "      space2 = space2 + \" \"\n",
        "      i += 1\n",
        "    space3 = \"\"\n",
        "    i = 0\n",
        "    while i < (width - (3 + len(self.email))):\n",
        "      space3 = space3 + \" \"\n",
        "      i += 1\n",
        "    print(\"| Staff number: {0}{1}{2}\".format(self.staff_number, space1, \"|\"))\n",
        "    print(\"| {0}{1}{2}{3}{4}\".format(self.first_name, \" \", self.last_name, space2, \"|\"))\n",
        "    print(\"| {0}{1}{2}\".format(self.email, space3, \"|\"))\n",
        "    i = 0\n",
        "    while i < width:\n",
        "      print(\"-\", end=\"\")\n",
        "      i += 1\n",
        "    return\n",
        "  #}\n",
        "#}\n",
        "\n",
        "staffObj2 = Staff(\"100002\", \"Mary\", \"Zheng\", \"maryz@gmail.com\")\n",
        "staffObj2.print_details(27)"
      ],
      "metadata": {
        "colab": {
          "base_uri": "https://localhost:8080/"
        },
        "id": "NsRTrP4P21fi",
        "outputId": "20ccb4df-d966-4a40-e96b-bbac52a174d2"
      },
      "execution_count": null,
      "outputs": [
        {
          "output_type": "stream",
          "name": "stdout",
          "text": [
            "---------------------------\n",
            "| Staff number: 100002    |\n",
            "| Mary Zheng              |\n",
            "| maryz@gmail.com         |\n",
            "---------------------------"
          ]
        }
      ]
    },
    {
      "cell_type": "code",
      "source": [
        "class Employee:\n",
        "#{\n",
        "  def __init__(self, employee_id, first_name, last_name, position, phone):\n",
        "  #{\n",
        "    self.employee_id = employee_id\n",
        "    self.first_name = first_name\n",
        "    self.last_name = last_name\n",
        "    self.position = position\n",
        "    self.phone = phone\n",
        "  #}\n",
        "  # write method __str__ here\n",
        "  def __str__(self):\n",
        "    answer = self.employee_id + \" \" + self.first_name + \" \" + self.last_name\n",
        "    return answer\n",
        "#}\n",
        "\n",
        "#Your task is to write the special method __str__ so that if we have an object\n",
        "#employeeObj = Employee(\"012345\", \"John\", \"Smith\", \"Accountant\", \"1234\")\n",
        "#then str(employeeObj) will return the string 012345 John Smith\n",
        "\n",
        "employeeObj1 = Employee(\"100001\", \"John\", \"Lee\", \"Accountant\", \"0001\")\n",
        "result = str(employeeObj1)\n",
        "print(result)\n"
      ],
      "metadata": {
        "colab": {
          "base_uri": "https://localhost:8080/"
        },
        "id": "jV7PiRhLT08H",
        "outputId": "55e616be-575b-4f73-c939-31aa4265401c"
      },
      "execution_count": null,
      "outputs": [
        {
          "output_type": "stream",
          "name": "stdout",
          "text": [
            "100001 John Lee\n"
          ]
        }
      ]
    },
    {
      "cell_type": "code",
      "source": [
        "class Employee:\n",
        "#{\n",
        "  def __init__(self, employee_id, first_name, last_name, position, phone):\n",
        "  #{\n",
        "    self.employee_id = employee_id\n",
        "    self.first_name = first_name\n",
        "    self.last_name = last_name\n",
        "    self.position = position\n",
        "    self.phone = phone\n",
        "  #}\n",
        "  # write method __repr__ here\n",
        "  def __repr__(self):\n",
        "    answer = \"Employee('\" + self.employee_id + \"', '\" + self.first_name + \"', '\" + self.last_name + \"', '\" + self.position + \"', '\" + self.phone +\")\"\n",
        "    return answer\n",
        "#}\n",
        "\n",
        "#Your task is to write the special method __repr__ so that if we have an object\n",
        "employeeObj = Employee(\"012345\", \"John\", \"Smith\", \"Accountant\", \"1234\")\n",
        "#then repr(employeeObj) will return the string\n",
        "print(repr(employeeObj))\n",
        "#Employee('012345', 'John', 'Smith', 'Accountant', '1234')"
      ],
      "metadata": {
        "colab": {
          "base_uri": "https://localhost:8080/"
        },
        "id": "iqbRKaNAYZn0",
        "outputId": "9ba2f09c-9f41-4a99-b3f4-f8e89e0b408d"
      },
      "execution_count": null,
      "outputs": [
        {
          "output_type": "stream",
          "name": "stdout",
          "text": [
            "Employee('012345', 'John', 'Smith', 'Accountant', '1234)\n"
          ]
        }
      ]
    },
    {
      "cell_type": "code",
      "source": [
        "def say_hi(first_name, last_name):\n",
        "  answer = \"Hi \" + first_name + \" \" + last_name\n",
        "  return answer\n",
        "\n",
        "say_hi(\"Bob\", \"Brown\")"
      ],
      "metadata": {
        "colab": {
          "base_uri": "https://localhost:8080/",
          "height": 35
        },
        "id": "bJPbh50KWn_6",
        "outputId": "5dfbbfde-1d26-4b99-a568-d2af6f8035f1"
      },
      "execution_count": null,
      "outputs": [
        {
          "output_type": "execute_result",
          "data": {
            "text/plain": [
              "'Hi Bob Brown'"
            ],
            "application/vnd.google.colaboratory.intrinsic+json": {
              "type": "string"
            }
          },
          "metadata": {},
          "execution_count": 7
        }
      ]
    },
    {
      "cell_type": "code",
      "source": [
        "def expand(word, multiplicity):\n",
        "  answer = \"\"\n",
        "  for i in range(0, len(word)):\n",
        "    answer = answer + (word[i] * multiplicity)\n",
        "  return answer\n",
        "\n",
        "expanded_word = expand(\"frog\", 2)\n",
        "print(expanded_word)"
      ],
      "metadata": {
        "colab": {
          "base_uri": "https://localhost:8080/"
        },
        "id": "L2sY4fKHXoIa",
        "outputId": "18e0c44c-bcdb-4a23-fc23-5ffca2298d71"
      },
      "execution_count": null,
      "outputs": [
        {
          "output_type": "stream",
          "name": "stdout",
          "text": [
            "ffrroogg\n"
          ]
        }
      ]
    },
    {
      "cell_type": "code",
      "source": [
        "def transform_character(letter):\n",
        "  answer = \"\"\n",
        "  #if the argument letter is i or I then the function returns the string 1\n",
        "  if letter == \"i\" or letter == \"I\":\n",
        "    return 1\n",
        "  #if the argument letter is r or R then the function returns the string 7\n",
        "  elif letter == \"r\" or letter == \"R\":\n",
        "    return 7\n",
        "  #if the argument letter is s or S then the function returns the string 5\n",
        "  elif letter == \"s\" or letter == \"S\":\n",
        "    return 5\n",
        "  #if the argument letter is z or Z then the function returns the string 2\n",
        "  elif letter == \"z\" or letter == \"Z\":\n",
        "    return 2\n",
        "  #otherwise the function returns the same string as the argument letter\n",
        "  else:\n",
        "    return letter\n",
        "\n",
        "result = transform_character(\"R\")\n",
        "print(result)\n",
        "\n",
        "result = transform_character(\"V\")\n",
        "print(result)"
      ],
      "metadata": {
        "colab": {
          "base_uri": "https://localhost:8080/"
        },
        "id": "njr6oBrEYfVo",
        "outputId": "b8fcf77f-0874-4684-8809-0ca6e7a29e50"
      },
      "execution_count": null,
      "outputs": [
        {
          "output_type": "stream",
          "name": "stdout",
          "text": [
            "7\n",
            "V\n"
          ]
        }
      ]
    },
    {
      "cell_type": "code",
      "source": [
        "# given this function\n",
        "def transform_character(letter):\n",
        "#{\n",
        "  if (letter == \"i\") or (letter == \"I\"):\n",
        "    password_letter = \"1\"\n",
        "  elif (letter == \"r\") or (letter == \"R\"):\n",
        "    password_letter = \"7\"\n",
        "  elif (letter == \"s\") or (letter == \"S\"):\n",
        "    password_letter = \"5\"\n",
        "  elif (letter == \"z\") or (letter == \"Z\"):\n",
        "    password_letter = \"2\"\n",
        "  else:\n",
        "    password_letter = letter\n",
        "\n",
        "  return password_letter\n",
        "#}\n",
        "\n",
        "\n",
        "# construct the password for username\n",
        "def generate_password(username):\n",
        "#{\n",
        "  answer = \"\"\n",
        "  for i in range(0, len(username)):\n",
        "    answer = answer + transform_character(username[i])\n",
        "  return answer\n",
        "#}\n",
        "\n",
        "\n",
        "result = generate_password(\"Rita123\")\n",
        "print(result)\n",
        "\n",
        "result = generate_password(\"IamSuper9\")\n",
        "print(result)"
      ],
      "metadata": {
        "colab": {
          "base_uri": "https://localhost:8080/"
        },
        "id": "M7VautTeanAW",
        "outputId": "8376fd47-b09d-4473-c0bb-7d37367bef3f"
      },
      "execution_count": null,
      "outputs": [
        {
          "output_type": "stream",
          "name": "stdout",
          "text": [
            "71ta123\n",
            "1am5upe79\n"
          ]
        }
      ]
    },
    {
      "cell_type": "code",
      "source": [
        "def factorial(n):\n",
        "  #The function returns the factorial of n which is 1 x 2 x 3 x ... x n\n",
        "  if n == 1:\n",
        "    return 1\n",
        "  answer = n * factorial(n-1)\n",
        "  return answer\n",
        "\n",
        "\n",
        "factorial(5)"
      ],
      "metadata": {
        "colab": {
          "base_uri": "https://localhost:8080/"
        },
        "id": "LkM8DHgEbzkx",
        "outputId": "c5cb0e28-0295-4e7c-8d52-111abe2f3598"
      },
      "execution_count": null,
      "outputs": [
        {
          "output_type": "execute_result",
          "data": {
            "text/plain": [
              "120"
            ]
          },
          "metadata": {},
          "execution_count": 18
        }
      ]
    },
    {
      "cell_type": "code",
      "source": [
        "quantity = int(input(\"Enter the quantity: \"))\n",
        "shipping = input(\"Shipping method (s/r/e): \")\n",
        "postage = 0\n",
        "if quantity <= 50:\n",
        "    if shipping == \"s\":\n",
        "        postage = 10\n",
        "    elif shipping == \"r\":\n",
        "        postage = 15\n",
        "    else:\n",
        "        postage = 20\n",
        "    answer = (3 * quantity) + postage\n",
        "else:\n",
        "    if shipping == \"s\":\n",
        "        postage = 0\n",
        "    elif shipping == \"r\":\n",
        "        postage = 15\n",
        "    else:\n",
        "        postage = 20\n",
        "    answer = 2 * quantity + postage\n",
        "print(\"Total cost: $\" + str(answer))"
      ],
      "metadata": {
        "colab": {
          "base_uri": "https://localhost:8080/"
        },
        "id": "CEPghv3yiWft",
        "outputId": "07d408af-8a2c-495d-8317-a10bb15e2ff8"
      },
      "execution_count": null,
      "outputs": [
        {
          "output_type": "stream",
          "name": "stdout",
          "text": [
            "Enter the quantity: 51\n",
            "Shipping method (s/r/e): r\n",
            "Total cost: $117\n"
          ]
        }
      ]
    },
    {
      "cell_type": "code",
      "source": [
        "def triple(sentence):\n",
        "#{\n",
        "  var_result = \"\"\n",
        "  for element in range(0, len(sentence)):\n",
        "    var_result = var_result + sentence[element] + sentence[element] + sentence[element]\n",
        "  return var_result\n",
        "#}\n",
        "\n",
        "result = triple(\"Uni\")\n",
        "print(result)\n",
        "if (result == \"HHHiii\"):\n",
        "  print(\"Correct!\")\n",
        "else:\n",
        "  print(\"Incorrect\")"
      ],
      "metadata": {
        "colab": {
          "base_uri": "https://localhost:8080/"
        },
        "id": "iCFalO-ZvFMk",
        "outputId": "35f41a68-1b8b-4263-ca9a-1a506e0d80c6"
      },
      "execution_count": null,
      "outputs": [
        {
          "output_type": "stream",
          "name": "stdout",
          "text": [
            "UUUnnniii\n",
            "Incorrect\n"
          ]
        }
      ]
    },
    {
      "cell_type": "code",
      "source": [
        "def triple(sentence):\n",
        "#{\n",
        "  # initialise the result string to empty\n",
        "  result = \"\"\n",
        "\n",
        "  # go through each letter\n",
        "  for i in range(0, len(sentence)):\n",
        "  #{\n",
        "    # get the ith letter\n",
        "    letter = sentence[i]\n",
        "\n",
        "    # add letter 3 times to the result\n",
        "    result = result + (letter * 3)\n",
        "  #}\n",
        "\n",
        "  return result\n",
        "#}\n",
        "\n",
        "# MAIN PROGRAM:\n",
        "\n",
        "var1 = input(\"Enter a sentence: \")\n",
        "var2 = triple(var1)\n",
        "print(\"Triple effect: \" + var2)"
      ],
      "metadata": {
        "colab": {
          "base_uri": "https://localhost:8080/"
        },
        "id": "f58Qm2oT0pqg",
        "outputId": "b65ca64f-f497-407e-c5e5-b66abc6d95a0"
      },
      "execution_count": null,
      "outputs": [
        {
          "output_type": "stream",
          "name": "stdout",
          "text": [
            "Enter a sentence: cat\n",
            "Triple effect: cccaaattt\n"
          ]
        }
      ]
    },
    {
      "cell_type": "code",
      "source": [
        "def next_number(number):\n",
        "  result = 0\n",
        "  if number % 2 == 0:\n",
        "    result = (number * 3) + 1\n",
        "  else:\n",
        "    result = (number * 2) + 2\n",
        "  return result\n",
        "\n",
        "\n",
        "\n",
        "result = next_number(7)\n",
        "print(result)\n",
        "if (result == 16):\n",
        "  print(\"Correct!\")\n",
        "else:\n",
        "  print(\"Incorrect\")"
      ],
      "metadata": {
        "colab": {
          "base_uri": "https://localhost:8080/"
        },
        "id": "qyimbPq13ZFO",
        "outputId": "5cb7f55c-4252-4260-c797-8fb5853db41a"
      },
      "execution_count": null,
      "outputs": [
        {
          "output_type": "stream",
          "name": "stdout",
          "text": [
            "16\n",
            "Correct!\n"
          ]
        }
      ]
    },
    {
      "cell_type": "code",
      "source": [
        "def next_number(number):\n",
        "#{\n",
        "  if (number%2 == 0):\n",
        "    return 3 * number + 1\n",
        "  else:\n",
        "    return 2 * number + 2\n",
        "#}\n",
        "\n",
        "# MAIN PROGRAM:\n",
        "\n",
        "var1 = int(input(\"Enter the initial number: \"))\n",
        "print(\"Sequence:\")\n",
        "print(\"Step 0: \" + str(var1))\n",
        "counter = 1\n",
        "while var1 <= 100:\n",
        "  var1 = next_number(var1)\n",
        "  print(\"Step \" + str(counter) + \": \" + str(var1))\n",
        "  counter = counter + 1\n"
      ],
      "metadata": {
        "colab": {
          "base_uri": "https://localhost:8080/"
        },
        "id": "isCbWpOC7HO-",
        "outputId": "54ed1d3e-5148-46e8-9c78-037ba4a1eb3a"
      },
      "execution_count": null,
      "outputs": [
        {
          "output_type": "stream",
          "name": "stdout",
          "text": [
            "Enter the initial number: 2\n",
            "Sequence:\n",
            "Step 0: 2\n",
            "Step 1: 7\n",
            "Step 2: 16\n",
            "Step 3: 49\n",
            "Step 4: 100\n",
            "Step 5: 301\n"
          ]
        }
      ]
    },
    {
      "cell_type": "code",
      "source": [
        "unsorted_list = [60, 10, 90, 50, 100, 80, 70, 30, 40, 20]\n",
        "print(min(unsorted_list[5:len(unsorted_list)]))\n",
        "print(min(unsorted_list[5:9]))"
      ],
      "metadata": {
        "colab": {
          "base_uri": "https://localhost:8080/"
        },
        "id": "q6BIR5c9zCjU",
        "outputId": "0d1a79dd-3cfa-46b2-fde9-c99efbdf8b04"
      },
      "execution_count": null,
      "outputs": [
        {
          "output_type": "stream",
          "name": "stdout",
          "text": [
            "20\n",
            "30\n"
          ]
        }
      ]
    },
    {
      "cell_type": "code",
      "source": [
        "i = 2\n",
        "while (i < 11):\n",
        "  j = i + i\n",
        "  print(\"{0:>2} + {1:>2} = {2:>2}\".format(i, i, j))\n",
        "  i = i + 2\n"
      ],
      "metadata": {
        "colab": {
          "base_uri": "https://localhost:8080/"
        },
        "id": "21RppcMvlJ4G",
        "outputId": "67f02877-49b3-471a-87dd-f6ce3ee5fd1a"
      },
      "execution_count": null,
      "outputs": [
        {
          "output_type": "stream",
          "name": "stdout",
          "text": [
            " 2 +  2 =  4\n",
            " 4 +  4 =  8\n",
            " 6 +  6 = 12\n",
            " 8 +  8 = 16\n",
            "10 + 10 = 20\n"
          ]
        }
      ]
    },
    {
      "cell_type": "code",
      "source": [
        "subject_code = \"CSCI111\"\n",
        "subject_mark = 80\n",
        "subject_grade = \"D\"\n",
        "\n",
        "result = \"Subject result: \" + subject_code + \" mark \" + str(subject_mark) + \" grade \" + subject_grade\n",
        "\n",
        "print(result)"
      ],
      "metadata": {
        "colab": {
          "base_uri": "https://localhost:8080/"
        },
        "id": "NyQ1y1HNIsie",
        "outputId": "a3534aad-a96f-479e-dce8-66b26f5bd123"
      },
      "execution_count": null,
      "outputs": [
        {
          "output_type": "stream",
          "name": "stdout",
          "text": [
            "Subject result: CSCI111 mark 80 grade D\n"
          ]
        }
      ]
    },
    {
      "cell_type": "code",
      "source": [
        "print(\"Welcome to Unimovies!\")\n",
        "print('Thursday July 30 at 7.15pm: \"Inside Out\"')"
      ],
      "metadata": {
        "colab": {
          "base_uri": "https://localhost:8080/"
        },
        "id": "LJAYSZoBJWw7",
        "outputId": "eb297dac-2c91-4ed7-d931-e703c926e370"
      },
      "execution_count": null,
      "outputs": [
        {
          "output_type": "stream",
          "name": "stdout",
          "text": [
            "Welcome to Unimovies!\n",
            "Thursday July 30 at 7.15pm: \"Inside Out\"\n"
          ]
        }
      ]
    },
    {
      "cell_type": "code",
      "source": [
        "first_name = input(\"Enter first name: \")\n",
        "last_name = input(\"Enter last name: \")\n",
        "age_var = input(\"Enter age: \")\n",
        "gpa_var = input(\"Enter GPA score: \")\n",
        "print(\"Name: \" + first_name + \" \" + last_name)\n",
        "print(first_name + \" \" + last_name + \" is \" + age_var + \" years old\")\n",
        "print(\"GPA score: \" + gpa_var)"
      ],
      "metadata": {
        "colab": {
          "base_uri": "https://localhost:8080/"
        },
        "id": "a6GihEZMKeck",
        "outputId": "43300154-2cc6-48e7-8c69-b9f1f97beedc"
      },
      "execution_count": null,
      "outputs": [
        {
          "output_type": "stream",
          "name": "stdout",
          "text": [
            "Enter first name: Frog\n",
            "Enter last name: Green\n",
            "Enter age: 25\n",
            "Enter GPA score: 23.4\n",
            "Name: Frog Green\n",
            "Frog Green is 25 years old\n",
            "GPA score: 23.4\n"
          ]
        }
      ]
    },
    {
      "cell_type": "code",
      "source": [
        "i = 1\n",
        "while (i < 11):\n",
        "  j = i + i\n",
        "  print(\"{0:>2} + {1:>2} = {2:>2}\".format(i, i, j))\n",
        "  i = i + 1\n",
        "\n"
      ],
      "metadata": {
        "colab": {
          "base_uri": "https://localhost:8080/"
        },
        "id": "AoZjzUrqZopf",
        "outputId": "e7db6d42-daa3-4154-85ed-dcf11d3e9707"
      },
      "execution_count": null,
      "outputs": [
        {
          "output_type": "stream",
          "name": "stdout",
          "text": [
            " 1 +  1 =  2\n",
            " 2 +  2 =  4\n",
            " 3 +  3 =  6\n",
            " 4 +  4 =  8\n",
            " 5 +  5 = 10\n",
            " 6 +  6 = 12\n",
            " 7 +  7 = 14\n",
            " 8 +  8 = 16\n",
            " 9 +  9 = 18\n",
            "10 + 10 = 20\n"
          ]
        }
      ]
    },
    {
      "cell_type": "code",
      "source": [
        "\n",
        "i = 1\n",
        "while (i <= 8):\n",
        "  print(i, end=\"\")\n",
        "  trailing = \"; \"\n",
        "  print(trailing, end=\"\")\n",
        "  i = i + 2\n",
        "print(\"9.\", end=\"\")\n"
      ],
      "metadata": {
        "colab": {
          "base_uri": "https://localhost:8080/"
        },
        "id": "FFFJNqinb3CS",
        "outputId": "ba4ed1da-1363-47c8-ebb0-e841327c83b8"
      },
      "execution_count": null,
      "outputs": [
        {
          "output_type": "stream",
          "name": "stdout",
          "text": [
            "1; 3; 5; 7; 9."
          ]
        }
      ]
    },
    {
      "cell_type": "code",
      "source": [
        "var_sum = 0\n",
        "var_int_counter = 0\n",
        "var_even = 0\n",
        "var_positive = 0\n",
        "var_negative = 0\n",
        "\n",
        "while True:\n",
        "    ask_int = input(\"Enter an integer or q to quit: \")\n",
        "    if ask_int == \"q\":\n",
        "        break\n",
        "    var_sum = var_sum + int(ask_int)\n",
        "    var_int_counter = var_int_counter + 1\n",
        "    if int(ask_int) % 2 == 0:\n",
        "        var_even = var_even + 1\n",
        "    if int(ask_int) > 0:\n",
        "        var_positive = var_positive + 1\n",
        "    elif int(ask_int) < 0:\n",
        "        var_negative = var_negative + 1\n",
        "\n",
        "print(\"\")\n",
        "print(\"Summary information:\")\n",
        "print(\"You have entered \" + str(var_int_counter) + \" integers.\")\n",
        "print(\"The sum of these numbers is \" + str(var_sum) + \".\")\n",
        "print(\"There are \" + str(var_even) + \" even numbers.\")\n",
        "var_odd = var_int_counter - var_even\n",
        "print(\"There are \" + str(var_odd) + \" odd numbers.\")\n",
        "print(\"There are \" + str(var_positive) + \" positive numbers.\")\n",
        "print(\"There are \" + str(var_negative) + \" negative numbers.\")"
      ],
      "metadata": {
        "colab": {
          "base_uri": "https://localhost:8080/"
        },
        "id": "P05TsO1toRwI",
        "outputId": "2029da77-02da-4bac-9d74-01452c33d768"
      },
      "execution_count": null,
      "outputs": [
        {
          "output_type": "stream",
          "name": "stdout",
          "text": [
            "Enter an integer or q to quit: 5\n",
            "Enter an integer or q to quit: 10\n",
            "Enter an integer or q to quit: -1\n",
            "Enter an integer or q to quit: 3\n",
            "Enter an integer or q to quit: 0\n",
            "Enter an integer or q to quit: -5\n",
            "Enter an integer or q to quit: q\n",
            "\n",
            "Summary information:\n",
            "You have entered 6 integers.\n",
            "The sum of these numbers is 12.\n",
            "There are 2 even numbers.\n",
            "There are 4 odd numbers.\n",
            "There are 3 positive numbers.\n",
            "There are 2 negative numbers.\n"
          ]
        }
      ]
    },
    {
      "cell_type": "code",
      "source": [
        "var_counter = 1\n",
        "while True:\n",
        "  ask_var = input(\"Enter a string of six letters: \")\n",
        "  if len(ask_var) == 6:\n",
        "    if var_counter == 1:\n",
        "      print(\"Well done! You have entered a six-letter word after 1 attempt!\")\n",
        "    else:\n",
        "      print(\"Well done! You have entered a six-letter word after \" + str(var_counter) + \" attempts!\")\n",
        "    break\n",
        "  else:\n",
        "    print(\"That is not a six-letter word. You should re-enter a word.\")\n",
        "    var_counter = var_counter + 1\n",
        "\n",
        "\n"
      ],
      "metadata": {
        "colab": {
          "base_uri": "https://localhost:8080/"
        },
        "id": "ndMM9fM8qtv5",
        "outputId": "d2f8262f-5ff1-49d5-9322-a846ca99f855"
      },
      "execution_count": null,
      "outputs": [
        {
          "output_type": "stream",
          "name": "stdout",
          "text": [
            "Enter a string of six letters: Melons\n",
            "Well done! You have entered a six-letter word after 1 attempt!\n"
          ]
        }
      ]
    },
    {
      "cell_type": "code",
      "source": [
        "i = 0\n",
        "var_string = input(\"Please enter a strinG: \")\n",
        "while True:\n",
        "  if i == len(var_string):\n",
        "    break\n",
        "  if var_string[i] == \"a\":\n",
        "    i = i\n",
        "  elif var_string[i] == \"s\":\n",
        "    i = i\n",
        "  else:\n",
        "    print(var_string[i])\n",
        "  i = i + 1"
      ],
      "metadata": {
        "colab": {
          "base_uri": "https://localhost:8080/"
        },
        "id": "r4Az4tChsqA7",
        "outputId": "d5580fb6-67a6-4289-e877-2d73bdb9b2a7"
      },
      "execution_count": null,
      "outputs": [
        {
          "output_type": "stream",
          "name": "stdout",
          "text": [
            "Please enter a strinG: Datastructure\n",
            "D\n",
            "t\n",
            "t\n",
            "r\n",
            "u\n",
            "c\n",
            "t\n",
            "u\n",
            "r\n",
            "e\n"
          ]
        }
      ]
    },
    {
      "cell_type": "code",
      "source": [
        "ask_count = 0\n",
        "var_islower = False\n",
        "\n",
        "while True:\n",
        "    ask_int = input(\"Enter a word (or q to quit): \")\n",
        "    if ask_int == \"q\":\n",
        "      print(\"You have terminated the loop.\")\n",
        "      break\n",
        "\n",
        "\n",
        "    if len(ask_int) % 2 == 0:\n",
        "      print(\"The lowercase of \" + ask_int + \" is \" + ask_int.lower())\n",
        "    else:\n",
        "      print(\"The UPPERCASE of \" + ask_int + \" is \" + ask_int.upper())\n",
        "    ask_count = ask_count + 1\n",
        "    if ask_count == 4:\n",
        "      break\n",
        "\n"
      ],
      "metadata": {
        "colab": {
          "base_uri": "https://localhost:8080/"
        },
        "id": "MN3fU0BrucQ-",
        "outputId": "2820431e-0c2a-419c-c6ee-f21ea757a9fb"
      },
      "execution_count": null,
      "outputs": [
        {
          "output_type": "stream",
          "name": "stdout",
          "text": [
            "Enter an integer or q to quit: hAt\n",
            "The UPPERCASE of hAt is HAT\n",
            "Enter an integer or q to quit: q\n",
            "You have terminated the loop.\n"
          ]
        }
      ]
    },
    {
      "cell_type": "code",
      "source": [
        "var_sum = 0\n",
        "while var_sum < 100:\n",
        "  print(\"The current sum of all entered numbers is \" + str(var_sum) + \".\")\n",
        "  var_add = int(input(\"Enter an integer to increase/decrease the sum: \"))\n",
        "  var_sum = var_sum + var_add\n",
        "print(\"Well done! The current sum \" + str(var_sum) + \" is equal to or over 100.\")"
      ],
      "metadata": {
        "colab": {
          "base_uri": "https://localhost:8080/"
        },
        "id": "J41nr_SmyzME",
        "outputId": "640cb544-0dd9-4116-8369-f63cfbe0f8cb"
      },
      "execution_count": null,
      "outputs": [
        {
          "output_type": "stream",
          "name": "stdout",
          "text": [
            "The current sum of all entered numbers is 0.\n",
            "Enter an integer to increase/decrease the sum: 99\n",
            "The current sum of all entered numbers is 99.\n",
            "Enter an integer to increase/decrease the sum: 1\n",
            "Well done! The current sum 100 is equal to or over 100.\n"
          ]
        }
      ]
    },
    {
      "cell_type": "code",
      "source": [
        "while True:\n",
        "  first_var = int(input(\"Enter the first integer: \"))\n",
        "  second_var = int(input(\"Enter the second integer: \"))\n",
        "  if first_var <= second_var:\n",
        "    break\n",
        "  print(\"The first integer should not be larger than the second. Please re-enter them.\")\n",
        "\n",
        "while True:\n",
        "  step_var = int(input(\"Enter the step: \"))\n",
        "  if step_var > 0:\n",
        "    break\n",
        "  print(\"The step should be positive. Please re-enter it.\")\n",
        "\n",
        "i = first_var\n",
        "print(\"{0:>10}{1:>10}{2:>10}\".format(\"Num\", \"Square\", \"Cube\"))\n",
        "while (i <= second_var):\n",
        "  j = i * i\n",
        "  k = j * i\n",
        "  print(\"{0:>10}{1:>10}{2:>10}\".format(i, j, k))\n",
        "  i = i + step_var"
      ],
      "metadata": {
        "colab": {
          "base_uri": "https://localhost:8080/"
        },
        "id": "yu7JYT2P0Kxi",
        "outputId": "ce4326b6-155e-4ad0-f32c-45c6d092186d"
      },
      "execution_count": null,
      "outputs": [
        {
          "output_type": "stream",
          "name": "stdout",
          "text": [
            "Enter the first integer: 6\n",
            "Enter the second integer: 3\n",
            "The first integer should not be larger than the second. Please re-enter them.\n",
            "Enter the first integer: 6\n",
            "Enter the second integer: 2\n",
            "The first integer should not be larger than the second. Please re-enter them.\n",
            "Enter the first integer: 3\n",
            "Enter the second integer: 6\n",
            "Enter the step: -1\n",
            "The step should be positive. Please re-enter it.\n",
            "Enter the step: 0\n",
            "The step should be positive. Please re-enter it.\n",
            "Enter the step: 1\n",
            "       Num    Square      Cube\n",
            "         3         9        27\n",
            "         4        16        64\n",
            "         5        25       125\n",
            "         6        36       216\n"
          ]
        }
      ]
    },
    {
      "cell_type": "code",
      "source": [
        "number1 = 5\n",
        "number2 = 5\n",
        "operator = \"/\"\n",
        "if operator == \"+\":\n",
        "  result = number1 + number2\n",
        "elif operator == \"-\":\n",
        "  result = number1 - number2\n",
        "elif operator == \"x\":\n",
        "  result = number1 * number2\n",
        "elif operator == \"/\":\n",
        "  result = number1 // number2\n",
        "elif operator == \"%\":\n",
        "  result = number1 % number2\n",
        "print(result)\n"
      ],
      "metadata": {
        "colab": {
          "base_uri": "https://localhost:8080/"
        },
        "id": "wAWLzvfB5y4y",
        "outputId": "56dce9c1-f2ce-42bf-c876-97d598f00b73"
      },
      "execution_count": null,
      "outputs": [
        {
          "output_type": "stream",
          "name": "stdout",
          "text": [
            "1\n"
          ]
        }
      ]
    },
    {
      "cell_type": "code",
      "source": [
        "def query_lab_time(first_name, last_name, subject_code):\n",
        "    print(\"Hello, {0} {1}!\".format(first_name, last_name))\n",
        "    if (subject_code == \"CSIT110\") or (subject_code == \"CSIT810\"):\n",
        "      time_var = \"Mon 15:30 - 17:30\"\n",
        "      print(\"\\tThe subject you query is {0}.\".format(subject_code))\n",
        "    elif subject_code == \"CSIT881\":\n",
        "      time_var = \"Mon 10:30 - 12:30\"\n",
        "      print(\"\\tThe subject you query is {0}.\".format(subject_code))\n",
        "    else:\n",
        "      time_var = \"mystery day\"\n",
        "      print(\"\\tThe subject you query is not in our database.\")\n",
        "    print(\"\\tIts online lab is on {0}.\".format(time_var))\n",
        "\n",
        "query_lab_time(\"Alice\", \"Doyle\", \"CSIT810\")\n",
        "\n",
        "\n"
      ],
      "metadata": {
        "colab": {
          "base_uri": "https://localhost:8080/"
        },
        "id": "AQjAMX2FfuwX",
        "outputId": "3ca38b24-18ef-45f2-b34e-1e0dea2a51d2"
      },
      "execution_count": null,
      "outputs": [
        {
          "output_type": "stream",
          "name": "stdout",
          "text": [
            "Hello, Alice Doyle!\n",
            "\tThe subject you query is CSIT810.\n",
            "\tIts online lab is on Mon 15:30 - 17:30.\n"
          ]
        }
      ]
    },
    {
      "cell_type": "code",
      "source": [
        "def number_pattern(start_number = 1, end_number = 8):\n",
        "  i = start_number\n",
        "  while i <= end_number:\n",
        "    j = 9 - i\n",
        "    if j % 2 == 0:\n",
        "      var_direction = \">\"\n",
        "    else:\n",
        "      var_direction = \"<\"\n",
        "    while j > 0:\n",
        "      print(var_direction, end=\"\")\n",
        "      j = j - 1\n",
        "    k = i - 1\n",
        "    while k > 0:\n",
        "      print(i, end=\"\")\n",
        "      k = k - 1\n",
        "    print(i)\n",
        "    i = i + 1\n",
        "\n",
        "number_pattern(3)"
      ],
      "metadata": {
        "colab": {
          "base_uri": "https://localhost:8080/"
        },
        "id": "NG91ToT1kl_s",
        "outputId": "bd765604-083a-4466-8dc7-131b13fcd3a6"
      },
      "execution_count": null,
      "outputs": [
        {
          "output_type": "stream",
          "name": "stdout",
          "text": [
            ">>>>>>333\n",
            "<<<<<4444\n",
            ">>>>55555\n",
            "<<<666666\n",
            ">>7777777\n",
            "<88888888\n"
          ]
        }
      ]
    },
    {
      "cell_type": "code",
      "source": [
        "def power_calculation(first_number, second_number = 2):\n",
        "  first_return = first_number ** second_number\n",
        "  if first_return == 0:\n",
        "    second_return = \"zero\"\n",
        "  elif first_return < 0:\n",
        "    second_return = \"negative\"\n",
        "  else:\n",
        "    second_return = \"positive\"\n",
        "  if first_return % 2 == 0:\n",
        "    third_return = \"even\"\n",
        "  else:\n",
        "    third_return = \"odd\"\n",
        "  return first_return, second_return, third_return\n",
        "\n",
        "\n",
        "\n",
        "power, sign, parity = power_calculation(0,6)\n",
        "print(\"{} is a {} {} number.\".format(power, sign, parity))"
      ],
      "metadata": {
        "colab": {
          "base_uri": "https://localhost:8080/"
        },
        "id": "NLrX6kX4orAI",
        "outputId": "0c741bc1-2766-45fa-da8d-f3e74043897c"
      },
      "execution_count": null,
      "outputs": [
        {
          "output_type": "stream",
          "name": "stdout",
          "text": [
            "0 is a zero even number.\n"
          ]
        }
      ]
    },
    {
      "cell_type": "code",
      "source": [
        "i = 1\n",
        "while (i <= 9):\n",
        "  j = 1\n",
        "  while (j < i):\n",
        "    print(j, end=\"\")\n",
        "    j = j + 1\n",
        "  print(j)\n",
        "  i = i + 1"
      ],
      "metadata": {
        "colab": {
          "base_uri": "https://localhost:8080/"
        },
        "id": "gi04tKnad9OQ",
        "outputId": "f61d342b-830a-4f5b-b382-66a61e75709b"
      },
      "execution_count": null,
      "outputs": [
        {
          "output_type": "stream",
          "name": "stdout",
          "text": [
            "1\n",
            "12\n",
            "123\n",
            "1234\n",
            "12345\n",
            "123456\n",
            "1234567\n",
            "12345678\n",
            "123456789\n"
          ]
        }
      ]
    },
    {
      "cell_type": "code",
      "source": [
        "length_var = int(input(\"Enter an integer: \"))\n",
        "i = 1\n",
        "counter = 1\n",
        "while (i <= length_var - 1):\n",
        "  j = i * 3\n",
        "  print(j, end=\"\")\n",
        "  if (counter == 4):\n",
        "    print(\":\", end=\"\")\n",
        "    counter = 0\n",
        "  else:\n",
        "    print(\",\", end=\"\")\n",
        "  i = i + 1\n",
        "  counter = counter + 1\n",
        "j = i * 3\n",
        "print(j, end=\".\")\n",
        "\n",
        "#3,6,9,12:15,18,21,24.\n",
        "#3,6,9,12:15,18,21,24:27,30."
      ],
      "metadata": {
        "colab": {
          "base_uri": "https://localhost:8080/"
        },
        "id": "QlGh8kDKe6LF",
        "outputId": "c20d3177-ace9-4a09-84b1-689c4c43fd8d"
      },
      "execution_count": null,
      "outputs": [
        {
          "output_type": "stream",
          "name": "stdout",
          "text": [
            "Enter an integer: 10\n",
            "3,6,9,12:15,18,21,24:27,30."
          ]
        }
      ]
    },
    {
      "cell_type": "code",
      "source": [
        "i = int(input(\"Enter the starting integer: \"))\n",
        "ending_var = int(input(\"Enter the ending integer: \"))\n",
        "\n",
        "\n",
        "if (i > ending_var):\n",
        "  print(\"Your starting integer is larger than the ending integer.\")\n",
        "else:\n",
        "  print(\"{0:<10}{1:<10}{2:<10}\".format(\"Num\", \"Triple\", \"Quadruple\"))\n",
        "while (i <= ending_var):\n",
        "  triple_i = i * 3\n",
        "  quad_i = i * 4\n",
        "  print(\"{0:<10}{1:<10}{2:<10}\".format(i, triple_i, quad_i))\n",
        "  i = i + 1"
      ],
      "metadata": {
        "colab": {
          "base_uri": "https://localhost:8080/"
        },
        "id": "6XZlsijbhtkj",
        "outputId": "7c7ee386-b550-461a-e7d0-e1db157d6c63"
      },
      "execution_count": null,
      "outputs": [
        {
          "output_type": "stream",
          "name": "stdout",
          "text": [
            "Enter the starting integer: 3\n",
            "Enter the ending integer: 12\n",
            "Num            Triple         Quadruple      \n",
            "3              9              12             \n",
            "4              12             16             \n",
            "5              15             20             \n",
            "6              18             24             \n",
            "7              21             28             \n",
            "8              24             32             \n",
            "9              27             36             \n",
            "10             30             40             \n",
            "11             33             44             \n",
            "12             36             48             \n"
          ]
        }
      ]
    },
    {
      "cell_type": "code",
      "source": [
        "i = int(input(\"How many times should I guess at most: \"))\n",
        "ask_count = 0\n",
        "while True:\n",
        "  guess_var = int(input(\"Please enter your guess: \"))\n",
        "  ask_count = ask_count + 1\n",
        "  if (guess_var % 2 == 0):\n",
        "    print(\"Congratulations! You have entered an even number.\")\n",
        "    break\n",
        "  print(\"You have entered an odd number rather than an even number.\")\n",
        "  if (ask_count == i):\n",
        "    break\n",
        "\n"
      ],
      "metadata": {
        "colab": {
          "base_uri": "https://localhost:8080/"
        },
        "id": "7yOC3FkakQf7",
        "outputId": "30512579-da61-4fdc-f1df-91f2932907b4"
      },
      "execution_count": null,
      "outputs": [
        {
          "output_type": "stream",
          "name": "stdout",
          "text": [
            "How many times should I guess at most: 5\n",
            "Please enter your guess: 1\n",
            "You have entered an odd number rather than an even number.\n",
            "Please enter your guess: 3\n",
            "You have entered an odd number rather than an even number.\n",
            "Please enter your guess: 5\n",
            "You have entered an odd number rather than an even number.\n",
            "Please enter your guess: 7\n",
            "You have entered an odd number rather than an even number.\n",
            "Please enter your guess: 9\n",
            "You have entered an odd number rather than an even number.\n"
          ]
        }
      ]
    },
    {
      "cell_type": "code",
      "source": [
        "string_var = input(\"Enter a string: \")\n",
        "starting_var = input(\"Enter the starting letter: \")\n",
        "ending_var = input(\"Enter the ending letter: \")\n",
        "\n",
        "i = 0\n",
        "starting_num = 0\n",
        "while (i < len(string_var)):\n",
        "  if (string_var[i] == starting_var):\n",
        "    starting_num = i\n",
        "    break\n",
        "  i = i + 1\n",
        "\n",
        "i = 0\n",
        "if (starting_num == 0):\n",
        "  while (i < len(string_var)):\n",
        "    if (string_var[i] != ending_var):\n",
        "      i = i + 1\n",
        "    else:\n",
        "      break\n",
        "if (i == len(string_var)):\n",
        "  print(\"Both letters are not found.\")\n",
        "else:\n",
        "  print(\"The requested string is: \", end=\"\")\n",
        "  i = starting_num\n",
        "  while (i < len(string_var)-1):\n",
        "    if (string_var[i] == ending_var):\n",
        "      break\n",
        "    print(string_var[i], end=\"\")\n",
        "    print(\"-\", end=\"\")\n",
        "    i = i + 1\n",
        "  print(string_var[i] + \".\")\n",
        "#The requested string is: i-n-t-e-r-n-a.\n",
        "#Both letters are not found."
      ],
      "metadata": {
        "colab": {
          "base_uri": "https://localhost:8080/"
        },
        "id": "Sxm27-r6m529",
        "outputId": "3cb09eb4-44e4-487f-ede9-3548e2717c2a"
      },
      "execution_count": null,
      "outputs": [
        {
          "output_type": "stream",
          "name": "stdout",
          "text": [
            "Enter a string: international\n",
            "Enter the starting letter: i\n",
            "Enter the ending letter: a\n",
            "The requested string is: i-n-t-e-r-n-a.\n"
          ]
        }
      ]
    },
    {
      "cell_type": "code",
      "source": [
        "dogs_count = input(\"Enter the number of dogs: \")\n",
        "cats_count = input(\"Enter the number of cats: \")\n",
        "\n",
        "if int(dogs_count) == 1:\n",
        "  if int(cats_count) == 1:\n",
        "    print(\"You have adopted 1 dog and 1 cat.\")\n",
        "  else:\n",
        "    print(\"You have adopted 1 dog and \" + cats_count + \" cats.\")\n",
        "else:\n",
        "  if int(cats_count) == 1:\n",
        "    print(\"You have adopted \" + dogs_count + \" dogs and 1 cat.\")\n",
        "  else:\n",
        "    print(\"You have adopted \" + dogs_count + \" dogs and \" + cats_count + \" cats.\")"
      ],
      "metadata": {
        "colab": {
          "base_uri": "https://localhost:8080/"
        },
        "id": "4IbB9xwkCOr6",
        "outputId": "c8bdd472-0c1b-4ef6-b101-9240100225d1"
      },
      "execution_count": null,
      "outputs": [
        {
          "output_type": "stream",
          "name": "stdout",
          "text": [
            "Enter the number of dogs: 234234\n",
            "Enter the number of cats: 234\n",
            "You have adopted 234234 dogs and 234 cats.\n"
          ]
        }
      ]
    },
    {
      "cell_type": "code",
      "source": [
        "from datetime import datetime\n",
        "first_name = input(\"Enter your first name: \")\n",
        "last_name = input(\"Enter your last name: \")\n",
        "dob = input(\"Enter your dob (DD-MM-YYYY): \")\n",
        "format_answer = input(\"Choose a format:  (A)bbreviated  (N)ormal: \")\n",
        "print(\"{0:<15}{1:<15}{2:<15}\".format(\"First Name\", \"Last Name\", \"Date of Birth\"))\n",
        "#N = ^ align and DD-MM-YYYY\n",
        "if format_answer == \"N\":\n",
        "  print(\"{0:^15}{1:^15}{2:^15}\".format(first_name, last_name, dob))\n",
        "#A = < align and DD/Mon/YYYY\n",
        "elif format_answer == \"A\":\n",
        "  a_dob = datetime.strptime(dob, '%d-%m-%Y')\n",
        "  print(\"{0:<15}{1:<15}{2:<15}\".format(first_name, last_name, a_dob.strftime('%d/%b/%Y')))\n",
        "#Else = first two columns < align, last column ^ align, and YYYY-MM-DD\n",
        "else:\n",
        "  a_dob = datetime.strptime(dob, '%d-%m-%Y')\n",
        "  print(\"{0:<15}{1:<15}{2:^15}\".format(first_name, last_name, a_dob.strftime('%Y-%m-%d')))\n",
        "\n",
        "\n",
        "\n"
      ],
      "metadata": {
        "colab": {
          "base_uri": "https://localhost:8080/"
        },
        "id": "XVlJ0A6VEGCM",
        "outputId": "5838eaa9-e033-4abe-f1b5-6d47fdac2ab5"
      },
      "execution_count": null,
      "outputs": [
        {
          "output_type": "stream",
          "name": "stdout",
          "text": [
            "Enter your first name: Harry\n",
            "Enter your last name: Poter\n",
            "Enter your dob (DD-MM-YYYY): 24-11-1992\n",
            "Choose a format:  (A)bbreviated  (N)ormal: A\n",
            "First Name     Last Name      Date of Birth  \n",
            "Harry          Poter          24/Nov/1992    \n"
          ]
        }
      ]
    },
    {
      "cell_type": "code",
      "source": [
        "\n",
        "pears_input = input(\"Which kind of pears would you like: (N)ashi 4.99/kilo (C)orella 5.99/kilo: \")\n",
        "if pears_input == \"N\":\n",
        "  pears_name = \"Nashi\"\n",
        "  pears_weight = input(\"How many kilograms of pears would you like: \")\n",
        "  pears_price = float(pears_weight) * 4.99\n",
        "  pears_unit = 4.99\n",
        "elif pears_input == \"C\":\n",
        "  pears_name = \"Corella\"\n",
        "  pears_weight = input(\"How many kilograms of pears would you like: \")\n",
        "  pears_price = float(pears_weight) * 5.99\n",
        "  pears_unit = 5.99\n",
        "else:\n",
        "  pears_weight = 0\n",
        "  pears_price = 0\n",
        "  pears_name = \"-\"\n",
        "  pears_unit = 0\n",
        "oranges_input = input(\"Which kind of oranges would you like: (H)amlin 2.99/kilo (M)oro 3.99/kilo: \")\n",
        "if oranges_input == \"H\":\n",
        "  oranges_name = \"Hamlin\"\n",
        "  oranges_weight = input(\"How many kilograms of oranges would you like: \")\n",
        "  oranges_price = float(oranges_weight) * 2.99\n",
        "  oranges_unit = 2.99\n",
        "elif oranges_input == \"M\":\n",
        "  oranges_name = \"Moro\"\n",
        "  oranges_weight = input(\"How many kilograms of oranges would you like: \")\n",
        "  oranges_price = float(oranges_weight) * 3.99\n",
        "  oranges_unit = 3.99\n",
        "else:\n",
        "  oranges_weight = 0\n",
        "  oranges_price = 0\n",
        "  oranges_name = \"-\"\n",
        "  oranges_unit = 0\n",
        "\n",
        "sum_total = oranges_price + pears_price\n",
        "\n",
        "print(\"{0:>15}{1:>15}{2:>15}{3:>15}\".format(\"Item\", \"Weight\", \"Unit Price\", \"Price\"))\n",
        "if pears_weight == 0:\n",
        "  print(\"{0:>15}{1:>15}{2:>15}{3:>15}\".format(pears_name, pears_weight, pears_unit, \"%.2f\" % round(pears_price, 2)))\n",
        "elif float(pears_weight).is_integer():\n",
        "  print(\"{0:>15}{1:>15}{2:>15}{3:>15}\".format(pears_name, \"%.1f\" % float(pears_weight), pears_unit, \"%.2f\" % round(pears_price, 2)))\n",
        "else:\n",
        "  print(\"{0:>15}{1:>15}{2:>15}{3:>15}\".format(pears_name, pears_weight, pears_unit, \"%.2f\" % round(pears_price, 2)))\n",
        "if oranges_weight == 0:\n",
        "  print(\"{0:>15}{1:>15}{2:>15}{3:>15}\".format(oranges_name, oranges_weight, oranges_unit, \"%.2f\" % round(oranges_price, 2)))\n",
        "elif float(oranges_weight).is_integer():\n",
        "  print(\"{0:>15}{1:>15}{2:>15}{3:>15}\".format(oranges_name, \"%.1f\" % float(oranges_weight), oranges_unit, \"%.2f\" % round(oranges_price, 2)))\n",
        "else:\n",
        "  print(\"{0:>15}{1:>15}{2:>15}{3:>15}\".format(oranges_name, oranges_weight, oranges_unit, \"%.2f\" % round(oranges_price, 2)))\n",
        "print(\"{0:>15}{1:>15}{2:>15}{3:>15}\".format(\"Total\", \"\", \"\", \"%.2f\" % round(sum_total, 2)))\n"
      ],
      "metadata": {
        "colab": {
          "base_uri": "https://localhost:8080/"
        },
        "id": "xyqJH10YM8GE",
        "outputId": "ec95cfda-eda8-4202-da59-4e5fe834c597"
      },
      "execution_count": null,
      "outputs": [
        {
          "output_type": "stream",
          "name": "stdout",
          "text": [
            "Which kind of pears would you like: (N)ashi 4.99/kilo (C)orella 5.99/kilo: C\n",
            "How many kilograms of pears would you like: 2\n",
            "Which kind of oranges would you like: (H)amlin 2.99/kilo (M)oro 3.99/kilo: z\n",
            "           Item         Weight     Unit Price          Price\n",
            "        Corella            2.0           5.99          11.98\n",
            "              -              0              0           0.00\n",
            "          Total                                        11.98\n"
          ]
        }
      ]
    },
    {
      "cell_type": "code",
      "source": [
        "print(\"Alkali metals:\")\n",
        "print()\n",
        "print(\"{0:<15}{1:<10}{2:^25}{3:>15}\".format(\"Element\", \"Symbol\", \"Atomic number\", \"Atomic weight\"))\n",
        "print(\"{0:<15}{1:<10}{2:^25}{3:>15}\".format(\"Lithium\", \"Li\", \"3\", \"6.9400\"))\n",
        "print(\"{0:<15}{1:<10}{2:^25}{3:>15}\".format(\"Sodium\", \"Na\", \"11\", \"22.9900\"))\n",
        "print(\"{0:<15}{1:<10}{2:^25}{3:>15}\".format(\"Potassium\", \"K\", \"19\", \"39.0980\"))\n",
        "print(\"{0:<15}{1:<10}{2:^25}{3:>15}\".format(\"Rubidium\", \"Rb\", \"37\", \"85.4680\"))\n",
        "print(\"{0:<15}{1:<10}{2:^25}{3:>15}\".format(\"Caesium\", \"Cs\", \"55\", \"132.9050\"))\n",
        "print(\"{0:<15}{1:<10}{2:^25}{3:>15}\".format(\"Francium\", \"Fr\", \"87\", \"223.0000\"))"
      ],
      "metadata": {
        "colab": {
          "base_uri": "https://localhost:8080/"
        },
        "id": "CKIAo_c_MS0K",
        "outputId": "31b11646-ad7d-4810-b673-5ee84bafb5be"
      },
      "execution_count": null,
      "outputs": [
        {
          "output_type": "stream",
          "name": "stdout",
          "text": [
            "Alkali metals:\n",
            "\n",
            "Element        Symbol          Atomic number        Atomic weight\n",
            "Lithium        Li                    3                     6.9400\n",
            "Sodium         Na                   11                    22.9900\n",
            "Potassium      K                    19                    39.0980\n",
            "Rubidium       Rb                   37                    85.4680\n",
            "Caesium        Cs                   55                   132.9050\n",
            "Francium       Fr                   87                   223.0000\n"
          ]
        }
      ]
    },
    {
      "cell_type": "code",
      "source": [
        "first_name = input(\"Enter first name: \")\n",
        "last_name = input(\"Enter last name: \")\n",
        "age_var = input(\"Enter age: \")\n",
        "gpa_var = input(\"Enter GPA score: \")\n",
        "name_var = first_name + \" \" + last_name\n",
        "\n",
        "print(\"{0:<15}{1:>25}\".format(\"Name\", name_var))\n",
        "print(\"{0:<15}{1:>25}\".format(\"Age\", age_var))\n",
        "print(\"{0:<15}{1:>25}\".format(\"GPA score\", gpa_var))\n"
      ],
      "metadata": {
        "id": "yJPzHbWgNJPn",
        "outputId": "3a0e11c1-2736-487a-dd57-29e548a47221",
        "colab": {
          "base_uri": "https://localhost:8080/"
        }
      },
      "execution_count": null,
      "outputs": [
        {
          "output_type": "stream",
          "name": "stdout",
          "text": [
            "Enter first name: Bob\n",
            "Enter last name: Brown\n",
            "Enter age: 20\n",
            "Enter GPA score: 2.3\n",
            "Name                           Bob Brown\n",
            "Age                                   20\n",
            "GPA score                            2.3\n"
          ]
        }
      ]
    },
    {
      "cell_type": "code",
      "source": [
        "baggage_cost = 0\n",
        "adults = input(\"How many adult passengers ($100 each): \")\n",
        "kids = input(\"How many child passengers ($60 each): \")\n",
        "baggage = input(\"Add baggage (Y)es (N)o: \")\n",
        "if baggage == \"Y\":\n",
        "  bags = input(\"How many bags do you have (1) 15kg for $53.13 (2) 30 kg for $99.24: \")\n",
        "  if bags == \"0\":\n",
        "    baggage_cost = 0\n",
        "  elif bags == \"1\":\n",
        "    baggage_cost = 53.13\n",
        "  elif bags == \"2\":\n",
        "    baggage_cost = 99.24\n",
        "  else:\n",
        "    print(\"The heaviest baggage you can add is 30 kg for $99.24\")\n",
        "    baggage_cost = 99.24\n",
        "sum_cost = (int(adults) * 100) + (int(kids) * 60) + baggage_cost + 50\n",
        "print(\"Your ticket costs $\" + str(sum_cost) + \" (including Fuel Surcharge $50)\")"
      ],
      "metadata": {
        "colab": {
          "base_uri": "https://localhost:8080/"
        },
        "id": "b0KjrPnAnxDH",
        "outputId": "6eb8761c-b8c7-44b2-8d8c-018dc5122483"
      },
      "execution_count": null,
      "outputs": [
        {
          "output_type": "stream",
          "name": "stdout",
          "text": [
            "How many adult passengers ($100 each): 2\n",
            "How many child passengers ($60 each): 3\n",
            "Add baggage (Y)es (N)o: Y\n",
            "How many bags do you have (1) 15kg for $53.13 (2) 30 kg for $99.24: 2\n",
            "Your ticket costs $529.24 (including Fuel Surcharge $50)\n"
          ]
        }
      ]
    },
    {
      "cell_type": "code",
      "source": [],
      "metadata": {
        "id": "ySv_uP2WrIAG"
      },
      "execution_count": null,
      "outputs": []
    },
    {
      "cell_type": "code",
      "source": [
        "#>= 1 & <= 50 : $3 per item + $10 postage\n",
        "#>50 : $2/item\n",
        "\n",
        "items_num = input(\"Enter the number of items: \")\n",
        "print()\n",
        "print(\"Receipt:\")\n",
        "if (int(items_num) <= 50 and int(items_num) >= 1):\n",
        "  items_cost = int(items_num) * 3\n",
        "  cost_num = int(items_cost) + 10\n",
        "  print(items_num + \" items x $3 = $\" + str(items_cost))\n",
        "  print(\"Postage: $10\")\n",
        "  print(\"Total: $\" + str(cost_num))\n",
        "elif (int(items_num) > 50):\n",
        "  items_cost = int(items_num) * 2\n",
        "  print(items_num + \" items x $2 = $\" + str(items_cost))\n",
        "  print(\"Postage: free\")\n",
        "  print(\"Total: $\" + str(items_cost))\n"
      ],
      "metadata": {
        "colab": {
          "base_uri": "https://localhost:8080/"
        },
        "id": "-iajyrOtTVX0",
        "outputId": "e5ae6e6e-8c09-4cc1-f19e-c784d9ef2553"
      },
      "execution_count": null,
      "outputs": [
        {
          "output_type": "stream",
          "name": "stdout",
          "text": [
            "Enter the number of items: 55\n",
            "\n",
            "Receipt:\n",
            "55 items x $2 = $110\n",
            "Postage: $0\n",
            "Total: $110\n"
          ]
        }
      ]
    },
    {
      "cell_type": "code",
      "source": [
        "#>= 1 & <= 50 : $3 per item + $10 postage or $15 Registered or $20 Express\n",
        "#>50 : $2/item + free postage or $10 Registered or $17 Express\n",
        "\n",
        "items_num = input(\"Enter the number of items: \")\n",
        "ship_meth = input(\"Enter shipping method (s/r/e): \")\n",
        "print()\n",
        "print(\"Receipt:\")\n",
        "if (int(items_num) <= 50 and int(items_num) >= 1):\n",
        "  if (ship_meth == \"s\"):\n",
        "    postage_cost = 3\n",
        "    postage_meth = \"Standard\"\n",
        "  elif (ship_meth == \"r\"):\n",
        "    postage_cost = 15\n",
        "    postage_meth = \"Registered\"\n",
        "  elif (ship_meth == \"e\"):\n",
        "    postage_cost = 20\n",
        "    postage_meth = \"Express\"\n",
        "  items_cost = int(items_num) * 3\n",
        "  cost_num = int(items_cost) + postage_cost\n",
        "  print(items_num + \" items x $3 = $\" + str(items_cost))\n",
        "  print(postage_meth + \" post: $\" + str(postage_cost))\n",
        "  print(\"Total: $\" + str(cost_num))\n",
        "elif (int(items_num) > 50):\n",
        "  if (ship_meth == \"s\"):\n",
        "    postage_cost = 0\n",
        "    postage_meth = \"Standard\"\n",
        "  elif (ship_meth == \"r\"):\n",
        "    postage_cost = 10\n",
        "    postage_meth = \"Registered\"\n",
        "  elif (ship_meth == \"e\"):\n",
        "    postage_cost = 17\n",
        "    postage_meth = \"Express\"\n",
        "  items_cost = int(items_num) * 2\n",
        "  cost_num = int(items_cost) + postage_cost\n",
        "  print(items_num + \" items x $2 = $\" + str(items_cost))\n",
        "  print(postage_meth + \" post: $\" + str(postage_cost))\n",
        "  print(\"Total: $\" + str(cost_num))\n"
      ],
      "metadata": {
        "colab": {
          "base_uri": "https://localhost:8080/"
        },
        "id": "e0e8dB9hdAOh",
        "outputId": "00d361e8-afd0-48e8-c8b2-495a5252a186"
      },
      "execution_count": null,
      "outputs": [
        {
          "output_type": "stream",
          "name": "stdout",
          "text": [
            "Enter the number of items: 60\n",
            "Enter shipping method (s/r/e): e\n",
            "\n",
            "Receipt:\n",
            "60 items x $2 = $120\n",
            "Express post: $17\n",
            "Total: $137\n"
          ]
        }
      ]
    },
    {
      "cell_type": "code",
      "source": [
        "first_int = input(\"Enter the first integer: \")\n",
        "second_int = input(\"Enter the second integer: \")\n",
        "third_int = input(\"Enter the third integer: \")\n",
        "fourth_int = input(\"Enter the fourth integer: \")\n",
        "print()\n",
        "max_num = \"0\"\n",
        "min_num = \"0\"\n",
        "if int(first_int) >= int(second_int):\n",
        "  if int(first_int) >= int(third_int):\n",
        "    if int(first_int) >= int(fourth_int):\n",
        "      max_num = first_int\n",
        "    elif int(fourth_int) >= int(first_int):\n",
        "      max_num = fourth_int\n",
        "  elif int(third_int) >= int(first_int):\n",
        "    if int(third_int) >= int(fourth_int):\n",
        "      max_num = third_int\n",
        "    elif int(fourth_int) >= int(third_int):\n",
        "      max_num = fourth_int\n",
        "elif int(second_int) >= int(first_int):\n",
        "  if int(second_int) >= int(third_int):\n",
        "    if int(second_int) >= int(fourth_int):\n",
        "      max_num = second_int\n",
        "    elif int(fourth_int) >= int(second_int):\n",
        "      max_num = fourth_int\n",
        "  elif int(third_int) >= int(second_int):\n",
        "    if int(third_int) >= int(fourth_int):\n",
        "      max_num = third_int\n",
        "    elif int(fourth_int) >= int(third_int):\n",
        "      max_num = fourth_int\n",
        "\n",
        "if int(first_int) <= int(second_int):\n",
        "  if int(first_int) <= int(third_int):\n",
        "    if int(first_int) <= int(fourth_int):\n",
        "      min_num = first_int\n",
        "    elif int(fourth_int) <= int(first_int):\n",
        "      min_num = fourth_int\n",
        "  elif int(third_int) <= int(first_int):\n",
        "    if int(third_int) <= int(fourth_int):\n",
        "      min_num = third_int\n",
        "    elif int(fourth_int) <= int(third_int):\n",
        "      min_num = fourth_int\n",
        "elif int(second_int) <= int(first_int):\n",
        "  if int(second_int) <= int(third_int):\n",
        "    if int(second_int) <= int(fourth_int):\n",
        "      min_num = second_int\n",
        "    elif int(fourth_int) <= int(second_int):\n",
        "      min_num = fourth_int\n",
        "  elif int(third_int) <= int(second_int):\n",
        "    if int(third_int) <= int(fourth_int):\n",
        "      min_num = third_int\n",
        "    elif int(fourth_int) <= int(third_int):\n",
        "      min_num = fourth_int\n",
        "print(\"The minimum number is \" + min_num+ \" and the maximum number is \" + max_num +\".\")"
      ],
      "metadata": {
        "colab": {
          "base_uri": "https://localhost:8080/"
        },
        "id": "d37lCRqth8Qz",
        "outputId": "f5d7b012-f49c-4f96-86ec-1375aa5ca74f"
      },
      "execution_count": null,
      "outputs": [
        {
          "output_type": "stream",
          "name": "stdout",
          "text": [
            "Enter the first integer: 4\n",
            "Enter the second integer: 1\n",
            "Enter the third integer: 3\n",
            "Enter the fourth integer: 2\n",
            "\n",
            "The minimum number is 1 and the maximum number is 4.\n"
          ]
        }
      ]
    },
    {
      "cell_type": "code",
      "source": [
        "product_code = \"377B\"\n",
        "product_name = \"Beef Liquid Stock\"\n",
        "product_size = \"250mL\"\n",
        "product_price = 2.15\n",
        "\n",
        "print(product_code + \": \" + product_name + \", \" + product_size)\n",
        "print(product_name + \", \" + product_size + \", $\" + str(product_price))\n",
        "print(product_code + \": \" + product_name + \", {0}\".format(product_size))\n",
        "print(product_name + \", \" + product_size + \", ${0}\".format(product_price))"
      ],
      "metadata": {
        "colab": {
          "base_uri": "https://localhost:8080/"
        },
        "id": "TyzigR3wQm6q",
        "outputId": "38b3af5d-d2d5-4f2a-ad03-a60ba2e96306"
      },
      "execution_count": null,
      "outputs": [
        {
          "output_type": "stream",
          "name": "stdout",
          "text": [
            "377B: Beef Liquid Stock, 250mL\n",
            "Beef Liquid Stock, 250mL, $2.15\n",
            "377B: Beef Liquid Stock, 250mL\n",
            "Beef Liquid Stock, 250mL, $2.15\n"
          ]
        }
      ]
    },
    {
      "cell_type": "code",
      "source": [
        "#Enter number of cows to purchase: 1\n",
        "#Enter number of ducks to purchase: 3\n",
        "#Enter number of chicken to purchase: 4\n",
        "#Cost:\n",
        "#1 cow = 30 grassies\n",
        "#3 duck = 15 grassies\n",
        "#4 chick = 12 grassies\n",
        "#Total = 57 grassies\n",
        "\n",
        "cows = input(\"Enter number of cows to purchase: \")\n",
        "ducks = input(\"Enter number of ducks to purchase: \")\n",
        "chickens = input(\"Enter number of chicken to purchase: \")\n",
        "cows_answer = int(cows) * 30\n",
        "duck_answer = int(ducks) * 5\n",
        "chick_answer = int(chickens) * 3\n",
        "total_answer = cows_answer + duck_answer + chick_answer\n",
        "print(\"Cost:\")\n",
        "print(cows + \" cow = \" + str(cows_answer) + \" grassies\")\n",
        "print(ducks + \" duck = \" + str(duck_answer) + \" grassies\")\n",
        "print(chickens + \" chick = \" + str(chick_answer) + \" grassies\")\n",
        "print(\"Total = \" + str(total_answer) + \" grassies\")\n"
      ],
      "metadata": {
        "colab": {
          "base_uri": "https://localhost:8080/"
        },
        "id": "QffRW49cUUMu",
        "outputId": "7e08c08a-ac30-4d08-a73c-b4ce7518245e"
      },
      "execution_count": null,
      "outputs": [
        {
          "output_type": "stream",
          "name": "stdout",
          "text": [
            "Enter number of cows to purchase: 1\n",
            "Enter number of ducks to purchase: 3\n",
            "Enter number of chicken to purchase: 4\n",
            "Cost:\n",
            "1 cow = 30 grassies\n",
            "3 duck = 15 grassies\n",
            "4 chick = 12 grassies\n",
            "Total = 57 grassies\n"
          ]
        }
      ]
    },
    {
      "cell_type": "code",
      "source": [
        "book_name = input(\"Enter your favourite book name: \")\n",
        "author_name = input(\"Enter the author's name: \")\n",
        "print()\n",
        "print(\n",
        "    'Your favourite book is \"'\n",
        "    + book_name\n",
        "    + '\" written by \"'\n",
        "    + author_name\n",
        "    + '\".'\n",
        ")\n"
      ],
      "metadata": {
        "colab": {
          "base_uri": "https://localhost:8080/"
        },
        "id": "J3CxzINb6Rt3",
        "outputId": "f9bbabd7-26c7-415e-8843-d4ba1d45a7c7"
      },
      "execution_count": null,
      "outputs": [
        {
          "output_type": "stream",
          "name": "stdout",
          "text": [
            "Enter your favourite book name: The Odyssey\n",
            "Enter the author's name: Homer\n",
            "\n",
            "Your favourite book is \"The Odyssey\" written by \"Homer\".\n"
          ]
        }
      ]
    },
    {
      "cell_type": "code",
      "source": [
        "num_puppies = input(\"Enter the number of puppies: \")\n",
        "num_kitties = input(\"Enter the number of kitties: \")\n",
        "answer = (int(num_puppies) * 40) + (int(num_kitties) * 30)\n",
        "print(\n",
        "    \"You have adopted \"\n",
        "    + num_puppies\n",
        "    + \" puppies and \"\n",
        "    + num_kitties\n",
        "    + \" kitties.\"\n",
        ")\n",
        "print(\"The insurance fee is \" + str(answer) + \".\")"
      ],
      "metadata": {
        "colab": {
          "base_uri": "https://localhost:8080/"
        },
        "id": "ebbk30Lx9-Sx",
        "outputId": "b88dfdc7-4e55-43b7-c225-84287f70e0ed"
      },
      "execution_count": null,
      "outputs": [
        {
          "output_type": "stream",
          "name": "stdout",
          "text": [
            "Enter the number of puppies: 3\n",
            "Enter the number of kitties: 0\n",
            "You have adopted 3 puppies and 0 kitties.\n",
            "The insurance fee is 120.\n"
          ]
        }
      ]
    },
    {
      "cell_type": "code",
      "source": [
        "first = input(\"Enter the 1st positive integer: \")\n",
        "second = input(\"Enter the 2nd positive integer: \")\n",
        "third = input(\"Enter the 3rd positive integer: \")\n",
        "print(\"Here is the equation:\")\n",
        "answer = (int(first) * int(second)) + (int(first) * int(third)) + (int(second) * int(third))\n",
        "print(\n",
        "    first + \" X \" + second\n",
        "    + \" + \" + first + \" X \" + third\n",
        "    + \" + \" + second + \" X \" + third\n",
        "    + \" = \" + str(answer))"
      ],
      "metadata": {
        "colab": {
          "base_uri": "https://localhost:8080/"
        },
        "id": "caMsc8ah_jhg",
        "outputId": "3408fca3-7a35-4101-8127-69e0e35e79d6"
      },
      "execution_count": null,
      "outputs": [
        {
          "output_type": "stream",
          "name": "stdout",
          "text": [
            "Enter the 1st positive integer: 2\n",
            "Enter the 2nd positive integer: 3\n",
            "Enter the 3rd positive integer: 4\n",
            "Here is the equation:\n",
            "2 X 3 + 2 X 4 + 3 X 4 = 26\n"
          ]
        }
      ]
    },
    {
      "cell_type": "code",
      "source": [
        "first_code = input(\"Enter the first subject code: \")\n",
        "first_name = input(\"Enter the first subject name: \")\n",
        "first_credit = input(\"Enter the first credit point: \")\n",
        "second_code = input(\"Enter the second subject code: \")\n",
        "second_name = input(\"Enter the second subject name: \")\n",
        "second_credit = input(\"Enter the second credit point: \")\n",
        "answer = str(int(first_credit) + int(second_credit))\n",
        "print(\"Your enrolment details are as follows: \")\n",
        "print(\"{0:<10}{1:<40}{2:^15}\".format(\"Code\", \"Name\", \"Credit\"))\n",
        "print(\"{0:<10}{1:<40}{2:^15}\".format(first_code, first_name, first_credit))\n",
        "print(\"{0:<10}{1:<40}{2:^15}\".format(second_code, second_name, second_credit))\n",
        "print(\"{0:<10}{1:<40}{2:^15}\".format(\"Total\", \"\", answer))"
      ],
      "metadata": {
        "colab": {
          "base_uri": "https://localhost:8080/"
        },
        "id": "oGpCmeGmEB-q",
        "outputId": "964f9610-9258-4b2b-ef19-85d441c69ad8"
      },
      "execution_count": null,
      "outputs": [
        {
          "output_type": "stream",
          "name": "stdout",
          "text": [
            "Enter the first subject code: CSIT111\n",
            "Enter the first subject name: Programming Fundamentals\n",
            "Enter the first credit point: 6\n",
            "Enter the second subject code: CSIT242\n",
            "Enter the second subject name: Mobile Application Development\n",
            "Enter the second credit point: 3\n",
            "Your enrolment details are as follows: \n",
            "Code      Name                                        Credit     \n",
            "CSIT111   Programming Fundamentals                       6       \n",
            "CSIT242   Mobile Application Development                 3       \n",
            "Total                                                    9       \n"
          ]
        }
      ]
    },
    {
      "cell_type": "code",
      "source": [
        "print(\"{0:>10}{1:^30}{2:<10}\".format(\"Faces\", \"Name\", \"Vertices\"))\n",
        "print(\"{0:>10}{1:^30}{2:<10}\".format(\"4\", \"Tetrahedron\", \"4\"))\n",
        "print(\"{0:>10}{1:^30}{2:<10}\".format(\"6\", \"Cube\", \"8\"))\n",
        "print(\"{0:>10}{1:^30}{2:<10}\".format(\"8\", \"Octahedron\", \"6\"))\n",
        "print(\"{0:>10}{1:^30}{2:<10}\".format(\"12\", \"Dodecahedron\", \"20\"))\n",
        "print(\"{0:>10}{1:^30}{2:<10}\".format(\"20\", \"Icosahedron\", \"12\"))"
      ],
      "metadata": {
        "colab": {
          "base_uri": "https://localhost:8080/"
        },
        "id": "PyBkHbrUYCYT",
        "outputId": "5bf9cdb8-0915-4c2d-fe35-02dea9ae87f0"
      },
      "execution_count": null,
      "outputs": [
        {
          "output_type": "stream",
          "name": "stdout",
          "text": [
            "     Faces             Name             Vertices  \n",
            "         4         Tetrahedron          4         \n",
            "         6             Cube             8         \n",
            "         8          Octahedron          6         \n",
            "        12         Dodecahedron         20        \n",
            "        20         Icosahedron          12        \n"
          ]
        }
      ]
    },
    {
      "cell_type": "code",
      "source": [
        "print(\"{0:<10}{1:^30}{2:>10}\".format(\"|Faces     |\", \"Name\", \"|  Vertices|\"))\n",
        "print(\"{0:<10}{1:^30}{2:>10}\".format(\"|4         |\", \"Tetrahedron\", \"|         4|\"))\n",
        "print(\"{0:<10}{1:^30}{2:>10}\".format(\"|6         |\", \"Cube\", \"|         8|\"))\n",
        "print(\"{0:<10}{1:^30}{2:>10}\".format(\"|8         |\", \"Octahedron\", \"|         6|\"))\n",
        "print(\"{0:<10}{1:^30}{2:>10}\".format(\"|12        |\", \"Dodecahedron\", \"|        20|\"))\n",
        "print(\"{0:<10}{1:^30}{2:>10}\".format(\"|20        |\", \"Icosahedron\", \"|        12|\"))"
      ],
      "metadata": {
        "colab": {
          "base_uri": "https://localhost:8080/"
        },
        "id": "ExcTEt1Ebkqi",
        "outputId": "b7990944-90a0-4ba9-b7f3-fe9e0bd5b9a7"
      },
      "execution_count": null,
      "outputs": [
        {
          "output_type": "stream",
          "name": "stdout",
          "text": [
            "|Faces   |             Name             |Vertices|\n",
            "|4       |         Tetrahedron          |       4|\n",
            "|6       |             Cube             |       8|\n",
            "|8       |          Octahedron          |       6|\n",
            "|12      |         Dodecahedron         |      20|\n",
            "|20      |         Icosahedron          |      12|\n"
          ]
        }
      ]
    },
    {
      "cell_type": "code",
      "source": [
        "total_seconds = input(\"Enter seconds \")\n",
        "minutes = str(int(total_seconds) // 60)\n",
        "seconds = str(int(total_seconds) % 60)\n",
        "print(total_seconds + \" seconds Corresponds to \" + minutes + \" minutes and \" + seconds + \" seconds.\")"
      ],
      "metadata": {
        "colab": {
          "base_uri": "https://localhost:8080/"
        },
        "id": "wwf25uhWTBCr",
        "outputId": "62e88996-ad03-43d8-9d82-4c845205a310"
      },
      "execution_count": null,
      "outputs": [
        {
          "output_type": "stream",
          "name": "stdout",
          "text": [
            "Enter seconds 123\n",
            "123 seconds Corresponds to 2 minutes and 3 seconds.\n"
          ]
        }
      ]
    },
    {
      "cell_type": "code",
      "source": [
        "steps = input(\"Enter the number of steps from egg to frog: \")\n",
        "step = \"-->\"\n",
        "answer = step * int(steps)\n",
        "print(\"Here is the expected life cycle:\")\n",
        "print(\"egg\" + answer + \"frog\")"
      ],
      "metadata": {
        "colab": {
          "base_uri": "https://localhost:8080/"
        },
        "id": "rxtfzR4kINUe",
        "outputId": "dbc3498e-cfe5-4053-d6b6-2bfd1d50450a"
      },
      "execution_count": null,
      "outputs": [
        {
          "output_type": "stream",
          "name": "stdout",
          "text": [
            "Enter the number of steps from egg to frog: 4\n",
            "Here is the expected life cycle:\n",
            "egg-->-->-->-->frog\n"
          ]
        }
      ]
    },
    {
      "cell_type": "code",
      "source": [
        "product_code = \"377B\"\n",
        "product_name = \"Beef Liquid Stock\"\n",
        "product_size = \"250mL\"\n",
        "product_price = 2.15\n",
        "\n",
        "print(product_name + \", \" + product_size + \", \" + str(product_price))"
      ],
      "metadata": {
        "colab": {
          "base_uri": "https://localhost:8080/"
        },
        "id": "_vLMjWo7NByv",
        "outputId": "f51c90fb-0e73-42e3-a9ec-4a52f67b5043"
      },
      "execution_count": null,
      "outputs": [
        {
          "output_type": "stream",
          "name": "stdout",
          "text": [
            "Beef Liquid Stock, 250mL, 2.15\n"
          ]
        }
      ]
    },
    {
      "cell_type": "code",
      "source": [
        "first_number = input(\"Enter the first integer: \")\n",
        "second_number = input(\"Enter the second integer: \")\n",
        "third_number = input(\"Enter the third integer: \")\n",
        "answer = (int(first_number) * int(first_number)) + (int(second_number) * int(second_number)) + (int(third_number) * int(third_number))\n",
        "first_answer = int(first_number) * int(first_number)\n",
        "second_answer = int(second_number) * int(second_number)\n",
        "third_answer = int(third_number) * int(third_number)\n",
        "print(\"Here is the equation:\")\n",
        "print(first_number + \"x\" + first_number + \" + \" + second_number + \"x\" + second_number + \" + \" + third_number + \"x\" + third_number + \" = \" + str(first_answer) + \" + \" + str(second_answer) + \" + \" + str(third_answer) + \" = \" + str(answer))"
      ],
      "metadata": {
        "colab": {
          "base_uri": "https://localhost:8080/"
        },
        "id": "rJDRPUUUqmlv",
        "outputId": "832b31ad-d7d1-4bab-846a-41f84e08569c"
      },
      "execution_count": null,
      "outputs": [
        {
          "output_type": "stream",
          "name": "stdout",
          "text": [
            "Enter the first integer: 6\n",
            "Enter the second integer: 4\n",
            "Enter the third integer: 3\n",
            "Here is the equation:\n",
            "6x6 + 4x4 + 3x3 = 36 + 16 + 6 = 61\n"
          ]
        }
      ]
    },
    {
      "cell_type": "code",
      "source": [
        "inputted_text = input(\"Please insert your numbers: \")\n",
        "text_list = inputted_text.split(\",\")\n",
        "print(text_list)"
      ],
      "metadata": {
        "colab": {
          "base_uri": "https://localhost:8080/"
        },
        "id": "AmaQjR-eURpB",
        "outputId": "5e9f1a9c-14a1-4a45-cbc8-c34294dd2980"
      },
      "execution_count": null,
      "outputs": [
        {
          "output_type": "stream",
          "name": "stdout",
          "text": [
            "Please insert your numbers: 10, 34, 56\n",
            "['10', ' 34', ' 56']\n"
          ]
        }
      ]
    },
    {
      "cell_type": "code",
      "source": [
        "sample_answer = float(input(\"Please enter number with 5 decimal places\"))\n",
        "print(\"%.2f\" % round(sample_answer, 2))"
      ],
      "metadata": {
        "colab": {
          "base_uri": "https://localhost:8080/"
        },
        "id": "lNP6FMh2V_71",
        "outputId": "269e7456-a39e-42d5-aef0-73e66a0a6e7e"
      },
      "execution_count": null,
      "outputs": [
        {
          "output_type": "stream",
          "name": "stdout",
          "text": [
            "Please enter number with 5 decimal places34.12345\n",
            "34.12\n"
          ]
        }
      ]
    },
    {
      "cell_type": "code",
      "source": [
        "import math\n",
        "question = float(input())\n",
        "answer = round(math.ceil(question) * 2, 0)/2\n",
        "print(answer)"
      ],
      "metadata": {
        "colab": {
          "base_uri": "https://localhost:8080/"
        },
        "id": "18ypfgAadq5Q",
        "outputId": "4b2717eb-0ed6-4f75-baf2-f556bfced5e8"
      },
      "execution_count": null,
      "outputs": [
        {
          "output_type": "stream",
          "name": "stdout",
          "text": [
            "55.33\n",
            "56.0\n"
          ]
        }
      ]
    },
    {
      "cell_type": "code",
      "source": [
        "n1 = 2\n",
        "print(str(n1*n1))"
      ],
      "metadata": {
        "colab": {
          "base_uri": "https://localhost:8080/"
        },
        "id": "Ojw8BeApjZQo",
        "outputId": "f97a84fc-ff75-4b44-9528-6163918e118d"
      },
      "execution_count": null,
      "outputs": [
        {
          "output_type": "stream",
          "name": "stdout",
          "text": [
            "4\n"
          ]
        }
      ]
    },
    {
      "cell_type": "code",
      "source": [
        "first_number = input(\"Enter the 1st number: \")\n",
        "second_number = input(\"Enter the 2nd number: \")\n",
        "answer = float(first_number) + float(second_number)\n",
        "print(\"The sum of \" + str(first_number) + \" and \" + str(second_number) + \" is \" + str(answer))"
      ],
      "metadata": {
        "colab": {
          "base_uri": "https://localhost:8080/"
        },
        "id": "B9HWi5r8rveI",
        "outputId": "373e4e8a-e808-4f61-f438-4e81a1b00953"
      },
      "execution_count": null,
      "outputs": [
        {
          "output_type": "stream",
          "name": "stdout",
          "text": [
            "Enter the 1st number: 2.1\n",
            "Enter the 2nd number: 3.2\n",
            "The sum of 2.1 and 3.2 is 5.300000000000001\n"
          ]
        }
      ]
    },
    {
      "cell_type": "code",
      "source": [
        "first_var = \"Thursday July 30 at 7.15pm\"\n",
        "second_var = \"Inside Out\"\n",
        "print(first_var + \": \" + '\"' + second_var + '\"')"
      ],
      "metadata": {
        "colab": {
          "base_uri": "https://localhost:8080/"
        },
        "id": "cAIr7bkosfkv",
        "outputId": "3de4c583-5b16-489f-d38c-6851ce97b5da"
      },
      "execution_count": null,
      "outputs": [
        {
          "output_type": "stream",
          "name": "stdout",
          "text": [
            "Thursday July 30 at 7.15pm: \"Inside Out\"\n"
          ]
        }
      ]
    },
    {
      "cell_type": "code",
      "source": [],
      "metadata": {
        "id": "MLXOB3ypCv-A"
      },
      "execution_count": null,
      "outputs": []
    },
    {
      "cell_type": "code",
      "source": [
        "def getAllergies():\n",
        "  allergies = []\n",
        "  knownAllergiesHeadings = \"\"\n",
        "  for i in range(len(Recommender.knownAllergies)):\n",
        "    knownAllergiesHeadings = knownAllergiesHeadings + \" \" + Recommender.knownAllergies[i][0]\n",
        "  while True:\n",
        "    try:\n",
        "      print(\"Do you have any of the following allergies (Yes/No)\")\n",
        "      prompt_allergy = input(knownAllergiesHeadings).lower()\n",
        "      if prompt_allergy == \"no\" or prompt_allergy == \"n\":\n",
        "        break\n",
        "      elif prompt_allergy == \"yes\" or prompt_allergy == \"y\":\n",
        "        while True:\n",
        "          try:\n",
        "            add_allergy = input(\"Please enter your allergy (one at a time) or type No to continue\").lower()\n",
        "            if add_allergy  == \"no\" or add_allergy == \"n\":\n",
        "              break\n",
        "            elif add_allergy == \"\":\n",
        "              raise ValueError(\"allergy cannot be blank\")\n",
        "            elif add_allergy in knownAllergiesHeadings:\n",
        "              allergies.append(add_allergy)\n",
        "            else:\n",
        "              raise ValueError(\"That allergy cannot be found, please try again\")\n",
        "          except ValueError as e:\n",
        "            print(e)\n",
        "      else:\n",
        "        raise ValueError(\"Incorrect input, please try again\")\n",
        "    except ValueError as e:\n",
        "      print(e)\n",
        "  return allergies\n"
      ],
      "metadata": {
        "id": "FSi7n6xTCwWw"
      },
      "execution_count": null,
      "outputs": []
    },
    {
      "cell_type": "code",
      "source": [
        "  def getDiet(self):\n",
        "    return self.servingAmounts, self.vegetableRecommendations, self.fruitRecommendations, self.grainRecommendations, self.meatRecommendationsself.dairyRecommendations\n",
        "\n",
        "  def printDiet(diet):\n",
        "    print(f\"person should have {diet.servingAmounts[0]} servings of Vegetables per day, this could include: \")\n",
        "    for i in diet.vegetableRecommendations:\n",
        "      print(i)\n",
        "    print()\n",
        "    print(f\"person should have {diet.servingAmounts[1]} servings of Fruit per day, this could include: \")\n",
        "    for i in diet.fruitRecommendations:\n",
        "      print(i)\n",
        "    print()\n",
        "    print(f\"person should have {diet.servingAmounts[2]} servings of Grain Foods per day, this could include: \")\n",
        "    for i in diet.grainRecommendations:\n",
        "      print(i)\n",
        "    print()\n",
        "    print(f\"person should have {diet.servingAmounts[3]} servings of Meat per day, this could include: \")\n",
        "    for i in diet.meatRecommendations:\n",
        "      print(i)\n",
        "    print()\n",
        "    print(f\"person should have {diet.servingAmounts[4]} servings of Dairy per day, this could include: \")\n",
        "    for i in diet.dairyRecommendations:\n",
        "      print(i)\n",
        "\n",
        "  def\n",
        "    print(f\"person should have {self.servingAmounts[0]} servings of Vegetables per day, this could include: \")\n",
        "    for i in diet.vegetableRecommendations:\n",
        "      print(i)\n",
        "    print()\n",
        "    print(f\"person should have {self.servingAmounts[1]} servings of Fruit per day, this could include: \")\n",
        "    for i in diet.fruitRecommendations:\n",
        "      print(i)\n",
        "    print()\n",
        "    print(f\"person should have {self.servingAmounts[2]} servings of Grain Foods per day, this could include: \")\n",
        "    for i in diet.grainRecommendations:\n",
        "      print(i)\n",
        "    print()\n",
        "    print(f\"person should have {self.servingAmounts[3]} servings of Meat per day, this could include: \")\n",
        "    for i in diet.meatRecommendations:\n",
        "      print(i)\n",
        "    print()\n",
        "    print(f\"person should have {self.servingAmounts[4]} servings of Dairy per day, this could include: \")\n",
        "    for i in diet.dairyRecommendations:\n",
        "      print(i)\n",
        "\n",
        "def createString(diet):\n",
        "    tempString = diet.servingAmounts[0] + \" servings of Vegetables per day, this could include: \\n\"\n",
        "    for i in diet.vegetableRecommendations:\n",
        "      tempString = tempString + i + \"\\n\"\n",
        "    tempString = tempString + diet.servingAmounts[1] + \" servings of Fruit per day, this could include: \\n\"\n",
        "    for i in diet.fruitRecommendations:\n",
        "      tempString = tempString + i + \"\\n\"\n",
        "    tempString = tempString + diet.servingAmounts[2] + \" servings of Grain Foods per day, this could include: \"\n",
        "    for i in diet.grainRecommendations:\n",
        "      tempString = tempString + i + \"\\n\"\n",
        "    tempString = tempString + diet.servingAmounts[3] + \" servings of Meat per day, this could include: \"\n",
        "    for i in diet.meatRecommendations:\n",
        "      tempString = tempString + i + \"\\n\"\n",
        "    tempString = tempString + diet.servingAmounts[4] + \" servings of Dairy per day, this could include: \"\n",
        "    for i in diet.dairyRecommendations:\n",
        "      tempString = tempString + i + \"\\n\"\n"
      ],
      "metadata": {
        "id": "9gCK0aF_9W68"
      },
      "execution_count": null,
      "outputs": []
    }
  ]
}